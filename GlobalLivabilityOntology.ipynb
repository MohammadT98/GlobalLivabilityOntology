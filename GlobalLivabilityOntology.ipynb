{
 "cells": [
  {
   "cell_type": "code",
   "execution_count": 3,
   "metadata": {},
   "outputs": [],
   "source": [
    "import pandas as pd\n",
    "import os\n",
    "from pathlib import Path\n",
    "\n",
    "from rdflib import Graph, Literal, RDF, URIRef, Namespace, BNode, OWL, RDFS\n",
    "\n",
    "from rdflib.namespace import XSD"
   ]
  },
  {
   "cell_type": "code",
   "execution_count": 4,
   "metadata": {},
   "outputs": [],
   "source": [
    "current_path = os.getcwd()\n",
    "\n",
    "countryURL = os.path.join(current_path, 'Datasets', 'Country.csv')\n",
    "\n",
    "accessibilityURL = os.path.join(current_path, 'Datasets', 'Accessibility.csv')\n",
    "conflictURL = os.path.join(current_path, 'Datasets', 'Conflict.csv')\n",
    "economyURL = os.path.join(current_path, 'Datasets', 'Economy.csv')\n",
    "educationURL = os.path.join(current_path, 'Datasets', 'Education.csv')\n",
    "freedomURL = os.path.join(current_path, 'Datasets', 'Freedom.csv')\n",
    "friendlinessURL = os.path.join(current_path, 'Datasets', 'Friendliness.csv')\n",
    "happinessURL = os.path.join(current_path, 'Datasets', 'Happiness.csv')\n",
    "hardworkingURL = os.path.join(current_path, 'Datasets', 'Hardworking.csv')\n",
    "naturalDisasterURL = os.path.join(current_path, 'Datasets', 'NaturalDisaster.csv')\n",
    "peaceURL = os.path.join(current_path, 'Datasets', 'Peace.csv')\n",
    "peopleBeautyURL = os.path.join(current_path, 'Datasets', 'PeopleBeauty.csv')\n",
    "populationURL = os.path.join(current_path, 'Datasets', 'Population.csv')\n",
    "religionURL = os.path.join(current_path, 'Datasets', 'Religion.csv')\n",
    "travelURL = os.path.join(current_path, 'Datasets', 'Travel.csv')"
   ]
  },
  {
   "cell_type": "code",
   "execution_count": 5,
   "metadata": {},
   "outputs": [],
   "source": [
    "GLO = Namespace(\"http://www.dei.unipd.it/database2/LinkedinJobPosting#\")"
   ]
  },
  {
   "cell_type": "markdown",
   "metadata": {},
   "source": [
    "## Country"
   ]
  },
  {
   "cell_type": "code",
   "execution_count": 6,
   "metadata": {},
   "outputs": [],
   "source": [
    "countryDF = pd.read_csv(countryURL, sep=',', index_col='country')"
   ]
  },
  {
   "cell_type": "code",
   "execution_count": 10,
   "metadata": {},
   "outputs": [],
   "source": [
    "grph = Graph()\n",
    "\n",
    "grph.bind(\"xsd\", XSD)\n",
    "grph.bind(\"glo\", GLO)"
   ]
  },
  {
   "cell_type": "code",
   "execution_count": 11,
   "metadata": {},
   "outputs": [
    {
     "data": {
      "text/plain": [
       "<Graph identifier=Ncdb782aa79904305b3bb6026bd8b6493 (<class 'rdflib.graph.Graph'>)>"
      ]
     },
     "execution_count": 11,
     "metadata": {},
     "output_type": "execute_result"
    }
   ],
   "source": [
    "for index, row in countryDF.iterrows():\n",
    "   \n",
    "    countryId = str(index)\n",
    "    Country = URIRef(GLO[countryId])\n",
    "    grph.add((Country, RDF.type, GLO.Country))\n",
    "\n",
    "    grph.add((Country, GLO['country'], Literal(index, datatype=XSD.string)))\n",
    "    grph.add((Country, GLO['name'], Literal(row['name'], datatype=XSD.string)))\n",
    "    grph.add((Country, GLO['fullName'], Literal(row['fullName'], datatype=XSD.string)))\n",
    "    grph.add((Country, GLO['language'], Literal(row['language'], datatype=XSD.string)))\n",
    "    grph.add((Country, GLO['currency'], Literal(row['currency'], datatype=XSD.string)))\n",
    "    grph.add((Country, GLO['capitalCity'], Literal(row['capitalCity'], datatype=XSD.string)))\n",
    "    grph.add((Country, GLO['region'], Literal(row['region'], datatype=XSD.string)))\n",
    "    grph.add((Country, GLO['continent'], Literal(row['continent'], datatype=XSD.string)))\n",
    "    grph.add((Country, GLO['latitude'], Literal(row['latitude'], datatype=XSD.float)))\n",
    "    grph.add((Country, GLO['longitude'], Literal(row['longitude'], datatype=XSD.float)))\n",
    "\n",
    "grph.serialize(destination = os.path.join(current_path, 'PopulatedData', 'Country.ttl'), format = 'turtle')"
   ]
  },
  {
   "cell_type": "markdown",
   "metadata": {},
   "source": [
    "## Accessibility"
   ]
  },
  {
   "cell_type": "code",
   "execution_count": null,
   "metadata": {},
   "outputs": [],
   "source": [
    "accessibilityDF = pd.read_csv(accessibilityURL, sep=',', index_col='country')"
   ]
  },
  {
   "cell_type": "code",
   "execution_count": null,
   "metadata": {},
   "outputs": [],
   "source": [
    "grph = Graph()\n",
    "\n",
    "grph.bind(\"xsd\", XSD)\n",
    "grph.bind(\"glo\", GLO)"
   ]
  },
  {
   "cell_type": "code",
   "execution_count": null,
   "metadata": {},
   "outputs": [],
   "source": [
    "for index, row in accessibilityDF.iterrows():\n",
    "   \n",
    "    accessibilityId = str(index)\n",
    "    Accessibility = URIRef(GLO[accessibilityId])\n",
    "    grph.add((Accessibility, RDF.type, GLO.Accessibility))\n",
    "\n",
    "    grph.add((Accessibility, GLO['country'], Literal(index, datatype=XSD.string)))\n",
    "    grph.add((Country, GLO[''], Literal(row['electricity_access_pct'], datatype=XSD.string)))\n",
    "    grph.add((Country, GLO[''], Literal(row['internet_pct'], datatype=XSD.string)))\n",
    "    grph.add((Country, GLO[''], Literal(row['InternetSpeedsFixedBroadbandDownloadSpeed'], datatype=XSD.string)))\n",
    "    grph.add((Country, GLO[''], Literal(row['BestHealthcareInTheWorldLegatumProsperityIndexHealthScore2023'], datatype=XSD.string)))\n",
    "    grph.add((Country, GLO[''], Literal(row['CountriesWithoutMcDonalds'], datatype=XSD.string)))\n",
    "\n",
    "    grph.serialize(destination = os.path.join(current_path, 'PopulatedData', 'Accessibility.ttl'), format = 'turtle')"
   ]
  },
  {
   "cell_type": "markdown",
   "metadata": {},
   "source": [
    "## Conflict"
   ]
  },
  {
   "cell_type": "code",
   "execution_count": null,
   "metadata": {},
   "outputs": [],
   "source": [
    "conflictDF = pd.read_csv(conflictURL, sep=',', index_col='country')"
   ]
  },
  {
   "cell_type": "code",
   "execution_count": null,
   "metadata": {},
   "outputs": [],
   "source": [
    "grph = Graph()\n",
    "\n",
    "grph.bind(\"xsd\", XSD)\n",
    "grph.bind(\"glo\", GLO)"
   ]
  },
  {
   "cell_type": "code",
   "execution_count": null,
   "metadata": {},
   "outputs": [],
   "source": [
    "for index, row in conflictDF.iterrows():\n",
    "   \n",
    "    conflictId = str(index)\n",
    "    Conflict = URIRef(GLO[conflictId])\n",
    "    grph.add((Conflict, RDF.type, GLO.Conflict))\n",
    "\n",
    "    grph.add((Conflict, GLO['country'], Literal(index, datatype=XSD.string)))\n",
    "    grph.add((Country, GLO[''], Literal(row['Date'], datatype=XSD.string)))\n",
    "    grph.add((Country, GLO[''], Literal(row['Until'], datatype=XSD.string)))\n",
    "    grph.add((Country, GLO[''], Literal(row['Headline'], datatype=XSD.string)))\n",
    "    grph.add((Country, GLO[''], Literal(row['Description'], datatype=XSD.string)))\n",
    "    grph.add((Country, GLO[''], Literal(row['Sources'], datatype=XSD.string)))\n",
    "\n",
    "    grph.serialize(destination = os.path.join(current_path, 'PopulatedData', 'Conflict.ttl'), format = 'turtle')"
   ]
  },
  {
   "cell_type": "markdown",
   "metadata": {},
   "source": [
    "## Economy"
   ]
  },
  {
   "cell_type": "code",
   "execution_count": null,
   "metadata": {},
   "outputs": [],
   "source": [
    "economyDF = pd.read_csv(economyURL, sep=',', index_col='country')"
   ]
  },
  {
   "cell_type": "code",
   "execution_count": null,
   "metadata": {},
   "outputs": [],
   "source": [
    "grph = Graph()\n",
    "\n",
    "grph.bind(\"xsd\", XSD)\n",
    "grph.bind(\"glo\", GLO)"
   ]
  },
  {
   "cell_type": "code",
   "execution_count": null,
   "metadata": {},
   "outputs": [],
   "source": [
    "for index, row in economyDF.iterrows():\n",
    "   \n",
    "    economyId = str(index)\n",
    "    Economy = URIRef(GLO[economyId])\n",
    "    grph.add((Economy, RDF.type, GLO.Economy))\n",
    "\n",
    "    grph.add((Economy, GLO['country'], Literal(index, datatype=XSD.string)))\n",
    "    grph.add((Country, GLO[''], Literal(row['gdp'], datatype=XSD.string)))\n",
    "    grph.add((Country, GLO[''], Literal(row['inflation'], datatype=XSD.string)))\n",
    "    grph.add((Country, GLO[''], Literal(row['tax_revenue_pct_gdp'], datatype=XSD.string)))\n",
    "    grph.add((Country, GLO[''], Literal(row['unemployment_pct'], datatype=XSD.string)))\n",
    "\n",
    "    grph.serialize(destination = os.path.join(current_path, 'PopulatedData', 'Economy.ttl'), format = 'turtle')"
   ]
  },
  {
   "cell_type": "markdown",
   "metadata": {},
   "source": [
    "## Education"
   ]
  },
  {
   "cell_type": "code",
   "execution_count": null,
   "metadata": {},
   "outputs": [],
   "source": [
    "educationDF = pd.read_csv(educationURL, sep=',', index_col='country')"
   ]
  },
  {
   "cell_type": "code",
   "execution_count": null,
   "metadata": {},
   "outputs": [],
   "source": [
    "grph = Graph()\n",
    "\n",
    "grph.bind(\"xsd\", XSD)\n",
    "grph.bind(\"glo\", GLO)"
   ]
  },
  {
   "cell_type": "code",
   "execution_count": null,
   "metadata": {},
   "outputs": [],
   "source": [
    "for index, row in educationDF.iterrows():\n",
    "   \n",
    "    educationId = str(index)\n",
    "    Education = URIRef(GLO[educationId])\n",
    "    grph.add((Education, RDF.type, GLO.Education))\n",
    "\n",
    "    grph.add((Education, GLO['country'], Literal(index, datatype=XSD.string)))\n",
    "    grph.add((Country, GLO[''], Literal(row['IQ'], datatype=XSD.string)))\n",
    "    grph.add((Country, GLO[''], Literal(row['education_expenditure'], datatype=XSD.string)))\n",
    "    grph.add((Country, GLO[''], Literal(row['EFEnglishProficiencyIndexProficiencyBands'], datatype=XSD.string)))\n",
    "\n",
    "    grph.serialize(destination = os.path.join(current_path, 'PopulatedData', 'Education.ttl'), format = 'turtle')"
   ]
  },
  {
   "cell_type": "markdown",
   "metadata": {},
   "source": [
    "## Freedom"
   ]
  },
  {
   "cell_type": "code",
   "execution_count": null,
   "metadata": {},
   "outputs": [],
   "source": [
    "freedomDF = pd.read_csv(freedomURL, sep=',', index_col='country')"
   ]
  },
  {
   "cell_type": "code",
   "execution_count": null,
   "metadata": {},
   "outputs": [],
   "source": [
    "grph = Graph()\n",
    "\n",
    "grph.bind(\"xsd\", XSD)\n",
    "grph.bind(\"glo\", GLO)"
   ]
  },
  {
   "cell_type": "code",
   "execution_count": null,
   "metadata": {},
   "outputs": [],
   "source": [
    "for index, row in freedomDF.iterrows():\n",
    "   \n",
    "    freedomId = str(index)\n",
    "    Freedom = URIRef(GLO[freedomId])\n",
    "    grph.add((Freedom, RDF.type, GLO.Freedom))\n",
    "\n",
    "    grph.add((Freedom, GLO['country'], Literal(index, datatype=XSD.string)))\n",
    "    grph.add((Country, GLO[''], Literal(row['democracy_score'], datatype=XSD.string)))\n",
    "    grph.add((Country, GLO[''], Literal(row['democracy_type'], datatype=XSD.string)))\n",
    "    grph.add((Country, GLO[''], Literal(row['currentLeadership'], datatype=XSD.string)))\n",
    "    grph.add((Country, GLO[''], Literal(row['InternetFreedomStatus'], datatype=XSD.string)))\n",
    "    grph.add((Country, GLO[''], Literal(row['CountriesWhereAlcoholIsIllegal'], datatype=XSD.string)))\n",
    "    grph.add((Country, GLO[''], Literal(row['countriesWhereAbortionIsIllegal_legality'], datatype=XSD.string)))\n",
    "    grph.add((Country, GLO[''], Literal(row['genderEqualityByCountry_gendEqal2021'], datatype=XSD.string)))\n",
    "    grph.add((Country, GLO[''], Literal(row['genderEqualityByCountry_econ'], datatype=XSD.string)))\n",
    "    grph.add((Country, GLO[''], Literal(row['genderEqualityByCountry_education'], datatype=XSD.string)))\n",
    "    grph.add((Country, GLO[''], Literal(row['genderEqualityByCountry_health'], datatype=XSD.string)))\n",
    "    grph.add((Country, GLO[''], Literal(row['genderEqualityByCountry_polit'], datatype=XSD.string)))\n",
    "    grph.add((Country, GLO[''], Literal(row['CountriesWhereWearingBurqaIsMandatoryHijabMandatory'], datatype=XSD.string)))\n",
    "    grph.add((Country, GLO[''], Literal(row['countriesWithMandatoryMilitaryService_mandatoryService'], datatype=XSD.string)))\n",
    "    grph.add((Country, GLO[''], Literal(row['LgbtqGAI'], datatype=XSD.string)))\n",
    "    grph.add((Country, GLO[''], Literal(row['LgbtqEEI'], datatype=XSD.string)))\n",
    "    grph.add((Country, GLO[''], Literal(row['LgbtqTSI'], datatype=XSD.string)))\n",
    "    grph.add((Country, GLO[''], Literal(row['LgbtqConsensualSameSexActs'], datatype=XSD.string)))\n",
    "    grph.add((Country, GLO[''], Literal(row['LgbtqDeathPenalty'], datatype=XSD.string)))\n",
    "    grph.add((Country, GLO[''], Literal(row['LgbtqMaxPenalty'], datatype=XSD.string)))\n",
    "    grph.add((Country, GLO[''], Literal(row['LgbtqSameSexUnions'], datatype=XSD.string)))\n",
    "    grph.add((Country, GLO[''], Literal(row['LgbtqSameSexMarriages'], datatype=XSD.string)))\n",
    "    grph.add((Country, GLO[''], Literal(row['LgbtqSameSexAdoptions'], datatype=XSD.string)))\n",
    "\n",
    "    grph.serialize(destination = os.path.join(current_path, 'PopulatedData', 'Freedom.ttl'), format = 'turtle')"
   ]
  },
  {
   "cell_type": "markdown",
   "metadata": {},
   "source": [
    "## Friendliness"
   ]
  },
  {
   "cell_type": "code",
   "execution_count": null,
   "metadata": {},
   "outputs": [],
   "source": [
    "friendlinessDF = pd.read_csv(friendlinessURL, sep=',', index_col='country')"
   ]
  },
  {
   "cell_type": "code",
   "execution_count": null,
   "metadata": {},
   "outputs": [],
   "source": [
    "grph = Graph()\n",
    "\n",
    "grph.bind(\"xsd\", XSD)\n",
    "grph.bind(\"glo\", GLO)"
   ]
  },
  {
   "cell_type": "code",
   "execution_count": null,
   "metadata": {},
   "outputs": [],
   "source": [
    "for index, row in friendlinessDF.iterrows():\n",
    "   \n",
    "    friendlinessId = str(index)\n",
    "    Friendliness = URIRef(GLO[friendlinessId])\n",
    "    grph.add((Friendliness, RDF.type, GLO.Friendliness))\n",
    "\n",
    "    grph.add((Friendliness, GLO['country'], Literal(index, datatype=XSD.string)))\n",
    "    grph.add((Country, GLO[''], Literal(row['friendliestCountries_ranking'], datatype=XSD.string)))\n",
    "    grph.add((Country, GLO[''], Literal(row['LeastRacistCountriesRacialEqualityRankings2023'], datatype=XSD.string)))\n",
    "    grph.add((Country, GLO[''], Literal(row['HomophobicRank2017'], datatype=XSD.string)))\n",
    "\n",
    "    grph.serialize(destination = os.path.join(current_path, 'PopulatedData', 'Friendliness.ttl'), format = 'turtle')"
   ]
  },
  {
   "cell_type": "markdown",
   "metadata": {},
   "source": [
    "## Happiness"
   ]
  },
  {
   "cell_type": "code",
   "execution_count": null,
   "metadata": {},
   "outputs": [],
   "source": [
    "happinessDF = pd.read_csv(happinessURL, sep=',', index_col='country')"
   ]
  },
  {
   "cell_type": "code",
   "execution_count": null,
   "metadata": {},
   "outputs": [],
   "source": [
    "grph = Graph()\n",
    "\n",
    "grph.bind(\"xsd\", XSD)\n",
    "grph.bind(\"glo\", GLO)"
   ]
  },
  {
   "cell_type": "code",
   "execution_count": null,
   "metadata": {},
   "outputs": [],
   "source": [
    "for index, row in happinessDF.iterrows():\n",
    "   \n",
    "    happinessId = str(index)\n",
    "    Happiness = URIRef(GLO[happinessId])\n",
    "    grph.add((Happiness, RDF.type, GLO.Happiness))\n",
    "\n",
    "    grph.add((Happiness, GLO['country'], Literal(index, datatype=XSD.string)))\n",
    "    grph.add((Country, GLO[''], Literal(row['Life Ladder'], datatype=XSD.string)))\n",
    "    grph.add((Country, GLO[''], Literal(row['Social support'], datatype=XSD.string)))\n",
    "    grph.add((Country, GLO[''], Literal(row['Healthy life expectancy at birth'], datatype=XSD.string)))\n",
    "    grph.add((Country, GLO[''], Literal(row['Freedom to make life choices'], datatype=XSD.string)))\n",
    "    grph.add((Country, GLO[''], Literal(row['Generosity'], datatype=XSD.string)))\n",
    "    grph.add((Country, GLO[''], Literal(row['Perceptions of corruption'], datatype=XSD.string)))\n",
    "    grph.add((Country, GLO[''], Literal(row['Positive affect'], datatype=XSD.string)))\n",
    "    grph.add((Country, GLO[''], Literal(row['Negative affect'], datatype=XSD.string)))\n",
    "    grph.add((Country, GLO[''], Literal(row['Confidence in national government'], datatype=XSD.string)))\n",
    "    grph.add((Country, GLO[''], Literal(row['suicide_rate'], datatype=XSD.string)))\n",
    "\n",
    "    grph.serialize(destination = os.path.join(current_path, 'PopulatedData', 'Happiness.ttl'), format = 'turtle')"
   ]
  },
  {
   "cell_type": "markdown",
   "metadata": {},
   "source": [
    "## Hardworking"
   ]
  },
  {
   "cell_type": "code",
   "execution_count": null,
   "metadata": {},
   "outputs": [],
   "source": [
    "hardworkingDF = pd.read_csv(hardworkingURL, sep=',', index_col='country')"
   ]
  },
  {
   "cell_type": "code",
   "execution_count": null,
   "metadata": {},
   "outputs": [],
   "source": [
    "grph = Graph()\n",
    "\n",
    "grph.bind(\"xsd\", XSD)\n",
    "grph.bind(\"glo\", GLO)"
   ]
  },
  {
   "cell_type": "code",
   "execution_count": null,
   "metadata": {},
   "outputs": [],
   "source": [
    "for index, row in hardworkingDF.iterrows():\n",
    "   \n",
    "    hardworkingId = str(index)\n",
    "    Hardworking = URIRef(GLO[hardworkingId])\n",
    "    grph.add((Hardworking, RDF.type, GLO.Hardworking))\n",
    "\n",
    "    grph.add((Hardworking, GLO['country'], Literal(index, datatype=XSD.string)))\n",
    "    grph.add((Country, GLO[''], Literal(row['averageWorkWeekByCountry_hpe'], datatype=XSD.string)))\n",
    "    grph.add((Country, GLO[''], Literal(row['averageWorkWeekByCountry_hpeDataYear'], datatype=XSD.string)))\n",
    "    grph.add((Country, GLO[''], Literal(row['mostOverworkedCountries_year2018'], datatype=XSD.string)))\n",
    "    grph.add((Country, GLO[''], Literal(row['CountriesWithTheMostHolidaysNumberOfPublicHolidays'], datatype=XSD.string)))\n",
    "\n",
    "    grph.serialize(destination = os.path.join(current_path, 'PopulatedData', 'Hardworking.ttl'), format = 'turtle')"
   ]
  },
  {
   "cell_type": "markdown",
   "metadata": {},
   "source": [
    "## NaturalDisaster"
   ]
  },
  {
   "cell_type": "code",
   "execution_count": null,
   "metadata": {},
   "outputs": [],
   "source": [
    "naturalDisasterDF = pd.read_csv(naturalDisasterURL, sep=',', index_col='country')"
   ]
  },
  {
   "cell_type": "code",
   "execution_count": null,
   "metadata": {},
   "outputs": [],
   "source": [
    "grph = Graph()\n",
    "\n",
    "grph.bind(\"xsd\", XSD)\n",
    "grph.bind(\"glo\", GLO)"
   ]
  },
  {
   "cell_type": "code",
   "execution_count": null,
   "metadata": {},
   "outputs": [],
   "source": [
    "for index, row in naturalDisasterDF.iterrows():\n",
    "   \n",
    "    naturalDisasterId = str(index)\n",
    "    NaturalDisaster = URIRef(GLO[naturalDisasterId])\n",
    "    grph.add((NaturalDisaster, RDF.type, GLO.NaturalDisaster))\n",
    "\n",
    "    grph.add((NaturalDisaster, GLO['country'], Literal(index, datatype=XSD.string)))\n",
    "    grph.add((Country, GLO[''], Literal(row['Year'], datatype=XSD.string)))\n",
    "    grph.add((Country, GLO[''], Literal(row['Disaster Type'], datatype=XSD.string)))\n",
    "    grph.add((Country, GLO[''], Literal(row['Entry Criteria'], datatype=XSD.string)))\n",
    "\n",
    "    grph.serialize(destination = os.path.join(current_path, 'PopulatedData', 'NaturalDisaster.ttl'), format = 'turtle')"
   ]
  },
  {
   "cell_type": "markdown",
   "metadata": {},
   "source": [
    "## Peace"
   ]
  },
  {
   "cell_type": "code",
   "execution_count": null,
   "metadata": {},
   "outputs": [],
   "source": [
    "peaceDF = pd.read_csv(peaceURL, sep=',', index_col='country')"
   ]
  },
  {
   "cell_type": "code",
   "execution_count": null,
   "metadata": {},
   "outputs": [],
   "source": [
    "grph = Graph()\n",
    "\n",
    "grph.bind(\"xsd\", XSD)\n",
    "grph.bind(\"glo\", GLO)"
   ]
  },
  {
   "cell_type": "code",
   "execution_count": null,
   "metadata": {},
   "outputs": [],
   "source": [
    "for index, row in peaceDF.iterrows():\n",
    "   \n",
    "    peaceId = str(index)\n",
    "    Peace = URIRef(GLO[peaceId])\n",
    "    grph.add((Peace, RDF.type, GLO.Peace))\n",
    "\n",
    "    grph.add((Peace, GLO['country'], Literal(index, datatype=XSD.string)))\n",
    "    grph.add((Country, GLO[''], Literal(row['MostPeaceful2023GPI'], datatype=XSD.string)))\n",
    "    grph.add((Country, GLO[''], Literal(row['MostPeaceful2022GPI'], datatype=XSD.string)))\n",
    "\n",
    "    grph.serialize(destination = os.path.join(current_path, 'PopulatedData', 'Peace.ttl'), format = 'turtle')"
   ]
  },
  {
   "cell_type": "markdown",
   "metadata": {},
   "source": [
    "## PeopleBeauty"
   ]
  },
  {
   "cell_type": "code",
   "execution_count": null,
   "metadata": {},
   "outputs": [],
   "source": [
    "peopleBeautyDF = pd.read_csv(peopleBeautyURL, sep=',', index_col='country')"
   ]
  },
  {
   "cell_type": "code",
   "execution_count": null,
   "metadata": {},
   "outputs": [],
   "source": [
    "grph = Graph()\n",
    "\n",
    "grph.bind(\"xsd\", XSD)\n",
    "grph.bind(\"glo\", GLO)"
   ]
  },
  {
   "cell_type": "code",
   "execution_count": null,
   "metadata": {},
   "outputs": [],
   "source": [
    "for index, row in peopleBeautyDF.iterrows():\n",
    "   \n",
    "    peopleBeautyId = str(index)\n",
    "    PeopleBeauty = URIRef(GLO[peopleBeautyId])\n",
    "    grph.add((PeopleBeauty, RDF.type, GLO.PeopleBeauty))\n",
    "\n",
    "    grph.add((PeopleBeauty, GLO['country'], Literal(index, datatype=XSD.string)))\n",
    "    grph.add((Country, GLO[''], Literal(row['mostBeautifulWomen'], datatype=XSD.string)))\n",
    "    grph.add((Country, GLO[''], Literal(row['mostHandsomeMen'], datatype=XSD.string)))\n",
    "\n",
    "    grph.serialize(destination = os.path.join(current_path, 'PopulatedData', 'PeopleBeauty.ttl'), format = 'turtle')"
   ]
  },
  {
   "cell_type": "markdown",
   "metadata": {},
   "source": [
    "## Population"
   ]
  },
  {
   "cell_type": "code",
   "execution_count": null,
   "metadata": {},
   "outputs": [],
   "source": [
    "populationDF = pd.read_csv(populationURL, sep=',', index_col='country')"
   ]
  },
  {
   "cell_type": "code",
   "execution_count": null,
   "metadata": {},
   "outputs": [],
   "source": [
    "grph = Graph()\n",
    "\n",
    "grph.bind(\"xsd\", XSD)\n",
    "grph.bind(\"glo\", GLO)"
   ]
  },
  {
   "cell_type": "code",
   "execution_count": null,
   "metadata": {},
   "outputs": [],
   "source": [
    "for index, row in populationDF.iterrows():\n",
    "   \n",
    "    populationId = str(index)\n",
    "    Population = URIRef(GLO[populationId])\n",
    "    grph.add((Population, RDF.type, GLO.Population))\n",
    "\n",
    "    grph.add((Population, GLO['country'], Literal(index, datatype=XSD.string)))\n",
    "    grph.add((Country, GLO[''], Literal(row['birth_rate'], datatype=XSD.string)))\n",
    "    grph.add((Country, GLO[''], Literal(row['death_rate'], datatype=XSD.string)))\n",
    "    grph.add((Country, GLO[''], Literal(row['life_expectancy'], datatype=XSD.string)))\n",
    "    grph.add((Country, GLO[''], Literal(row['population_female'], datatype=XSD.string)))\n",
    "    grph.add((Country, GLO[''], Literal(row['population_male'], datatype=XSD.string)))\n",
    "    grph.add((Country, GLO[''], Literal(row['population'], datatype=XSD.string)))\n",
    "    grph.add((Country, GLO[''], Literal(row['median_age'], datatype=XSD.string)))\n",
    "\n",
    "    grph.serialize(destination = os.path.join(current_path, 'PopulatedData', 'Population.ttl'), format = 'turtle')"
   ]
  },
  {
   "cell_type": "markdown",
   "metadata": {},
   "source": [
    "## Religion"
   ]
  },
  {
   "cell_type": "code",
   "execution_count": null,
   "metadata": {},
   "outputs": [],
   "source": [
    "religionDF = pd.read_csv(religionURL, sep=',', index_col='country')"
   ]
  },
  {
   "cell_type": "code",
   "execution_count": null,
   "metadata": {},
   "outputs": [],
   "source": [
    "grph = Graph()\n",
    "\n",
    "grph.bind(\"xsd\", XSD)\n",
    "grph.bind(\"glo\", GLO)"
   ]
  },
  {
   "cell_type": "code",
   "execution_count": null,
   "metadata": {},
   "outputs": [],
   "source": [
    "for index, row in religionDF.iterrows():\n",
    "   \n",
    "    religionId = str(index)\n",
    "    Religion = URIRef(GLO[religionId])\n",
    "    grph.add((Religion, RDF.type, GLO.Religion))\n",
    "\n",
    "    grph.add((Religion, GLO['country'], Literal(index, datatype=XSD.string)))\n",
    "    grph.add((Country, GLO[''], Literal(row['Year'], datatype=XSD.string)))\n",
    "    grph.add((Country, GLO[''], Literal(row['Sex'], datatype=XSD.string)))\n",
    "    grph.add((Country, GLO[''], Literal(row['Religion'], datatype=XSD.string)))\n",
    "    grph.add((Country, GLO[''], Literal(row['Value'], datatype=XSD.string)))\n",
    "    grph.add((Country, GLO[''], Literal(row['Gallup2022NonReligious'], datatype=XSD.string)))\n",
    "    grph.add((Country, GLO[''], Literal(row['Gallup2022Atheist'], datatype=XSD.string)))\n",
    "    grph.add((Country, GLO[''], Literal(row['Gallup2017Combined'], datatype=XSD.string)))\n",
    "    grph.add((Country, GLO[''], Literal(row['Pew2010Unaffiliated'], datatype=XSD.string)))\n",
    "\n",
    "    grph.serialize(destination = os.path.join(current_path, 'PopulatedData', 'Religion.ttl'), format = 'turtle')"
   ]
  },
  {
   "cell_type": "markdown",
   "metadata": {},
   "source": [
    "## Travel"
   ]
  },
  {
   "cell_type": "code",
   "execution_count": null,
   "metadata": {},
   "outputs": [],
   "source": [
    "travelDF = pd.read_csv(travelURL, sep=',', index_col='country')"
   ]
  },
  {
   "cell_type": "code",
   "execution_count": null,
   "metadata": {},
   "outputs": [],
   "source": [
    "grph = Graph()\n",
    "\n",
    "grph.bind(\"xsd\", XSD)\n",
    "grph.bind(\"glo\", GLO)"
   ]
  },
  {
   "cell_type": "code",
   "execution_count": null,
   "metadata": {},
   "outputs": [],
   "source": [
    "for index, row in travelDF.iterrows():\n",
    "   \n",
    "    travelId = str(index)\n",
    "    Travel = URIRef(GLO[travelId])\n",
    "    grph.add((Travel, RDF.type, GLO.Travel))\n",
    "\n",
    "    grph.add((Travel, GLO['country'], Literal(index, datatype=XSD.string)))\n",
    "    grph.add((Country, GLO[''], Literal(row['MostVisitedNumOfArrivals'], datatype=XSD.string)))\n",
    "    grph.add((Country, GLO[''], Literal(row['MostVisitedDataYear'], datatype=XSD.string)))\n",
    "    grph.add((Country, GLO[''], Literal(row['shareOfVisits'], datatype=XSD.string)))\n",
    "    grph.add((Country, GLO[''], Literal(row['WorstToVisitTravelAdvisoryQ42022'], datatype=XSD.string)))\n",
    "    grph.add((Country, GLO[''], Literal(row['WorstToVisitPossibleThreats'], datatype=XSD.string)))\n",
    "\n",
    "    grph.serialize(destination = os.path.join(current_path, 'PopulatedData', 'Travel.ttl'), format = 'turtle')"
   ]
  }
 ],
 "metadata": {
  "kernelspec": {
   "display_name": "Python 3",
   "language": "python",
   "name": "python3"
  },
  "language_info": {
   "codemirror_mode": {
    "name": "ipython",
    "version": 3
   },
   "file_extension": ".py",
   "mimetype": "text/x-python",
   "name": "python",
   "nbconvert_exporter": "python",
   "pygments_lexer": "ipython3",
   "version": "3.12.0"
  }
 },
 "nbformat": 4,
 "nbformat_minor": 2
}

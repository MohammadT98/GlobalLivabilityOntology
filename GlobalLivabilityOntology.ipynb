{
 "cells": [
  {
   "cell_type": "code",
   "execution_count": 3,
   "metadata": {},
   "outputs": [],
   "source": [
    "import pandas as pd\n",
    "import os\n",
    "from pathlib import Path\n",
    "\n",
    "from rdflib import Graph, Literal, RDF, URIRef, Namespace, BNode, OWL, RDFS\n",
    "\n",
    "from rdflib.namespace import XSD"
   ]
  },
  {
   "cell_type": "code",
   "execution_count": 4,
   "metadata": {},
   "outputs": [],
   "source": [
    "current_path = os.getcwd()\n",
    "\n",
    "countryURL = os.path.join(current_path, 'Datasets', 'Country.csv')\n",
    "\n",
    "accessibilityURL = os.path.join(current_path, 'Datasets', 'Accessibility.csv')\n",
    "conflictURL = os.path.join(current_path, 'Datasets', 'Conflict.csv')\n",
    "economyURL = os.path.join(current_path, 'Datasets', 'Economy.csv')\n",
    "educationURL = os.path.join(current_path, 'Datasets', 'Education.csv')\n",
    "freedomURL = os.path.join(current_path, 'Datasets', 'Freedom.csv')\n",
    "friendlinessURL = os.path.join(current_path, 'Datasets', 'Friendliness.csv')\n",
    "happinessURL = os.path.join(current_path, 'Datasets', 'Happiness.csv')\n",
    "hardworkingURL = os.path.join(current_path, 'Datasets', 'Hardworking.csv')\n",
    "naturalDisasterURL = os.path.join(current_path, 'Datasets', 'NaturalDisaster.csv')\n",
    "peopleBeautyURL = os.path.join(current_path, 'Datasets', 'PeopleBeauty.csv')\n",
    "populationURL = os.path.join(current_path, 'Datasets', 'Population.csv')\n",
    "religionURL = os.path.join(current_path, 'Datasets', 'Religion.csv')\n",
    "travelURL = os.path.join(current_path, 'Datasets', 'Travel.csv')\n",
    "\n",
    "output = os.path.join(current_path, 'Datasets', )"
   ]
  },
  {
   "cell_type": "code",
   "execution_count": 5,
   "metadata": {},
   "outputs": [],
   "source": [
    "GLO = Namespace(\"http://www.dei.unipd.it/database2/LinkedinJobPosting#\")"
   ]
  },
  {
   "cell_type": "markdown",
   "metadata": {},
   "source": [
    "## Country"
   ]
  },
  {
   "cell_type": "code",
   "execution_count": 6,
   "metadata": {},
   "outputs": [],
   "source": [
    "countryDF = pd.read_csv(countryURL, sep=',', index_col='country')"
   ]
  },
  {
   "cell_type": "code",
   "execution_count": 10,
   "metadata": {},
   "outputs": [],
   "source": [
    "grph = Graph()\n",
    "\n",
    "grph.bind(\"xsd\", XSD)\n",
    "grph.bind(\"glo\", GLO)"
   ]
  },
  {
   "cell_type": "code",
   "execution_count": 11,
   "metadata": {},
   "outputs": [
    {
     "data": {
      "text/plain": [
       "<Graph identifier=Ncdb782aa79904305b3bb6026bd8b6493 (<class 'rdflib.graph.Graph'>)>"
      ]
     },
     "execution_count": 11,
     "metadata": {},
     "output_type": "execute_result"
    }
   ],
   "source": [
    "for index, row in countryDF.iterrows():\n",
    "   \n",
    "    countryId = str(index)\n",
    "    Country = URIRef(GLO[countryId])\n",
    "    grph.add((Country, RDF.type, GLO.Country))\n",
    "\n",
    "    grph.add((Country, GLO['country'], Literal(index, datatype=XSD.string)))\n",
    "    grph.add((Country, GLO['name'], Literal(row['name'], datatype=XSD.string)))\n",
    "    grph.add((Country, GLO['fullName'], Literal(row['fullName'], datatype=XSD.string)))\n",
    "    grph.add((Country, GLO['language'], Literal(row['language'], datatype=XSD.string)))\n",
    "    grph.add((Country, GLO['currency'], Literal(row['currency'], datatype=XSD.string)))\n",
    "    grph.add((Country, GLO['capitalCity'], Literal(row['capitalCity'], datatype=XSD.string)))\n",
    "    grph.add((Country, GLO['region'], Literal(row['region'], datatype=XSD.string)))\n",
    "    grph.add((Country, GLO['continent'], Literal(row['continent'], datatype=XSD.string)))\n",
    "    grph.add((Country, GLO['latitude'], Literal(row['latitude'], datatype=XSD.float)))\n",
    "    grph.add((Country, GLO['longitude'], Literal(row['longitude'], datatype=XSD.float)))\n",
    "\n",
    "grph.serialize(destination = os.path.join(current_path, 'PopulatedData', 'Country.ttl'), format = 'turtle')"
   ]
  },
  {
   "cell_type": "markdown",
   "metadata": {},
   "source": [
    "## Accessibility"
   ]
  },
  {
   "cell_type": "code",
   "execution_count": null,
   "metadata": {},
   "outputs": [],
   "source": [
    "accessibilityDF = pd.read_csv(accessibilityURL, sep=',', index_col='country')"
   ]
  },
  {
   "cell_type": "code",
   "execution_count": null,
   "metadata": {},
   "outputs": [],
   "source": [
    "grph = Graph()\n",
    "\n",
    "grph.bind(\"xsd\", XSD)\n",
    "grph.bind(\"glo\", GLO)"
   ]
  },
  {
   "cell_type": "code",
   "execution_count": null,
   "metadata": {},
   "outputs": [],
   "source": [
    "for index, row in accessibilityDF.iterrows():\n",
    "   \n",
    "    accessibilityId = str(index)\n",
    "    Accessibility = URIRef(GLO[accessibilityId])\n",
    "    grph.add((Accessibility, RDF.type, GLO.Accessibility))\n",
    "\n",
    "    grph.add((Accessibility, GLO['country'], Literal(index, datatype=XSD.string)))\n",
    "\n",
    "    grph.serialize(destination = os.path.join(current_path, 'PopulatedData', 'Accessibility.ttl'), format = 'turtle')"
   ]
  },
  {
   "cell_type": "markdown",
   "metadata": {},
   "source": [
    "## Conflict"
   ]
  },
  {
   "cell_type": "code",
   "execution_count": null,
   "metadata": {},
   "outputs": [],
   "source": [
    "conflictDF = pd.read_csv(conflictURL, sep=',', index_col='country')"
   ]
  },
  {
   "cell_type": "code",
   "execution_count": null,
   "metadata": {},
   "outputs": [],
   "source": [
    "grph = Graph()\n",
    "\n",
    "grph.bind(\"xsd\", XSD)\n",
    "grph.bind(\"glo\", GLO)"
   ]
  },
  {
   "cell_type": "code",
   "execution_count": null,
   "metadata": {},
   "outputs": [],
   "source": [
    "for index, row in conflictDF.iterrows():\n",
    "   \n",
    "    conflictId = str(index)\n",
    "    Conflict = URIRef(GLO[conflictId])\n",
    "    grph.add((Conflict, RDF.type, GLO.Conflict))\n",
    "\n",
    "    grph.add((Conflict, GLO['country'], Literal(index, datatype=XSD.string)))\n",
    "\n",
    "    grph.serialize(destination = os.path.join(current_path, 'PopulatedData', 'Conflict.ttl'), format = 'turtle')"
   ]
  },
  {
   "cell_type": "markdown",
   "metadata": {},
   "source": [
    "## Economy"
   ]
  },
  {
   "cell_type": "code",
   "execution_count": null,
   "metadata": {},
   "outputs": [],
   "source": [
    "economyDF = pd.read_csv(economyURL, sep=',', index_col='country')"
   ]
  },
  {
   "cell_type": "code",
   "execution_count": null,
   "metadata": {},
   "outputs": [],
   "source": [
    "grph = Graph()\n",
    "\n",
    "grph.bind(\"xsd\", XSD)\n",
    "grph.bind(\"glo\", GLO)"
   ]
  },
  {
   "cell_type": "code",
   "execution_count": null,
   "metadata": {},
   "outputs": [],
   "source": [
    "for index, row in economyDF.iterrows():\n",
    "   \n",
    "    economyId = str(index)\n",
    "    Economy = URIRef(GLO[economyId])\n",
    "    grph.add((Economy, RDF.type, GLO.Economy))\n",
    "\n",
    "    grph.add((Economy, GLO['country'], Literal(index, datatype=XSD.string)))\n",
    "\n",
    "    grph.serialize(destination = os.path.join(current_path, 'PopulatedData', 'Economy.ttl'), format = 'turtle')"
   ]
  },
  {
   "cell_type": "markdown",
   "metadata": {},
   "source": [
    "## Education"
   ]
  },
  {
   "cell_type": "code",
   "execution_count": null,
   "metadata": {},
   "outputs": [],
   "source": [
    "educationDF = pd.read_csv(educationURL, sep=',', index_col='country')"
   ]
  },
  {
   "cell_type": "code",
   "execution_count": null,
   "metadata": {},
   "outputs": [],
   "source": [
    "grph = Graph()\n",
    "\n",
    "grph.bind(\"xsd\", XSD)\n",
    "grph.bind(\"glo\", GLO)"
   ]
  },
  {
   "cell_type": "code",
   "execution_count": null,
   "metadata": {},
   "outputs": [],
   "source": [
    "for index, row in educationDF.iterrows():\n",
    "   \n",
    "    educationId = str(index)\n",
    "    Education = URIRef(GLO[educationId])\n",
    "    grph.add((Education, RDF.type, GLO.Education))\n",
    "\n",
    "    grph.add((Education, GLO['country'], Literal(index, datatype=XSD.string)))\n",
    "\n",
    "    grph.serialize(destination = os.path.join(current_path, 'PopulatedData', 'Education.ttl'), format = 'turtle')"
   ]
  },
  {
   "cell_type": "markdown",
   "metadata": {},
   "source": [
    "## Freedom"
   ]
  },
  {
   "cell_type": "code",
   "execution_count": null,
   "metadata": {},
   "outputs": [],
   "source": [
    "freedomDF = pd.read_csv(freedomURL, sep=',', index_col='country')"
   ]
  },
  {
   "cell_type": "code",
   "execution_count": null,
   "metadata": {},
   "outputs": [],
   "source": [
    "grph = Graph()\n",
    "\n",
    "grph.bind(\"xsd\", XSD)\n",
    "grph.bind(\"glo\", GLO)"
   ]
  },
  {
   "cell_type": "code",
   "execution_count": null,
   "metadata": {},
   "outputs": [],
   "source": [
    "for index, row in freedomDF.iterrows():\n",
    "   \n",
    "    freedomId = str(index)\n",
    "    Freedom = URIRef(GLO[freedomId])\n",
    "    grph.add((Freedom, RDF.type, GLO.Freedom))\n",
    "\n",
    "    grph.add((Freedom, GLO['country'], Literal(index, datatype=XSD.string)))\n",
    "\n",
    "    grph.serialize(destination = os.path.join(current_path, 'PopulatedData', 'Freedom.ttl'), format = 'turtle')"
   ]
  },
  {
   "cell_type": "markdown",
   "metadata": {},
   "source": [
    "## Friendliness"
   ]
  },
  {
   "cell_type": "code",
   "execution_count": null,
   "metadata": {},
   "outputs": [],
   "source": [
    "friendlinessDF = pd.read_csv(friendlinessURL, sep=',', index_col='country')"
   ]
  },
  {
   "cell_type": "code",
   "execution_count": null,
   "metadata": {},
   "outputs": [],
   "source": [
    "grph = Graph()\n",
    "\n",
    "grph.bind(\"xsd\", XSD)\n",
    "grph.bind(\"glo\", GLO)"
   ]
  },
  {
   "cell_type": "code",
   "execution_count": null,
   "metadata": {},
   "outputs": [],
   "source": [
    "for index, row in friendlinessDF.iterrows():\n",
    "   \n",
    "    friendlinessId = str(index)\n",
    "    Friendliness = URIRef(GLO[friendlinessId])\n",
    "    grph.add((Friendliness, RDF.type, GLO.Friendliness))\n",
    "\n",
    "    grph.add((Friendliness, GLO['country'], Literal(index, datatype=XSD.string)))\n",
    "\n",
    "    grph.serialize(destination = os.path.join(current_path, 'PopulatedData', 'Friendliness.ttl'), format = 'turtle')"
   ]
  },
  {
   "cell_type": "markdown",
   "metadata": {},
   "source": [
    "## Happiness"
   ]
  },
  {
   "cell_type": "code",
   "execution_count": null,
   "metadata": {},
   "outputs": [],
   "source": [
    "happinessDF = pd.read_csv(happinessURL, sep=',', index_col='country')"
   ]
  },
  {
   "cell_type": "code",
   "execution_count": null,
   "metadata": {},
   "outputs": [],
   "source": [
    "grph = Graph()\n",
    "\n",
    "grph.bind(\"xsd\", XSD)\n",
    "grph.bind(\"glo\", GLO)"
   ]
  },
  {
   "cell_type": "code",
   "execution_count": null,
   "metadata": {},
   "outputs": [],
   "source": [
    "for index, row in happinessDF.iterrows():\n",
    "   \n",
    "    happinessId = str(index)\n",
    "    Happiness = URIRef(GLO[happinessId])\n",
    "    grph.add((Happiness, RDF.type, GLO.Happiness))\n",
    "\n",
    "    grph.add((Happiness, GLO['country'], Literal(index, datatype=XSD.string)))\n",
    "\n",
    "    grph.serialize(destination = os.path.join(current_path, 'PopulatedData', 'Happiness.ttl'), format = 'turtle')"
   ]
  },
  {
   "cell_type": "markdown",
   "metadata": {},
   "source": [
    "## Hardworking"
   ]
  },
  {
   "cell_type": "code",
   "execution_count": null,
   "metadata": {},
   "outputs": [],
   "source": [
    "hardworkingDF = pd.read_csv(hardworkingURL, sep=',', index_col='country')"
   ]
  },
  {
   "cell_type": "code",
   "execution_count": null,
   "metadata": {},
   "outputs": [],
   "source": [
    "grph = Graph()\n",
    "\n",
    "grph.bind(\"xsd\", XSD)\n",
    "grph.bind(\"glo\", GLO)"
   ]
  },
  {
   "cell_type": "code",
   "execution_count": null,
   "metadata": {},
   "outputs": [],
   "source": [
    "for index, row in hardworkingDF.iterrows():\n",
    "   \n",
    "    hardworkingId = str(index)\n",
    "    Hardworking = URIRef(GLO[hardworkingId])\n",
    "    grph.add((Hardworking, RDF.type, GLO.Hardworking))\n",
    "\n",
    "    grph.add((Hardworking, GLO['country'], Literal(index, datatype=XSD.string)))\n",
    "\n",
    "    grph.serialize(destination = os.path.join(current_path, 'PopulatedData', 'Hardworking.ttl'), format = 'turtle')"
   ]
  },
  {
   "cell_type": "markdown",
   "metadata": {},
   "source": [
    "## NaturalDisaster"
   ]
  },
  {
   "cell_type": "code",
   "execution_count": null,
   "metadata": {},
   "outputs": [],
   "source": [
    "naturalDisasterDF = pd.read_csv(naturalDisasterURL, sep=',', index_col='country')"
   ]
  },
  {
   "cell_type": "code",
   "execution_count": null,
   "metadata": {},
   "outputs": [],
   "source": [
    "grph = Graph()\n",
    "\n",
    "grph.bind(\"xsd\", XSD)\n",
    "grph.bind(\"glo\", GLO)"
   ]
  },
  {
   "cell_type": "code",
   "execution_count": null,
   "metadata": {},
   "outputs": [],
   "source": [
    "for index, row in naturalDisasterDF.iterrows():\n",
    "   \n",
    "    naturalDisasterId = str(index)\n",
    "    NaturalDisaster = URIRef(GLO[naturalDisasterId])\n",
    "    grph.add((NaturalDisaster, RDF.type, GLO.NaturalDisaster))\n",
    "\n",
    "    grph.add((NaturalDisaster, GLO['country'], Literal(index, datatype=XSD.string)))\n",
    "\n",
    "    grph.serialize(destination = os.path.join(current_path, 'PopulatedData', 'NaturalDisaster.ttl'), format = 'turtle')"
   ]
  },
  {
   "cell_type": "markdown",
   "metadata": {},
   "source": [
    "## PeopleBeauty"
   ]
  },
  {
   "cell_type": "code",
   "execution_count": null,
   "metadata": {},
   "outputs": [],
   "source": [
    "peopleBeautyDF = pd.read_csv(peopleBeautyURL, sep=',', index_col='country')"
   ]
  },
  {
   "cell_type": "code",
   "execution_count": null,
   "metadata": {},
   "outputs": [],
   "source": [
    "grph = Graph()\n",
    "\n",
    "grph.bind(\"xsd\", XSD)\n",
    "grph.bind(\"glo\", GLO)"
   ]
  },
  {
   "cell_type": "code",
   "execution_count": null,
   "metadata": {},
   "outputs": [],
   "source": [
    "for index, row in peopleBeautyDF.iterrows():\n",
    "   \n",
    "    peopleBeautyId = str(index)\n",
    "    PeopleBeauty = URIRef(GLO[peopleBeautyId])\n",
    "    grph.add((PeopleBeauty, RDF.type, GLO.PeopleBeauty))\n",
    "\n",
    "    grph.add((PeopleBeauty, GLO['country'], Literal(index, datatype=XSD.string)))\n",
    "\n",
    "    grph.serialize(destination = os.path.join(current_path, 'PopulatedData', 'PeopleBeauty.ttl'), format = 'turtle')"
   ]
  },
  {
   "cell_type": "markdown",
   "metadata": {},
   "source": [
    "## Population"
   ]
  },
  {
   "cell_type": "code",
   "execution_count": null,
   "metadata": {},
   "outputs": [],
   "source": [
    "populationDF = pd.read_csv(populationURL, sep=',', index_col='country')"
   ]
  },
  {
   "cell_type": "code",
   "execution_count": null,
   "metadata": {},
   "outputs": [],
   "source": [
    "grph = Graph()\n",
    "\n",
    "grph.bind(\"xsd\", XSD)\n",
    "grph.bind(\"glo\", GLO)"
   ]
  },
  {
   "cell_type": "code",
   "execution_count": null,
   "metadata": {},
   "outputs": [],
   "source": [
    "for index, row in populationDF.iterrows():\n",
    "   \n",
    "    populationId = str(index)\n",
    "    Population = URIRef(GLO[populationId])\n",
    "    grph.add((Population, RDF.type, GLO.Population))\n",
    "\n",
    "    grph.add((Population, GLO['country'], Literal(index, datatype=XSD.string)))\n",
    "\n",
    "    grph.serialize(destination = os.path.join(current_path, 'PopulatedData', 'Population.ttl'), format = 'turtle')"
   ]
  },
  {
   "cell_type": "markdown",
   "metadata": {},
   "source": [
    "## Religion"
   ]
  },
  {
   "cell_type": "code",
   "execution_count": null,
   "metadata": {},
   "outputs": [],
   "source": [
    "religionDF = pd.read_csv(religionURL, sep=',', index_col='country')"
   ]
  },
  {
   "cell_type": "code",
   "execution_count": null,
   "metadata": {},
   "outputs": [],
   "source": [
    "grph = Graph()\n",
    "\n",
    "grph.bind(\"xsd\", XSD)\n",
    "grph.bind(\"glo\", GLO)"
   ]
  },
  {
   "cell_type": "code",
   "execution_count": null,
   "metadata": {},
   "outputs": [],
   "source": [
    "for index, row in religionDF.iterrows():\n",
    "   \n",
    "    religionId = str(index)\n",
    "    Religion = URIRef(GLO[religionId])\n",
    "    grph.add((Religion, RDF.type, GLO.Religion))\n",
    "\n",
    "    grph.add((Religion, GLO['country'], Literal(index, datatype=XSD.string)))\n",
    "\n",
    "    grph.serialize(destination = os.path.join(current_path, 'PopulatedData', 'Religion.ttl'), format = 'turtle')"
   ]
  },
  {
   "cell_type": "markdown",
   "metadata": {},
   "source": [
    "## Travel"
   ]
  },
  {
   "cell_type": "code",
   "execution_count": null,
   "metadata": {},
   "outputs": [],
   "source": [
    "travelDF = pd.read_csv(travelURL, sep=',', index_col='country')"
   ]
  },
  {
   "cell_type": "code",
   "execution_count": null,
   "metadata": {},
   "outputs": [],
   "source": [
    "grph = Graph()\n",
    "\n",
    "grph.bind(\"xsd\", XSD)\n",
    "grph.bind(\"glo\", GLO)"
   ]
  },
  {
   "cell_type": "code",
   "execution_count": null,
   "metadata": {},
   "outputs": [],
   "source": [
    "for index, row in travelDF.iterrows():\n",
    "   \n",
    "    travelId = str(index)\n",
    "    Travel = URIRef(GLO[travelId])\n",
    "    grph.add((Travel, RDF.type, GLO.Travel))\n",
    "\n",
    "    grph.add((Travel, GLO['country'], Literal(index, datatype=XSD.string)))\n",
    "\n",
    "    grph.serialize(destination = os.path.join(current_path, 'PopulatedData', 'Travel.ttl'), format = 'turtle')"
   ]
  }
 ],
 "metadata": {
  "kernelspec": {
   "display_name": "Python 3",
   "language": "python",
   "name": "python3"
  },
  "language_info": {
   "codemirror_mode": {
    "name": "ipython",
    "version": 3
   },
   "file_extension": ".py",
   "mimetype": "text/x-python",
   "name": "python",
   "nbconvert_exporter": "python",
   "pygments_lexer": "ipython3",
   "version": "3.12.0"
  }
 },
 "nbformat": 4,
 "nbformat_minor": 2
}

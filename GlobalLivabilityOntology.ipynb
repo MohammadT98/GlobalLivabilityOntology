{
 "cells": [
  {
   "cell_type": "code",
   "execution_count": 2,
   "metadata": {},
   "outputs": [],
   "source": [
    "import pandas as pd\n",
    "import os\n",
    "from pathlib import Path\n",
    "\n",
    "from rdflib import Graph, Literal, RDF, URIRef, Namespace, BNode, OWL, RDFS\n",
    "\n",
    "from rdflib.namespace import XSD"
   ]
  },
  {
   "cell_type": "code",
   "execution_count": 3,
   "metadata": {},
   "outputs": [],
   "source": [
    "current_path = os.getcwd()\n",
    "\n",
    "countryURL = os.path.join(current_path, 'Datasets', 'Country.csv')\n",
    "\n",
    "accessibilityURL = os.path.join(current_path, 'Datasets', 'Accessibility.csv')\n",
    "conflictURL = os.path.join(current_path, 'Datasets', 'Conflict.csv')\n",
    "economyURL = os.path.join(current_path, 'Datasets', 'Economy.csv')\n",
    "educationURL = os.path.join(current_path, 'Datasets', 'Education.csv')\n",
    "freedomURL = os.path.join(current_path, 'Datasets', 'Freedom.csv')\n",
    "friendlinessURL = os.path.join(current_path, 'Datasets', 'Friendliness.csv')\n",
    "happinessURL = os.path.join(current_path, 'Datasets', 'Happiness.csv')\n",
    "hardworkingURL = os.path.join(current_path, 'Datasets', 'Hardworking.csv')\n",
    "naturalDisasterURL = os.path.join(current_path, 'Datasets', 'NaturalDisaster.csv')\n",
    "peaceURL = os.path.join(current_path, 'Datasets', 'Peace.csv')\n",
    "peopleBeautyURL = os.path.join(current_path, 'Datasets', 'PeopleBeauty.csv')\n",
    "populationURL = os.path.join(current_path, 'Datasets', 'Population.csv')\n",
    "religionURL = os.path.join(current_path, 'Datasets', 'Religion.csv')\n",
    "travelURL = os.path.join(current_path, 'Datasets', 'Travel.csv')"
   ]
  },
  {
   "cell_type": "code",
   "execution_count": 4,
   "metadata": {},
   "outputs": [],
   "source": [
    "GLO = Namespace(\"http://www.dei.unipd.it/database2/LinkedinJobPosting#\")"
   ]
  },
  {
   "cell_type": "markdown",
   "metadata": {},
   "source": [
    "## Country"
   ]
  },
  {
   "cell_type": "code",
   "execution_count": 5,
   "metadata": {},
   "outputs": [],
   "source": [
    "countryDF = pd.read_csv(countryURL, sep=',', index_col='country')"
   ]
  },
  {
   "cell_type": "code",
   "execution_count": 6,
   "metadata": {},
   "outputs": [],
   "source": [
    "grph = Graph()\n",
    "\n",
    "grph.bind(\"xsd\", XSD)\n",
    "grph.bind(\"glo\", GLO)"
   ]
  },
  {
   "cell_type": "code",
   "execution_count": 7,
   "metadata": {},
   "outputs": [
    {
     "data": {
      "text/plain": [
       "<Graph identifier=Na6c6e45659964692bf053ab2fb711ff6 (<class 'rdflib.graph.Graph'>)>"
      ]
     },
     "execution_count": 7,
     "metadata": {},
     "output_type": "execute_result"
    }
   ],
   "source": [
    "for index, row in countryDF.iterrows():\n",
    "   \n",
    "    countryId = \"country_\" + str(index)\n",
    "    Country = URIRef(GLO[countryId])\n",
    "    grph.add((Country, RDF.type, GLO.Country))\n",
    "\n",
    "    grph.add((Country, GLO['country'], Literal(index, datatype=XSD.string)))\n",
    "    if not pd.isnull(row['name']) and row['name'] != \"\":\n",
    "        grph.add((Country, GLO['shortName'], Literal(row['name'], datatype=XSD.string)))\n",
    "    if not pd.isnull(row['fullName']) and row['fullName'] != \"\":\n",
    "        grph.add((Country, GLO['fullName'], Literal(row['fullName'], datatype=XSD.string)))\n",
    "    if not pd.isnull(row['language']) and row['language'] != \"\":\n",
    "        grph.add((Country, GLO['language'], Literal(row['language'], datatype=XSD.string)))\n",
    "    if not pd.isnull(row['currency']) and row['currency'] != \"\":\n",
    "        grph.add((Country, GLO['currency'], Literal(row['currency'], datatype=XSD.string)))\n",
    "    if not pd.isnull(row['capitalCity']) and row['capitalCity'] != \"\":\n",
    "        grph.add((Country, GLO['capitalCity'], Literal(row['capitalCity'], datatype=XSD.string)))\n",
    "    if not pd.isnull(row['region']) and row['region'] != \"\":\n",
    "        grph.add((Country, GLO['region'], Literal(row['region'], datatype=XSD.string)))\n",
    "    if not pd.isnull(row['continent']) and row['continent'] != \"\":\n",
    "        grph.add((Country, GLO['continent'], Literal(row['continent'], datatype=XSD.string)))\n",
    "    if not pd.isnull(row['latitude']) and row['latitude'] != \"\":\n",
    "        grph.add((Country, GLO['latitude'], Literal(row['latitude'], datatype=XSD.float)))\n",
    "    if not pd.isnull(row['longitude']) and row['longitude'] != \"\":\n",
    "        grph.add((Country, GLO['longitude'], Literal(row['longitude'], datatype=XSD.float)))\n",
    "\n",
    "grph.serialize(destination = os.path.join(current_path, 'PopulatedData', 'Country.ttl'), format = 'turtle')"
   ]
  },
  {
   "cell_type": "markdown",
   "metadata": {},
   "source": [
    "## Accessibility"
   ]
  },
  {
   "cell_type": "code",
   "execution_count": 4,
   "metadata": {},
   "outputs": [],
   "source": [
    "accessibilityDF = pd.read_csv(accessibilityURL, sep=',', index_col='country')"
   ]
  },
  {
   "cell_type": "code",
   "execution_count": 5,
   "metadata": {},
   "outputs": [],
   "source": [
    "grph = Graph()\n",
    "\n",
    "grph.bind(\"xsd\", XSD)\n",
    "grph.bind(\"glo\", GLO)"
   ]
  },
  {
   "cell_type": "code",
   "execution_count": 6,
   "metadata": {},
   "outputs": [],
   "source": [
    "grph.add((GLO.Accessibility, RDFS.subClassOf, GLO.Situation))\n",
    "\n",
    "highAccessibility = GLO.highAccessibility\n",
    "\n",
    "electricity_access_property = GLO['electricity_access_pct']\n",
    "internet_property = GLO['internet_pct']\n",
    "healthcare_property = GLO['BestHealthcareInTheWorldLegatumProsperityIndexHealthScore2023']\n",
    "\n",
    "BH_0 = BNode()\n",
    "BH_1 = BNode()\n",
    "BH_2 = BNode()\n",
    "BH_3 = BNode()\n",
    "BH_4 = BNode()\n",
    "BH_5 = BNode()\n",
    "BH_6 = BNode()\n",
    "BH_7 = BNode()\n",
    "BH_8 = BNode()\n",
    "BH_9 = BNode()\n",
    "BH_10 = BNode()\n",
    "BH_11 = BNode()\n",
    "BH_12 = BNode()\n",
    "BH_13 = BNode()\n",
    "BH_14 = BNode()\n",
    "BH_15 = BNode()\n",
    "BH_16 = BNode()\n",
    "BH_17 = BNode()\n",
    "BH_18 = BNode()\n",
    "BH_19 = BNode()\n",
    "BH_20 = BNode()\n",
    "BH_21 = BNode()\n",
    "BH_22 = BNode()\n",
    "BH_23 = BNode()\n",
    "\n",
    "grph.add((highAccessibility, RDF.type, OWL.Class))\n",
    "grph.add((highAccessibility, RDFS.subClassOf, GLO.Accessibility))\n",
    "\n",
    "grph.add((highAccessibility, OWL.equivalentClass, BH_0))\n",
    "\n",
    "grph.add((BH_0, OWL.intersectionOf, BH_1))\n",
    "\n",
    "grph.add((BH_1, RDF.type, RDF.List))\n",
    "grph.add((BH_1, RDF.first, GLO.Accessibility))\n",
    "grph.add((BH_1, RDF.rest, BH_2))\n",
    "\n",
    "grph.add((BH_2, RDF.type, RDF.List))\n",
    "grph.add((BH_2, RDF.first, BH_3))\n",
    "\n",
    "grph.add((BH_3, RDF.type, OWL.Restriction))\n",
    "grph.add((BH_3, OWL.onProperty, electricity_access_property))\n",
    "grph.add((BH_3, OWL.someValuesFrom, BH_4))\n",
    "\n",
    "grph.add((BH_4, RDF.type, RDFS.Datatype))\n",
    "grph.add((BH_4, OWL.onDatatype, XSD.integer))\n",
    "grph.add((BH_4, OWL.withRestrictions, BH_5))\n",
    "\n",
    "grph.add((BH_5, RDF.type, RDF.List))\n",
    "grph.add((BH_6, RDF.type, RDF.List))\n",
    "grph.add((BH_7, RDF.type, RDF.List))\n",
    "grph.add((BH_8, RDF.type, RDF.List))\n",
    "\n",
    "grph.add((BH_5, RDF.first, BH_6))\n",
    "grph.add((BH_5, RDF.rest, BH_7))\n",
    "\n",
    "grph.add((BH_7, RDF.first, BH_8))\n",
    "grph.add((BH_7, RDF.rest, RDF.nil))\n",
    "\n",
    "grph.add((BH_6, XSD.minInclusive, Literal(\"60\", datatype=XSD.integer)))\n",
    "grph.add((BH_8, XSD.maxInclusive, Literal(\"100\", datatype=XSD.integer)))\n",
    "\n",
    "grph.add((BH_9, RDF.type, RDF.List))\n",
    "grph.add((BH_2, RDF.rest, BH_9))\n",
    "grph.add((BH_9, RDF.first, BH_10))\n",
    "\n",
    "grph.add((BH_10, RDF.type, OWL.Restriction))\n",
    "grph.add((BH_10, OWL.onProperty, internet_property))\n",
    "grph.add((BH_10, OWL.someValuesFrom, BH_11))\n",
    "\n",
    "grph.add((BH_11, RDF.type, RDFS.Datatype))\n",
    "grph.add((BH_11, OWL.onDatatype, XSD.integer))\n",
    "grph.add((BH_11, OWL.withRestrictions, BH_12))\n",
    "\n",
    "grph.add((BH_12, RDF.type, RDF.List))\n",
    "grph.add((BH_13, RDF.type, RDF.List))\n",
    "grph.add((BH_14, RDF.type, RDF.List))\n",
    "grph.add((BH_15, RDF.type, RDF.List))\n",
    "\n",
    "grph.add((BH_12, RDF.first, BH_13))\n",
    "grph.add((BH_12, RDF.rest, BH_14))\n",
    "\n",
    "grph.add((BH_14, RDF.first, BH_15))\n",
    "grph.add((BH_14, RDF.rest, RDF.nil))\n",
    "\n",
    "grph.add((BH_13, XSD.minInclusive, Literal(\"60\", datatype=XSD.integer)))\n",
    "grph.add((BH_15, XSD.maxInclusive, Literal(\"100\", datatype=XSD.integer)))\n",
    "\n",
    "grph.add((BH_16, RDF.type, RDF.List))\n",
    "grph.add((BH_9, RDF.rest, BH_16))\n",
    "grph.add((BH_16, RDF.first, BH_17))\n",
    "\n",
    "grph.add((BH_17, RDF.type, OWL.Restriction))\n",
    "grph.add((BH_17, OWL.onProperty, healthcare_property))\n",
    "grph.add((BH_17, OWL.someValuesFrom, BH_18))\n",
    "\n",
    "grph.add((BH_18, RDF.type, RDFS.Datatype))\n",
    "grph.add((BH_18, OWL.onDatatype, XSD.integer))\n",
    "grph.add((BH_18, OWL.withRestrictions, BH_19))\n",
    "\n",
    "grph.add((BH_19, RDF.type, RDF.List))\n",
    "grph.add((BH_20, RDF.type, RDF.List))\n",
    "grph.add((BH_21, RDF.type, RDF.List))\n",
    "grph.add((BH_22, RDF.type, RDF.List))\n",
    "\n",
    "grph.add((BH_19, RDF.first, BH_20))\n",
    "grph.add((BH_19, RDF.rest, BH_21))\n",
    "\n",
    "grph.add((BH_21, RDF.first, BH_22))\n",
    "grph.add((BH_21, RDF.rest, RDF.nil))\n",
    "\n",
    "grph.add((BH_20, XSD.minInclusive, Literal(\"66\", datatype=XSD.integer)))\n",
    "grph.add((BH_22, XSD.maxInclusive, Literal(\"84\", datatype=XSD.integer)))\n",
    "\n",
    "grph.add((BH_16, RDF.rest, RDF.nil))\n",
    "\n",
    "mediumAccessibility = GLO.mediumAccessibility\n",
    "\n",
    "BM_0 = BNode()\n",
    "BM_1 = BNode()\n",
    "BM_2 = BNode()\n",
    "BM_3 = BNode()\n",
    "BM_4 = BNode()\n",
    "BM_5 = BNode()\n",
    "BM_6 = BNode()\n",
    "BM_7 = BNode()\n",
    "BM_8 = BNode()\n",
    "BM_9 = BNode()\n",
    "BM_10 = BNode()\n",
    "BM_11 = BNode()\n",
    "BM_12 = BNode()\n",
    "BM_13 = BNode()\n",
    "BM_14 = BNode()\n",
    "BM_15 = BNode()\n",
    "BM_16 = BNode()\n",
    "BM_17 = BNode()\n",
    "BM_18 = BNode()\n",
    "BM_19 = BNode()\n",
    "BM_20 = BNode()\n",
    "BM_21 = BNode()\n",
    "BM_22 = BNode()\n",
    "BM_23 = BNode()\n",
    "\n",
    "grph.add((mediumAccessibility, RDF.type, OWL.Class))\n",
    "grph.add((mediumAccessibility, RDFS.subClassOf, GLO.Accessibility))\n",
    "\n",
    "grph.add((mediumAccessibility, OWL.equivalentClass, BM_0))\n",
    "\n",
    "grph.add((BM_0, OWL.intersectionOf, BM_1))\n",
    "\n",
    "grph.add((BM_1, RDF.type, RDF.List))\n",
    "grph.add((BM_1, RDF.first, GLO.Accessibility))\n",
    "grph.add((BM_1, RDF.rest, BM_2))\n",
    "\n",
    "grph.add((BM_2, RDF.type, RDF.List))\n",
    "grph.add((BM_2, RDF.first, BM_3))\n",
    "\n",
    "grph.add((BM_3, RDF.type, OWL.Restriction))\n",
    "grph.add((BM_3, OWL.onProperty, electricity_access_property))\n",
    "grph.add((BM_3, OWL.someValuesFrom, BM_4))\n",
    "\n",
    "grph.add((BM_4, RDF.type, RDFS.Datatype))\n",
    "grph.add((BM_4, OWL.onDatatype, XSD.integer))\n",
    "grph.add((BM_4, OWL.withRestrictions, BM_5))\n",
    "\n",
    "grph.add((BM_5, RDF.type, RDF.List))\n",
    "grph.add((BM_6, RDF.type, RDF.List))\n",
    "grph.add((BM_7, RDF.type, RDF.List))\n",
    "grph.add((BM_8, RDF.type, RDF.List))\n",
    "\n",
    "grph.add((BM_5, RDF.first, BM_6))\n",
    "grph.add((BM_5, RDF.rest, BM_7))\n",
    "\n",
    "grph.add((BM_7, RDF.first, BM_8))\n",
    "grph.add((BM_7, RDF.rest, RDF.nil))\n",
    "\n",
    "grph.add((BM_6, XSD.minInclusive, Literal(\"30\", datatype=XSD.integer)))\n",
    "grph.add((BM_8, XSD.maxInclusive, Literal(\"60\", datatype=XSD.integer)))\n",
    "\n",
    "grph.add((BM_9, RDF.type, RDF.List))\n",
    "grph.add((BM_2, RDF.rest, BM_9))\n",
    "grph.add((BM_9, RDF.first, BM_10))\n",
    "\n",
    "grph.add((BM_10, RDF.type, OWL.Restriction))\n",
    "grph.add((BM_10, OWL.onProperty, internet_property))\n",
    "grph.add((BM_10, OWL.someValuesFrom, BM_11))\n",
    "\n",
    "grph.add((BM_11, RDF.type, RDFS.Datatype))\n",
    "grph.add((BM_11, OWL.onDatatype, XSD.integer))\n",
    "grph.add((BM_11, OWL.withRestrictions, BM_12))\n",
    "\n",
    "grph.add((BM_12, RDF.type, RDF.List))\n",
    "grph.add((BM_13, RDF.type, RDF.List))\n",
    "grph.add((BM_14, RDF.type, RDF.List))\n",
    "grph.add((BM_15, RDF.type, RDF.List))\n",
    "\n",
    "grph.add((BM_12, RDF.first, BM_13))\n",
    "grph.add((BM_12, RDF.rest, BM_14))\n",
    "\n",
    "grph.add((BM_14, RDF.first, BM_15))\n",
    "grph.add((BM_14, RDF.rest, RDF.nil))\n",
    "\n",
    "grph.add((BM_13, XSD.minInclusive, Literal(\"30\", datatype=XSD.integer)))\n",
    "grph.add((BM_15, XSD.maxInclusive, Literal(\"60\", datatype=XSD.integer)))\n",
    "\n",
    "grph.add((BM_16, RDF.type, RDF.List))\n",
    "grph.add((BM_9, RDF.rest, BM_16))\n",
    "grph.add((BM_16, RDF.first, BM_17))\n",
    "\n",
    "grph.add((BM_17, RDF.type, OWL.Restriction))\n",
    "grph.add((BM_17, OWL.onProperty, healthcare_property))\n",
    "grph.add((BM_17, OWL.someValuesFrom, BM_18))\n",
    "\n",
    "grph.add((BM_18, RDF.type, RDFS.Datatype))\n",
    "grph.add((BM_18, OWL.onDatatype, XSD.integer))\n",
    "grph.add((BM_18, OWL.withRestrictions, BM_19))\n",
    "\n",
    "grph.add((BM_19, RDF.type, RDF.List))\n",
    "grph.add((BM_20, RDF.type, RDF.List))\n",
    "grph.add((BM_21, RDF.type, RDF.List))\n",
    "grph.add((BM_22, RDF.type, RDF.List))\n",
    "\n",
    "grph.add((BM_19, RDF.first, BM_20))\n",
    "grph.add((BM_19, RDF.rest, BM_21))\n",
    "\n",
    "grph.add((BM_21, RDF.first, BM_22))\n",
    "grph.add((BM_21, RDF.rest, RDF.nil))\n",
    "\n",
    "grph.add((BM_20, XSD.minInclusive, Literal(\"48\", datatype=XSD.integer)))\n",
    "grph.add((BM_22, XSD.maxInclusive, Literal(\"66\", datatype=XSD.integer)))\n",
    "\n",
    "grph.add((BM_16, RDF.rest, RDF.nil))\n",
    "\n",
    "lowAccessibility = GLO.lowAccessibility\n",
    "\n",
    "BL_0 = BNode()\n",
    "BL_1 = BNode()\n",
    "BL_2 = BNode()\n",
    "BL_3 = BNode()\n",
    "BL_4 = BNode()\n",
    "BL_5 = BNode()\n",
    "BL_6 = BNode()\n",
    "BL_7 = BNode()\n",
    "BL_8 = BNode()\n",
    "BL_9 = BNode()\n",
    "BL_10 = BNode()\n",
    "BL_11 = BNode()\n",
    "BL_12 = BNode()\n",
    "BL_13 = BNode()\n",
    "BL_14 = BNode()\n",
    "BL_15 = BNode()\n",
    "BL_16 = BNode()\n",
    "BL_17 = BNode()\n",
    "BL_18 = BNode()\n",
    "BL_19 = BNode()\n",
    "BL_20 = BNode()\n",
    "BL_21 = BNode()\n",
    "BL_22 = BNode()\n",
    "BL_23 = BNode()\n",
    "\n",
    "grph.add((lowAccessibility, RDF.type, OWL.Class))\n",
    "grph.add((lowAccessibility, RDFS.subClassOf, GLO.Accessibility))\n",
    "\n",
    "grph.add((lowAccessibility, OWL.equivalentClass, BL_0))\n",
    "\n",
    "grph.add((BL_0, OWL.intersectionOf, BL_1))\n",
    "\n",
    "grph.add((BL_1, RDF.type, RDF.List))\n",
    "grph.add((BL_1, RDF.first, GLO.Accessibility))\n",
    "grph.add((BL_1, RDF.rest, BL_2))\n",
    "\n",
    "grph.add((BL_2, RDF.type, RDF.List))\n",
    "grph.add((BL_2, RDF.first, BL_3))\n",
    "\n",
    "grph.add((BL_3, RDF.type, OWL.Restriction))\n",
    "grph.add((BL_3, OWL.onProperty, electricity_access_property))\n",
    "grph.add((BL_3, OWL.someValuesFrom, BL_4))\n",
    "\n",
    "grph.add((BL_4, RDF.type, RDFS.Datatype))\n",
    "grph.add((BL_4, OWL.onDatatype, XSD.integer))\n",
    "grph.add((BL_4, OWL.withRestrictions, BL_5))\n",
    "\n",
    "grph.add((BL_5, RDF.type, RDF.List))\n",
    "grph.add((BL_6, RDF.type, RDF.List))\n",
    "grph.add((BL_7, RDF.type, RDF.List))\n",
    "grph.add((BL_8, RDF.type, RDF.List))\n",
    "\n",
    "grph.add((BL_5, RDF.first, BL_6))\n",
    "grph.add((BL_5, RDF.rest, BL_7))\n",
    "\n",
    "grph.add((BL_7, RDF.first, BL_8))\n",
    "grph.add((BL_7, RDF.rest, RDF.nil))\n",
    "\n",
    "grph.add((BL_6, XSD.minInclusive, Literal(\"0\", datatype=XSD.integer)))\n",
    "grph.add((BL_8, XSD.maxInclusive, Literal(\"30\", datatype=XSD.integer)))\n",
    "\n",
    "grph.add((BL_9, RDF.type, RDF.List))\n",
    "grph.add((BL_2, RDF.rest, BL_9))\n",
    "grph.add((BL_9, RDF.first, BL_10))\n",
    "\n",
    "grph.add((BL_10, RDF.type, OWL.Restriction))\n",
    "grph.add((BL_10, OWL.onProperty, internet_property))\n",
    "grph.add((BL_10, OWL.someValuesFrom, BL_11))\n",
    "\n",
    "grph.add((BL_11, RDF.type, RDFS.Datatype))\n",
    "grph.add((BL_11, OWL.onDatatype, XSD.integer))\n",
    "grph.add((BL_11, OWL.withRestrictions, BL_12))\n",
    "\n",
    "grph.add((BL_12, RDF.type, RDF.List))\n",
    "grph.add((BL_13, RDF.type, RDF.List))\n",
    "grph.add((BL_14, RDF.type, RDF.List))\n",
    "grph.add((BL_15, RDF.type, RDF.List))\n",
    "\n",
    "grph.add((BL_12, RDF.first, BL_13))\n",
    "grph.add((BL_12, RDF.rest, BL_14))\n",
    "\n",
    "grph.add((BL_14, RDF.first, BL_15))\n",
    "grph.add((BL_14, RDF.rest, RDF.nil))\n",
    "\n",
    "grph.add((BL_13, XSD.minInclusive, Literal(\"0\", datatype=XSD.integer)))\n",
    "grph.add((BL_15, XSD.maxInclusive, Literal(\"30\", datatype=XSD.integer)))\n",
    "\n",
    "grph.add((BL_16, RDF.type, RDF.List))\n",
    "grph.add((BL_9, RDF.rest, BL_16))\n",
    "grph.add((BL_16, RDF.first, BL_17))\n",
    "\n",
    "grph.add((BL_17, RDF.type, OWL.Restriction))\n",
    "grph.add((BL_17, OWL.onProperty, healthcare_property))\n",
    "grph.add((BL_17, OWL.someValuesFrom, BL_18))\n",
    "\n",
    "grph.add((BL_18, RDF.type, RDFS.Datatype))\n",
    "grph.add((BL_18, OWL.onDatatype, XSD.integer))\n",
    "grph.add((BL_18, OWL.withRestrictions, BL_19))\n",
    "\n",
    "grph.add((BL_19, RDF.type, RDF.List))\n",
    "grph.add((BL_20, RDF.type, RDF.List))\n",
    "grph.add((BL_21, RDF.type, RDF.List))\n",
    "grph.add((BL_22, RDF.type, RDF.List))\n",
    "\n",
    "grph.add((BL_19, RDF.first, BL_20))\n",
    "grph.add((BL_19, RDF.rest, BL_21))\n",
    "\n",
    "grph.add((BL_21, RDF.first, BL_22))\n",
    "grph.add((BL_21, RDF.rest, RDF.nil))\n",
    "\n",
    "grph.add((BL_20, XSD.minInclusive, Literal(\"0\", datatype=XSD.integer)))\n",
    "grph.add((BL_22, XSD.maxInclusive, Literal(\"48\", datatype=XSD.integer)))\n",
    "\n",
    "grph.add((BL_16, RDF.rest, RDF.nil))\n",
    "\n",
    "for index, row in accessibilityDF.iterrows():\n",
    "   \n",
    "    accessibilityId = \"accessibility_\" + str(index)\n",
    "    Accessibility = URIRef(GLO[accessibilityId])\n",
    "    grph.add((Accessibility, RDF.type, GLO.Accessibility))\n",
    "\n",
    "    grph.add((Accessibility, GLO['country'], Literal(index, datatype=XSD.string)))\n",
    "\n",
    "    grph.add((Accessibility, GLO['electricityAccess'], Literal(row['electricity_access_pct'], datatype=XSD.float)))\n",
    "    if not pd.isnull(row['internet_pct']) and row['internet_pct'] != \"\":\n",
    "        grph.add((Accessibility, GLO['internet'], Literal(row['internet_pct'], datatype=XSD.float)))\n",
    "    if not pd.isnull(row['InternetSpeedsFixedBroadbandDownloadSpeed']) and row['InternetSpeedsFixedBroadbandDownloadSpeed'] != \"\":\n",
    "        grph.add((Accessibility, GLO['internetSpeed'], Literal(row['InternetSpeedsFixedBroadbandDownloadSpeed'], datatype=XSD.float)))\n",
    "    if not pd.isnull(row['BestHealthcareInTheWorldLegatumProsperityIndexHealthScore2023']) and row['BestHealthcareInTheWorldLegatumProsperityIndexHealthScore2023'] != \"\":\n",
    "        grph.add((Accessibility, GLO['healthcare'], Literal(row['BestHealthcareInTheWorldLegatumProsperityIndexHealthScore2023'], datatype=XSD.float)))\n",
    "    if not pd.isnull(row['CountriesWithoutMcDonalds']) and row['CountriesWithoutMcDonalds'] != \"\":\n",
    "        grph.add((Accessibility, GLO['withoutMcDonalds'], Literal(row['CountriesWithoutMcDonalds'], datatype=XSD.string)))\n",
    "\n",
    "    #if ((Literal(row['electricity_access_pct'], datatype=XSD.integer) >= Literal(\"\", datatype=XSD.integer))and(Literal(row['internet_pct'], datatype=XSD.integer) < Literal(\"\", datatype=XSD.integer))and(Literal(row['BestHealthcareInTheWorldLegatumProsperityIndexHealthScore2023'], datatype=XSD.integer) < Literal(\"\", datatype=XSD.integer))):\n",
    "    #    grph.add((Accessibility,RDF.type,GLO.highAccessibility))\n",
    "\n",
    "    Country = URIRef(GLO[\"country_\" + str(index)])\n",
    "    grph.add((Accessibility, GLO['belongsToCountry'], Country))\n",
    "\n",
    "    grph.serialize(destination = os.path.join(current_path, 'PopulatedData', 'Accessibility.ttl'), format = 'turtle')"
   ]
  },
  {
   "cell_type": "markdown",
   "metadata": {},
   "source": [
    "## Conflict"
   ]
  },
  {
   "cell_type": "code",
   "execution_count": null,
   "metadata": {},
   "outputs": [],
   "source": [
    "conflictDF = pd.read_csv(conflictURL, sep=',', index_col='country')"
   ]
  },
  {
   "cell_type": "code",
   "execution_count": null,
   "metadata": {},
   "outputs": [],
   "source": [
    "grph = Graph()\n",
    "\n",
    "grph.bind(\"xsd\", XSD)\n",
    "grph.bind(\"glo\", GLO)"
   ]
  },
  {
   "cell_type": "code",
   "execution_count": null,
   "metadata": {},
   "outputs": [],
   "source": [
    "grph.add((GLO.Conflict, RDFS.subClassOf, GLO.Situation))\n",
    "\n",
    "for index, row in conflictDF.iterrows():\n",
    "   \n",
    "    conflictId = \"conflict_\" + str(index)\n",
    "    Conflict = URIRef(GLO[conflictId])\n",
    "    grph.add((Conflict, RDF.type, GLO.Conflict))\n",
    "\n",
    "    grph.add((Conflict, GLO['country'], Literal(index, datatype=XSD.string)))\n",
    "    if not pd.isnull(row['Date']) and row['Date'] != \"\":    \n",
    "        grph.add((Conflict, GLO['date'], Literal(row['Date'], datatype=XSD.string)))\n",
    "    if not pd.isnull(row['Until']) and row['Until'] != \"\":\n",
    "        grph.add((Conflict, GLO['until'], Literal(row['Until'], datatype=XSD.string)))\n",
    "    if not pd.isnull(row['Headline']) and row['Headline'] != \"\":\n",
    "        grph.add((Conflict, GLO['headline'], Literal(row['Headline'], datatype=XSD.string)))\n",
    "    if not pd.isnull(row['Description']) and row['Description'] != \"\":\n",
    "        grph.add((Conflict, GLO['description'], Literal(row['Description'], datatype=XSD.string)))\n",
    "    if not pd.isnull(row['Sources']) and row['Sources'] != \"\":\n",
    "        grph.add((Conflict, GLO['sources'], Literal(row['Sources'], datatype=XSD.string)))\n",
    "\n",
    "    Country = URIRef(GLO[\"country_\" + str(index)])\n",
    "    grph.add((Accessibility, GLO['belongsToCountry'], Country))\n",
    "\n",
    "    grph.serialize(destination = os.path.join(current_path, 'PopulatedData', 'Conflict.ttl'), format = 'turtle')"
   ]
  },
  {
   "cell_type": "markdown",
   "metadata": {},
   "source": [
    "## Economy"
   ]
  },
  {
   "cell_type": "code",
   "execution_count": null,
   "metadata": {},
   "outputs": [],
   "source": [
    "economyDF = pd.read_csv(economyURL, sep=',', index_col='country')"
   ]
  },
  {
   "cell_type": "code",
   "execution_count": null,
   "metadata": {},
   "outputs": [],
   "source": [
    "grph = Graph()\n",
    "\n",
    "grph.bind(\"xsd\", XSD)\n",
    "grph.bind(\"glo\", GLO)"
   ]
  },
  {
   "cell_type": "code",
   "execution_count": null,
   "metadata": {},
   "outputs": [],
   "source": [
    "grph.add((GLO.Economy, RDFS.subClassOf, GLO.Situation))\n",
    "\n",
    "for index, row in economyDF.iterrows():\n",
    "   \n",
    "    economyId = \"economy_\" + str(index)\n",
    "    Economy = URIRef(GLO[economyId])\n",
    "    grph.add((Economy, RDF.type, GLO.Economy))\n",
    "\n",
    "    grph.add((Economy, GLO['country'], Literal(index, datatype=XSD.string)))\n",
    "    if not pd.isnull(row['gdp']) and row['gdp'] != \"\":\n",
    "        grph.add((Economy, GLO['gdp'], Literal(row['gdp'], datatype=XSD.string)))\n",
    "    if not pd.isnull(row['inflation']) and row['inflation'] != \"\":\n",
    "        grph.add((Economy, GLO['inflation'], Literal(row['inflation'], datatype=XSD.string)))\n",
    "    if not pd.isnull(row['tax_revenue_pct_gdp']) and row['tax_revenue_pct_gdp'] != \"\":\n",
    "        grph.add((Economy, GLO['taxRevenue'], Literal(row['tax_revenue_pct_gdp'], datatype=XSD.string)))\n",
    "    if not pd.isnull(row['unemployment_pct']) and row['unemployment_pct'] != \"\":\n",
    "        grph.add((Economy, GLO['unemployment'], Literal(row['unemployment_pct'], datatype=XSD.string)))\n",
    "\n",
    "    Country = URIRef(GLO[\"country_\" + str(index)])\n",
    "    grph.add((Accessibility, GLO['belongsToCountry'], Country))\n",
    "\n",
    "    grph.serialize(destination = os.path.join(current_path, 'PopulatedData', 'Economy.ttl'), format = 'turtle')"
   ]
  },
  {
   "cell_type": "markdown",
   "metadata": {},
   "source": [
    "## Education"
   ]
  },
  {
   "cell_type": "code",
   "execution_count": null,
   "metadata": {},
   "outputs": [],
   "source": [
    "educationDF = pd.read_csv(educationURL, sep=',', index_col='country')"
   ]
  },
  {
   "cell_type": "code",
   "execution_count": null,
   "metadata": {},
   "outputs": [],
   "source": [
    "grph = Graph()\n",
    "\n",
    "grph.bind(\"xsd\", XSD)\n",
    "grph.bind(\"glo\", GLO)"
   ]
  },
  {
   "cell_type": "code",
   "execution_count": null,
   "metadata": {},
   "outputs": [],
   "source": [
    "grph.add((GLO.Education, RDFS.subClassOf, GLO.Situation))\n",
    "\n",
    "for index, row in educationDF.iterrows():\n",
    "   \n",
    "    educationId = \"education_\" + str(index)\n",
    "    Education = URIRef(GLO[educationId])\n",
    "    grph.add((Education, RDF.type, GLO.Education))\n",
    "\n",
    "    grph.add((Education, GLO['country'], Literal(index, datatype=XSD.string)))\n",
    "    if not pd.isnull(row['IQ']) and row['IQ'] != \"\":\n",
    "        grph.add((Education, GLO['IQ'], Literal(row['IQ'], datatype=XSD.string)))\n",
    "    if not pd.isnull(row['education_expenditure']) and row['education_expenditure'] != \"\":\n",
    "        grph.add((Education, GLO['educationExpenditure'], Literal(row['education_expenditure'], datatype=XSD.string)))\n",
    "    if not pd.isnull(row['EFEnglishProficiencyIndexProficiencyBands']) and row['EFEnglishProficiencyIndexProficiencyBands'] != \"\":\n",
    "        grph.add((Education, GLO['englishProficiency'], Literal(row['EFEnglishProficiencyIndexProficiencyBands'], datatype=XSD.string)))\n",
    "\n",
    "    Country = URIRef(GLO[\"country_\" + str(index)])\n",
    "    grph.add((Accessibility, GLO['belongsToCountry'], Country))\n",
    "\n",
    "    grph.serialize(destination = os.path.join(current_path, 'PopulatedData', 'Education.ttl'), format = 'turtle')"
   ]
  },
  {
   "cell_type": "markdown",
   "metadata": {},
   "source": [
    "## Freedom"
   ]
  },
  {
   "cell_type": "code",
   "execution_count": null,
   "metadata": {},
   "outputs": [],
   "source": [
    "freedomDF = pd.read_csv(freedomURL, sep=',', index_col='country')"
   ]
  },
  {
   "cell_type": "code",
   "execution_count": null,
   "metadata": {},
   "outputs": [],
   "source": [
    "grph = Graph()\n",
    "\n",
    "grph.bind(\"xsd\", XSD)\n",
    "grph.bind(\"glo\", GLO)"
   ]
  },
  {
   "cell_type": "code",
   "execution_count": null,
   "metadata": {},
   "outputs": [],
   "source": [
    "grph.add((GLO.Freedom, RDFS.subClassOf, GLO.Situation))\n",
    "\n",
    "for index, row in freedomDF.iterrows():\n",
    "   \n",
    "    freedomId = \"freedom_\" + str(index)\n",
    "    Freedom = URIRef(GLO[freedomId])\n",
    "    grph.add((Freedom, RDF.type, GLO.Freedom))\n",
    "\n",
    "    grph.add((Freedom, GLO['country'], Literal(index, datatype=XSD.string)))\n",
    "    if not pd.isnull(row['democracy_score']) and row['democracy_score'] != \"\":\n",
    "        grph.add((Freedom, GLO['democracy'], Literal(row['democracy_score'], datatype=XSD.string)))\n",
    "    if not pd.isnull(row['democracy_type']) and row['democracy_type'] != \"\":\n",
    "        grph.add((Freedom, GLO['democracyType'], Literal(row['democracy_type'], datatype=XSD.string)))\n",
    "    if not pd.isnull(row['currentLeadership']) and row['currentLeadership'] != \"\":\n",
    "        grph.add((Freedom, GLO['currentLeadership'], Literal(row['currentLeadership'], datatype=XSD.string)))\n",
    "    if not pd.isnull(row['InternetFreedomStatus']) and row['InternetFreedomStatus'] != \"\":\n",
    "        grph.add((Freedom, GLO['internetFreedom'], Literal(row['InternetFreedomStatus'], datatype=XSD.string)))\n",
    "    if not pd.isnull(row['CountriesWhereAlcoholIsIllegal']) and row['CountriesWhereAlcoholIsIllegal'] != \"\":\n",
    "        grph.add((Freedom, GLO['alcoholIsIllegal'], Literal(row['CountriesWhereAlcoholIsIllegal'], datatype=XSD.string)))\n",
    "    if not pd.isnull(row['countriesWhereAbortionIsIllegal_legality']) and row['countriesWhereAbortionIsIllegal_legality'] != \"\":\n",
    "        grph.add((Freedom, GLO['abortionIsIllegal'], Literal(row['countriesWhereAbortionIsIllegal_legality'], datatype=XSD.string)))\n",
    "    if not pd.isnull(row['genderEqualityByCountry_gendEqal2021']) and row['genderEqualityByCountry_gendEqal2021'] != \"\":\n",
    "        grph.add((Freedom, GLO['genderEquality'], Literal(row['genderEqualityByCountry_gendEqal2021'], datatype=XSD.string)))\n",
    "    if not pd.isnull(row['CountriesWhereWearingBurqaIsMandatoryHijabMandatory']) and row['CountriesWhereWearingBurqaIsMandatoryHijabMandatory'] != \"\":\n",
    "        grph.add((Freedom, GLO['wearingBurqaIsMandatory'], Literal(row['CountriesWhereWearingBurqaIsMandatoryHijabMandatory'], datatype=XSD.string)))\n",
    "    if not pd.isnull(row['countriesWithMandatoryMilitaryService_mandatoryService']) and row['countriesWithMandatoryMilitaryService_mandatoryService'] != \"\":\n",
    "        grph.add((Freedom, GLO['mandatoryMilitaryService'], Literal(row['countriesWithMandatoryMilitaryService_mandatoryService'], datatype=XSD.string)))\n",
    "    if not pd.isnull(row['LgbtqDeathPenalty']) and row['LgbtqDeathPenalty'] != \"\":\n",
    "        grph.add((Freedom, GLO['lgbtqDeathPenalty'], Literal(row['LgbtqDeathPenalty'], datatype=XSD.string)))\n",
    "    if not pd.isnull(row['LgbtqMaxPenalty']) and row['LgbtqMaxPenalty'] != \"\":\n",
    "        grph.add((Freedom, GLO['lgbtqMaxPenalty'], Literal(row['LgbtqMaxPenalty'], datatype=XSD.string)))\n",
    "\n",
    "    Country = URIRef(GLO[\"country_\" + str(index)])\n",
    "    grph.add((Accessibility, GLO['belongsToCountry'], Country))\n",
    "\n",
    "    grph.serialize(destination = os.path.join(current_path, 'PopulatedData', 'Freedom.ttl'), format = 'turtle')"
   ]
  },
  {
   "cell_type": "markdown",
   "metadata": {},
   "source": [
    "## Friendliness"
   ]
  },
  {
   "cell_type": "code",
   "execution_count": null,
   "metadata": {},
   "outputs": [],
   "source": [
    "friendlinessDF = pd.read_csv(friendlinessURL, sep=',', index_col='country')"
   ]
  },
  {
   "cell_type": "code",
   "execution_count": null,
   "metadata": {},
   "outputs": [],
   "source": [
    "grph = Graph()\n",
    "\n",
    "grph.bind(\"xsd\", XSD)\n",
    "grph.bind(\"glo\", GLO)"
   ]
  },
  {
   "cell_type": "code",
   "execution_count": null,
   "metadata": {},
   "outputs": [],
   "source": [
    "grph.add((GLO.Friendliness, RDFS.subClassOf, GLO.Situation))\n",
    "\n",
    "for index, row in friendlinessDF.iterrows():\n",
    "   \n",
    "    friendlinessId = \"friendliness_\" + str(index)\n",
    "    Friendliness = URIRef(GLO[friendlinessId])\n",
    "    grph.add((Friendliness, RDF.type, GLO.Friendliness))\n",
    "\n",
    "    grph.add((Friendliness, GLO['country'], Literal(index, datatype=XSD.string)))\n",
    "    if not pd.isnull(row['friendliestCountries_ranking']) and row['friendliestCountries_ranking'] != \"\":\n",
    "        grph.add((Friendliness, GLO['friendliest'], Literal(row['friendliestCountries_ranking'], datatype=XSD.string)))\n",
    "    if not pd.isnull(row['LeastRacistCountriesRacialEqualityRankings2023']) and row['LeastRacistCountriesRacialEqualityRankings2023'] != \"\":\n",
    "        grph.add((Friendliness, GLO['leastRacist'], Literal(row['LeastRacistCountriesRacialEqualityRankings2023'], datatype=XSD.string)))\n",
    "    if not pd.isnull(row['HomophobicRank2017']) and row['HomophobicRank2017'] != \"\":\n",
    "        grph.add((Friendliness, GLO['homophobic'], Literal(row['HomophobicRank2017'], datatype=XSD.string)))\n",
    "\n",
    "    Country = URIRef(GLO[\"country_\" + str(index)])\n",
    "    grph.add((Accessibility, GLO['belongsToCountry'], Country))\n",
    "\n",
    "    grph.serialize(destination = os.path.join(current_path, 'PopulatedData', 'Friendliness.ttl'), format = 'turtle')"
   ]
  },
  {
   "cell_type": "markdown",
   "metadata": {},
   "source": [
    "## Happiness"
   ]
  },
  {
   "cell_type": "code",
   "execution_count": null,
   "metadata": {},
   "outputs": [],
   "source": [
    "happinessDF = pd.read_csv(happinessURL, sep=',', index_col='country')"
   ]
  },
  {
   "cell_type": "code",
   "execution_count": null,
   "metadata": {},
   "outputs": [],
   "source": [
    "grph = Graph()\n",
    "\n",
    "grph.bind(\"xsd\", XSD)\n",
    "grph.bind(\"glo\", GLO)"
   ]
  },
  {
   "cell_type": "code",
   "execution_count": null,
   "metadata": {},
   "outputs": [],
   "source": [
    "grph.add((GLO.Happiness, RDFS.subClassOf, GLO.Situation))\n",
    "\n",
    "for index, row in happinessDF.iterrows():\n",
    "   \n",
    "    happinessId = \"happiness_\" + str(index)\n",
    "    Happiness = URIRef(GLO[happinessId])\n",
    "    grph.add((Happiness, RDF.type, GLO.Happiness))\n",
    "\n",
    "    grph.add((Happiness, GLO['country'], Literal(index, datatype=XSD.string)))\n",
    "    if not pd.isnull(row['Life Ladder']) and row['Life Ladder'] != \"\":\n",
    "        grph.add((Happiness, GLO['lifeLadder'], Literal(row['Life Ladder'], datatype=XSD.string)))\n",
    "    if not pd.isnull(row['Social support']) and row['Social support'] != \"\":\n",
    "        grph.add((Happiness, GLO['socialSupport'], Literal(row['Social support'], datatype=XSD.string)))\n",
    "    if not pd.isnull(row['Healthy life expectancy at birth']) and row['Healthy life expectancy at birth'] != \"\":\n",
    "        grph.add((Happiness, GLO['healthyLifeExpectancy'], Literal(row['Healthy life expectancy at birth'], datatype=XSD.string)))\n",
    "    if not pd.isnull(row['Freedom to make life choices']) and row['Freedom to make life choices'] != \"\":\n",
    "        grph.add((Happiness, GLO['freedomToMakeLifeChoices'], Literal(row['Freedom to make life choices'], datatype=XSD.string)))\n",
    "    if not pd.isnull(row['Generosity']) and row['Generosity'] != \"\":\n",
    "        grph.add((Happiness, GLO['generosity'], Literal(row['Generosity'], datatype=XSD.string)))\n",
    "    if not pd.isnull(row['Perceptions of corruption']) and row['Perceptions of corruption'] != \"\":\n",
    "        grph.add((Happiness, GLO['perceptionsOfCorruption'], Literal(row['Perceptions of corruption'], datatype=XSD.string)))\n",
    "    if not pd.isnull(row['Positive affect']) and row['Positive affect'] != \"\":\n",
    "        grph.add((Happiness, GLO['positiveAffect'], Literal(row['Positive affect'], datatype=XSD.string)))\n",
    "    if not pd.isnull(row['Negative affect']) and row['Negative affect'] != \"\":\n",
    "        grph.add((Happiness, GLO['negativeAffect'], Literal(row['Negative affect'], datatype=XSD.string)))\n",
    "    if not pd.isnull(row['Confidence in national government']) and row['Confidence in national government'] != \"\":\n",
    "        grph.add((Happiness, GLO['confidenceInNationalGovernment'], Literal(row['Confidence in national government'], datatype=XSD.string)))\n",
    "    if not pd.isnull(row['suicide_rate']) and row['suicide_rate'] != \"\":\n",
    "        grph.add((Happiness, GLO['suicideRate'], Literal(row['suicide_rate'], datatype=XSD.string)))\n",
    "\n",
    "    Country = URIRef(GLO[\"country_\" + str(index)])\n",
    "    grph.add((Accessibility, GLO['belongsToCountry'], Country))\n",
    "\n",
    "    grph.serialize(destination = os.path.join(current_path, 'PopulatedData', 'Happiness.ttl'), format = 'turtle')"
   ]
  },
  {
   "cell_type": "markdown",
   "metadata": {},
   "source": [
    "## Hardworking"
   ]
  },
  {
   "cell_type": "code",
   "execution_count": null,
   "metadata": {},
   "outputs": [],
   "source": [
    "hardworkingDF = pd.read_csv(hardworkingURL, sep=',', index_col='country')"
   ]
  },
  {
   "cell_type": "code",
   "execution_count": null,
   "metadata": {},
   "outputs": [],
   "source": [
    "grph = Graph()\n",
    "\n",
    "grph.bind(\"xsd\", XSD)\n",
    "grph.bind(\"glo\", GLO)"
   ]
  },
  {
   "cell_type": "code",
   "execution_count": null,
   "metadata": {},
   "outputs": [],
   "source": [
    "grph.add((GLO.Hardworking, RDFS.subClassOf, GLO.Situation))\n",
    "\n",
    "for index, row in hardworkingDF.iterrows():\n",
    "   \n",
    "    hardworkingId = \"hardworking_\" + str(index)\n",
    "    Hardworking = URIRef(GLO[hardworkingId])\n",
    "    grph.add((Hardworking, RDF.type, GLO.Hardworking))\n",
    "\n",
    "    grph.add((Hardworking, GLO['country'], Literal(index, datatype=XSD.string)))\n",
    "    if not pd.isnull(row['averageWorkWeekByCountry_hpe']) and row['averageWorkWeekByCountry_hpe'] != \"\":\n",
    "        grph.add((Hardworking, GLO['averageWorkWeek'], Literal(row['averageWorkWeekByCountry_hpe'], datatype=XSD.string)))\n",
    "    if not pd.isnull(row['averageWorkWeekByCountry_hpeDataYear']) and row['averageWorkWeekByCountry_hpeDataYear'] != \"\":\n",
    "        grph.add((Hardworking, GLO['averageWorkWeekDataYear'], Literal(row['averageWorkWeekByCountry_hpeDataYear'], datatype=XSD.string)))\n",
    "    if not pd.isnull(row['mostOverworkedCountries_year2018']) and row['mostOverworkedCountries_year2018'] != \"\":\n",
    "        grph.add((Hardworking, GLO['mostOverworkedCountries'], Literal(row['mostOverworkedCountries_year2018'], datatype=XSD.string)))\n",
    "    if not pd.isnull(row['CountriesWithTheMostHolidaysNumberOfPublicHolidays']) and row['CountriesWithTheMostHolidaysNumberOfPublicHolidays'] != \"\":\n",
    "        grph.add((Hardworking, GLO['numberOfPublicHolidays'], Literal(row['CountriesWithTheMostHolidaysNumberOfPublicHolidays'], datatype=XSD.string)))\n",
    "\n",
    "    Country = URIRef(GLO[\"country_\" + str(index)])\n",
    "    grph.add((Accessibility, GLO['belongsToCountry'], Country))\n",
    "\n",
    "    grph.serialize(destination = os.path.join(current_path, 'PopulatedData', 'Hardworking.ttl'), format = 'turtle')"
   ]
  },
  {
   "cell_type": "markdown",
   "metadata": {},
   "source": [
    "## NaturalDisaster"
   ]
  },
  {
   "cell_type": "code",
   "execution_count": null,
   "metadata": {},
   "outputs": [],
   "source": [
    "naturalDisasterDF = pd.read_csv(naturalDisasterURL, sep=',', index_col='country')"
   ]
  },
  {
   "cell_type": "code",
   "execution_count": null,
   "metadata": {},
   "outputs": [],
   "source": [
    "grph = Graph()\n",
    "\n",
    "grph.bind(\"xsd\", XSD)\n",
    "grph.bind(\"glo\", GLO)"
   ]
  },
  {
   "cell_type": "code",
   "execution_count": null,
   "metadata": {},
   "outputs": [],
   "source": [
    "grph.add((GLO.NaturalDisaster, RDFS.subClassOf, GLO.Situation))\n",
    "\n",
    "for index, row in naturalDisasterDF.iterrows():\n",
    "   \n",
    "    naturalDisasterId = \"naturalDisaster_\" + str(index)\n",
    "    NaturalDisaster = URIRef(GLO[naturalDisasterId])\n",
    "    grph.add((NaturalDisaster, RDF.type, GLO.NaturalDisaster))\n",
    "\n",
    "    grph.add((NaturalDisaster, GLO['country'], Literal(index, datatype=XSD.string)))\n",
    "    if not pd.isnull(row['Year']) and row['Year'] != \"\":\n",
    "        grph.add((NaturalDisaster, GLO['year'], Literal(row['Year'], datatype=XSD.string)))\n",
    "    if not pd.isnull(row['Disaster Type']) and row['Disaster Type'] != \"\":\n",
    "        grph.add((NaturalDisaster, GLO['disasterType'], Literal(row['Disaster Type'], datatype=XSD.string)))\n",
    "    if not pd.isnull(row['Entry Criteria']) and row['Entry Criteria'] != \"\":\n",
    "        grph.add((NaturalDisaster, GLO['entryCriteria'], Literal(row['Entry Criteria'], datatype=XSD.string)))\n",
    "\n",
    "    Country = URIRef(GLO[\"country_\" + str(index)])\n",
    "    grph.add((Accessibility, GLO['belongsToCountry'], Country))\n",
    "\n",
    "    grph.serialize(destination = os.path.join(current_path, 'PopulatedData', 'NaturalDisaster.ttl'), format = 'turtle')"
   ]
  },
  {
   "cell_type": "markdown",
   "metadata": {},
   "source": [
    "## Peace"
   ]
  },
  {
   "cell_type": "code",
   "execution_count": null,
   "metadata": {},
   "outputs": [],
   "source": [
    "peaceDF = pd.read_csv(peaceURL, sep=',', index_col='country')"
   ]
  },
  {
   "cell_type": "code",
   "execution_count": null,
   "metadata": {},
   "outputs": [],
   "source": [
    "grph = Graph()\n",
    "\n",
    "grph.bind(\"xsd\", XSD)\n",
    "grph.bind(\"glo\", GLO)"
   ]
  },
  {
   "cell_type": "code",
   "execution_count": null,
   "metadata": {},
   "outputs": [],
   "source": [
    "grph.add((GLO.Peace, RDFS.subClassOf, GLO.Situation))\n",
    "\n",
    "for index, row in peaceDF.iterrows():\n",
    "   \n",
    "    peaceId = \"peace_\" + str(index)\n",
    "    Peace = URIRef(GLO[peaceId])\n",
    "    grph.add((Peace, RDF.type, GLO.Peace))\n",
    "\n",
    "    grph.add((Peace, GLO['country'], Literal(index, datatype=XSD.string)))\n",
    "    if not pd.isnull(row['MostPeaceful2023GPI']) and row['MostPeaceful2023GPI'] != \"\":\n",
    "        grph.add((Peace, GLO['mostPeaceful'], Literal(row['MostPeaceful2023GPI'], datatype=XSD.string)))\n",
    "\n",
    "    Country = URIRef(GLO[\"country_\" + str(index)])\n",
    "    grph.add((Accessibility, GLO['belongsToCountry'], Country))\n",
    "\n",
    "    grph.serialize(destination = os.path.join(current_path, 'PopulatedData', 'Peace.ttl'), format = 'turtle')"
   ]
  },
  {
   "cell_type": "markdown",
   "metadata": {},
   "source": [
    "## PeopleBeauty"
   ]
  },
  {
   "cell_type": "code",
   "execution_count": null,
   "metadata": {},
   "outputs": [],
   "source": [
    "peopleBeautyDF = pd.read_csv(peopleBeautyURL, sep=',', index_col='country')"
   ]
  },
  {
   "cell_type": "code",
   "execution_count": null,
   "metadata": {},
   "outputs": [],
   "source": [
    "grph = Graph()\n",
    "\n",
    "grph.bind(\"xsd\", XSD)\n",
    "grph.bind(\"glo\", GLO)"
   ]
  },
  {
   "cell_type": "code",
   "execution_count": null,
   "metadata": {},
   "outputs": [],
   "source": [
    "grph.add((GLO.PeopleBeauty, RDFS.subClassOf, GLO.Situation))\n",
    "\n",
    "for index, row in peopleBeautyDF.iterrows():\n",
    "   \n",
    "    peopleBeautyId = \"peopleBeauty_\" + str(index)\n",
    "    PeopleBeauty = URIRef(GLO[peopleBeautyId])\n",
    "    grph.add((PeopleBeauty, RDF.type, GLO.PeopleBeauty))\n",
    "\n",
    "    grph.add((PeopleBeauty, GLO['country'], Literal(index, datatype=XSD.string)))\n",
    "    if not pd.isnull(row['mostBeautifulWomen']) and row['mostBeautifulWomen'] != \"\":\n",
    "        grph.add((PeopleBeauty, GLO['mostBeautifulWomen'], Literal(row['mostBeautifulWomen'], datatype=XSD.string)))\n",
    "    if not pd.isnull(row['mostHandsomeMen']) and row['mostHandsomeMen'] != \"\":\n",
    "        grph.add((PeopleBeauty, GLO['mostHandsomeMen'], Literal(row['mostHandsomeMen'], datatype=XSD.string)))\n",
    "\n",
    "    Country = URIRef(GLO[\"country_\" + str(index)])\n",
    "    grph.add((Accessibility, GLO['belongsToCountry'], Country))\n",
    "\n",
    "    grph.serialize(destination = os.path.join(current_path, 'PopulatedData', 'PeopleBeauty.ttl'), format = 'turtle')"
   ]
  },
  {
   "cell_type": "markdown",
   "metadata": {},
   "source": [
    "## Population"
   ]
  },
  {
   "cell_type": "code",
   "execution_count": null,
   "metadata": {},
   "outputs": [],
   "source": [
    "populationDF = pd.read_csv(populationURL, sep=',', index_col='country')"
   ]
  },
  {
   "cell_type": "code",
   "execution_count": null,
   "metadata": {},
   "outputs": [],
   "source": [
    "grph = Graph()\n",
    "\n",
    "grph.bind(\"xsd\", XSD)\n",
    "grph.bind(\"glo\", GLO)"
   ]
  },
  {
   "cell_type": "code",
   "execution_count": null,
   "metadata": {},
   "outputs": [],
   "source": [
    "grph.add((GLO.Population, RDFS.subClassOf, GLO.Situation))\n",
    "\n",
    "for index, row in populationDF.iterrows():\n",
    "   \n",
    "    populationId = \"population_\" + str(index)\n",
    "    Population = URIRef(GLO[populationId])\n",
    "    grph.add((Population, RDF.type, GLO.Population))\n",
    "\n",
    "    grph.add((Population, GLO['country'], Literal(index, datatype=XSD.string)))\n",
    "    if not pd.isnull(row['birth_rate']) and row['birth_rate'] != \"\":\n",
    "        grph.add((Population, GLO['birthRate'], Literal(row['birth_rate'], datatype=XSD.string)))\n",
    "    if not pd.isnull(row['death_rate']) and row['death_rate'] != \"\":\n",
    "        grph.add((Population, GLO['deathRate'], Literal(row['death_rate'], datatype=XSD.string)))\n",
    "    if not pd.isnull(row['life_expectancy']) and row['life_expectancy'] != \"\":\n",
    "        grph.add((Population, GLO['lifeExpectancy'], Literal(row['life_expectancy'], datatype=XSD.string)))\n",
    "    if not pd.isnull(row['population_female']) and row['population_female'] != \"\":\n",
    "        grph.add((Population, GLO['populationFemale'], Literal(row['population_female'], datatype=XSD.string)))\n",
    "    if not pd.isnull(row['v']) and row['population_male'] != \"\":\n",
    "        grph.add((Population, GLO['populationMale'], Literal(row['population_male'], datatype=XSD.string)))\n",
    "    if not pd.isnull(row['population']) and row['population'] != \"\":\n",
    "        grph.add((Population, GLO['population'], Literal(row['population'], datatype=XSD.string)))\n",
    "    if not pd.isnull(row['median_age']) and row['median_age'] != \"\":\n",
    "        grph.add((Population, GLO['medianAge'], Literal(row['median_age'], datatype=XSD.string)))\n",
    "\n",
    "    Country = URIRef(GLO[\"country_\" + str(index)])\n",
    "    grph.add((Accessibility, GLO['belongsToCountry'], Country))\n",
    "\n",
    "    grph.serialize(destination = os.path.join(current_path, 'PopulatedData', 'Population.ttl'), format = 'turtle')"
   ]
  },
  {
   "cell_type": "markdown",
   "metadata": {},
   "source": [
    "## Religion"
   ]
  },
  {
   "cell_type": "code",
   "execution_count": null,
   "metadata": {},
   "outputs": [],
   "source": [
    "religionDF = pd.read_csv(religionURL, sep=',', index_col='country')"
   ]
  },
  {
   "cell_type": "code",
   "execution_count": null,
   "metadata": {},
   "outputs": [],
   "source": [
    "grph = Graph()\n",
    "\n",
    "grph.bind(\"xsd\", XSD)\n",
    "grph.bind(\"glo\", GLO)"
   ]
  },
  {
   "cell_type": "code",
   "execution_count": null,
   "metadata": {},
   "outputs": [],
   "source": [
    "grph.add((GLO.Religion, RDFS.subClassOf, GLO.Situation))\n",
    "\n",
    "for index, row in religionDF.iterrows():\n",
    "   \n",
    "    religionId = \"religion_\" + str(index)\n",
    "    Religion = URIRef(GLO[religionId])\n",
    "    grph.add((Religion, RDF.type, GLO.Religion))\n",
    "\n",
    "    grph.add((Religion, GLO['country'], Literal(index, datatype=XSD.string)))\n",
    "    if not pd.isnull(row['Year']) and row['Year'] != \"\":\n",
    "        grph.add((Religion, GLO['year'], Literal(row['Year'], datatype=XSD.string)))\n",
    "    if not pd.isnull(row['Sex']) and row['Sex'] != \"\":\n",
    "        grph.add((Religion, GLO['sex'], Literal(row['Sex'], datatype=XSD.string)))\n",
    "    if not pd.isnull(row['Religion']) and row['Religion'] != \"\":\n",
    "        grph.add((Religion, GLO['religion'], Literal(row['Religion'], datatype=XSD.string)))\n",
    "    if not pd.isnull(row['Value']) and row['Value'] != \"\":\n",
    "        grph.add((Religion, GLO['value'], Literal(row['Value'], datatype=XSD.string)))\n",
    "    if not pd.isnull(row['Gallup2022NonReligious']) and row['Gallup2022NonReligious'] != \"\":\n",
    "        grph.add((Religion, GLO['nonReligious'], Literal(row['Gallup2022NonReligious'], datatype=XSD.string)))\n",
    "    if not pd.isnull(row['Gallup2022Atheist']) and row['Gallup2022Atheist'] != \"\":\n",
    "        grph.add((Religion, GLO['atheist'], Literal(row['Gallup2022Atheist'], datatype=XSD.string)))\n",
    "    if not pd.isnull(row['Gallup2017Combined']) and row['Gallup2017Combined'] != \"\":\n",
    "        grph.add((Religion, GLO['combined'], Literal(row['Gallup2017Combined'], datatype=XSD.string)))\n",
    "    if not pd.isnull(row['Pew2010Unaffiliated']) and row['Pew2010Unaffiliated'] != \"\":\n",
    "        grph.add((Religion, GLO['unaffiliated'], Literal(row['Pew2010Unaffiliated'], datatype=XSD.string)))\n",
    "\n",
    "    Country = URIRef(GLO[\"country_\" + str(index)])\n",
    "    grph.add((Accessibility, GLO['belongsToCountry'], Country))\n",
    "\n",
    "    grph.serialize(destination = os.path.join(current_path, 'PopulatedData', 'Religion.ttl'), format = 'turtle')"
   ]
  },
  {
   "cell_type": "markdown",
   "metadata": {},
   "source": [
    "## Travel"
   ]
  },
  {
   "cell_type": "code",
   "execution_count": null,
   "metadata": {},
   "outputs": [],
   "source": [
    "travelDF = pd.read_csv(travelURL, sep=',', index_col='country')"
   ]
  },
  {
   "cell_type": "code",
   "execution_count": null,
   "metadata": {},
   "outputs": [],
   "source": [
    "grph = Graph()\n",
    "\n",
    "grph.bind(\"xsd\", XSD)\n",
    "grph.bind(\"glo\", GLO)"
   ]
  },
  {
   "cell_type": "code",
   "execution_count": null,
   "metadata": {},
   "outputs": [],
   "source": [
    "grph.add((GLO.Travel, RDFS.subClassOf, GLO.Situation))\n",
    "\n",
    "for index, row in travelDF.iterrows():\n",
    "   \n",
    "    travelId = \"travel_\" + str(index)\n",
    "    Travel = URIRef(GLO[travelId])\n",
    "    grph.add((Travel, RDF.type, GLO.Travel))\n",
    "\n",
    "    grph.add((Travel, GLO['country'], Literal(index, datatype=XSD.string)))\n",
    "    if not pd.isnull(row['MostVisitedNumOfArrivals']) and row['MostVisitedNumOfArrivals'] != \"\":\n",
    "        grph.add((Travel, GLO['mostVisitedNumOfArrivals'], Literal(row['MostVisitedNumOfArrivals'], datatype=XSD.string)))\n",
    "    if not pd.isnull(row['MostVisitedDataYear']) and row['MostVisitedDataYear'] != \"\":\n",
    "        grph.add((Travel, GLO['mostVisitedDataYear'], Literal(row['MostVisitedDataYear'], datatype=XSD.string)))\n",
    "    if not pd.isnull(row['shareOfVisits']) and row['shareOfVisits'] != \"\":\n",
    "        grph.add((Travel, GLO['shareOfVisits'], Literal(row['shareOfVisits'], datatype=XSD.string)))\n",
    "    if not pd.isnull(row['WorstToVisitTravelAdvisoryQ42022']) and row['WorstToVisitTravelAdvisoryQ42022'] != \"\":\n",
    "        grph.add((Travel, GLO['worstToVisitTravel'], Literal(row['WorstToVisitTravelAdvisoryQ42022'], datatype=XSD.string)))\n",
    "    if not pd.isnull(row['WorstToVisitPossibleThreats']) and row['WorstToVisitPossibleThreats'] != \"\":\n",
    "        grph.add((Travel, GLO['worstToVisitPossibleThreats'], Literal(row['WorstToVisitPossibleThreats'], datatype=XSD.string)))\n",
    "\n",
    "    Country = URIRef(GLO[\"country_\" + str(index)])\n",
    "    grph.add((Accessibility, GLO['belongsToCountry'], Country))\n",
    "\n",
    "    grph.serialize(destination = os.path.join(current_path, 'PopulatedData', 'Travel.ttl'), format = 'turtle')"
   ]
  }
 ],
 "metadata": {
  "kernelspec": {
   "display_name": "Python 3",
   "language": "python",
   "name": "python3"
  },
  "language_info": {
   "codemirror_mode": {
    "name": "ipython",
    "version": 3
   },
   "file_extension": ".py",
   "mimetype": "text/x-python",
   "name": "python",
   "nbconvert_exporter": "python",
   "pygments_lexer": "ipython3",
   "version": "3.12.0"
  }
 },
 "nbformat": 4,
 "nbformat_minor": 2
}

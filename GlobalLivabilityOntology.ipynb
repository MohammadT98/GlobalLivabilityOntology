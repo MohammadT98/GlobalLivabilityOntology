{
 "cells": [
  {
   "cell_type": "code",
   "execution_count": 13,
   "metadata": {},
   "outputs": [],
   "source": [
    "import pandas as pd\n",
    "import os\n",
    "\n",
    "from rdflib import Graph, Literal, RDF, URIRef, Namespace, BNode, OWL, RDFS\n",
    "\n",
    "from rdflib.namespace import XSD"
   ]
  },
  {
   "cell_type": "code",
   "execution_count": 14,
   "metadata": {},
   "outputs": [],
   "source": [
    "current_path = os.getcwd()\n",
    "\n",
    "countryURL = os.path.join(current_path, 'Datasets', 'Country.csv')\n",
    "\n",
    "accessibilityURL = os.path.join(current_path, 'Datasets', 'Accessibility.csv')\n",
    "conflictURL = os.path.join(current_path, 'Datasets', 'Conflict.csv')\n",
    "economyURL = os.path.join(current_path, 'Datasets', 'Economy.csv')\n",
    "educationURL = os.path.join(current_path, 'Datasets', 'Education.csv')\n",
    "freedomURL = os.path.join(current_path, 'Datasets', 'Freedom.csv')\n",
    "friendlinessURL = os.path.join(current_path, 'Datasets', 'Friendliness.csv')\n",
    "happinessURL = os.path.join(current_path, 'Datasets', 'Happiness.csv')\n",
    "hardworkingURL = os.path.join(current_path, 'Datasets', 'Hardworking.csv')\n",
    "naturalDisasterURL = os.path.join(current_path, 'Datasets', 'NaturalDisaster.csv')\n",
    "peaceURL = os.path.join(current_path, 'Datasets', 'Peace.csv')\n",
    "peopleBeautyURL = os.path.join(current_path, 'Datasets', 'PeopleBeauty.csv')\n",
    "populationURL = os.path.join(current_path, 'Datasets', 'Population.csv')\n",
    "religionURL = os.path.join(current_path, 'Datasets', 'Religion.csv')\n",
    "travelURL = os.path.join(current_path, 'Datasets', 'Travel.csv')"
   ]
  },
  {
   "cell_type": "code",
   "execution_count": 15,
   "metadata": {},
   "outputs": [],
   "source": [
    "GLO = Namespace(\"http://www.MT.org/graphDatabase/GlobalLivabilityOntology#\")"
   ]
  },
  {
   "cell_type": "markdown",
   "metadata": {},
   "source": [
    "## Country"
   ]
  },
  {
   "cell_type": "code",
   "execution_count": 16,
   "metadata": {},
   "outputs": [],
   "source": [
    "countryDF = pd.read_csv(countryURL, sep=',', index_col='country')"
   ]
  },
  {
   "cell_type": "code",
   "execution_count": 17,
   "metadata": {},
   "outputs": [],
   "source": [
    "grph = Graph()\n",
    "\n",
    "grph.bind(\"xsd\", XSD)\n",
    "grph.bind(\"glo\", GLO)"
   ]
  },
  {
   "cell_type": "code",
   "execution_count": 18,
   "metadata": {},
   "outputs": [
    {
     "data": {
      "text/plain": [
       "<Graph identifier=Nfd2239056f2643b6980a01431528e05a (<class 'rdflib.graph.Graph'>)>"
      ]
     },
     "execution_count": 18,
     "metadata": {},
     "output_type": "execute_result"
    }
   ],
   "source": [
    "for index, row in countryDF.iterrows():\n",
    "    if not pd.isnull(index) and index != \"\":\n",
    "        countryId = \"country_\" + str(index)\n",
    "        Country = URIRef(GLO[countryId])\n",
    "        grph.add((Country, RDF.type, GLO.Country))\n",
    "\n",
    "        grph.add((Country, GLO['country'], Literal(index, datatype=XSD.string)))\n",
    "        if not pd.isnull(row['name']) and row['name'] != \"\":\n",
    "            grph.add((Country, GLO['shortName'], Literal(row['name'], datatype=XSD.string)))\n",
    "        if not pd.isnull(row['fullName']) and row['fullName'] != \"\":\n",
    "            grph.add((Country, GLO['fullName'], Literal(row['fullName'], datatype=XSD.string)))\n",
    "        if not pd.isnull(row['language']) and row['language'] != \"\":\n",
    "            grph.add((Country, GLO['language'], Literal(row['language'], datatype=XSD.string)))\n",
    "        if not pd.isnull(row['currency']) and row['currency'] != \"\":\n",
    "            grph.add((Country, GLO['currency'], Literal(row['currency'], datatype=XSD.string)))\n",
    "        if not pd.isnull(row['capitalCity']) and row['capitalCity'] != \"\":\n",
    "            grph.add((Country, GLO['capitalCity'], Literal(row['capitalCity'], datatype=XSD.string)))\n",
    "        if not pd.isnull(row['region']) and row['region'] != \"\":\n",
    "            grph.add((Country, GLO['region'], Literal(row['region'], datatype=XSD.string)))\n",
    "        if not pd.isnull(row['continent']) and row['continent'] != \"\":\n",
    "            grph.add((Country, GLO['continent'], Literal(row['continent'], datatype=XSD.string)))\n",
    "        if not pd.isnull(row['latitude']) and row['latitude'] != \"\":\n",
    "            grph.add((Country, GLO['latitude'], Literal(row['latitude'], datatype=XSD.float)))\n",
    "        if not pd.isnull(row['longitude']) and row['longitude'] != \"\":\n",
    "            grph.add((Country, GLO['longitude'], Literal(row['longitude'], datatype=XSD.float)))\n",
    "\n",
    "grph.serialize(destination = os.path.join(current_path, 'PopulatedData', 'Country.ttl'), format = 'turtle')"
   ]
  },
  {
   "cell_type": "markdown",
   "metadata": {},
   "source": [
    "## Accessibility"
   ]
  },
  {
   "cell_type": "code",
   "execution_count": 20,
   "metadata": {},
   "outputs": [],
   "source": [
    "accessibilityDF = pd.read_csv(accessibilityURL, sep=',', index_col='country')"
   ]
  },
  {
   "cell_type": "code",
   "execution_count": 21,
   "metadata": {},
   "outputs": [],
   "source": [
    "grph = Graph()\n",
    "\n",
    "grph.bind(\"xsd\", XSD)\n",
    "grph.bind(\"glo\", GLO)"
   ]
  },
  {
   "cell_type": "code",
   "execution_count": 22,
   "metadata": {},
   "outputs": [
    {
     "data": {
      "text/plain": [
       "<Graph identifier=Na0340990db2847db93ea54c6daca0a3e (<class 'rdflib.graph.Graph'>)>"
      ]
     },
     "execution_count": 22,
     "metadata": {},
     "output_type": "execute_result"
    }
   ],
   "source": [
    "grph.add((GLO.Accessibility, RDFS.subClassOf, GLO.Situation))\n",
    "\n",
    "\n",
    "highAccessibility = GLO.HighAccessibility\n",
    "\n",
    "electricity_access_property = GLO['electricity_access_pct']\n",
    "internet_property = GLO['internet_pct']\n",
    "healthcare_property = GLO['BestHealthcareInTheWorldLegatumProsperityIndexHealthScore2023']\n",
    "\n",
    "BH_0 = BNode()\n",
    "BH_1 = BNode()\n",
    "BH_2 = BNode()\n",
    "BH_3 = BNode()\n",
    "BH_4 = BNode()\n",
    "BH_5 = BNode()\n",
    "BH_6 = BNode()\n",
    "BH_7 = BNode()\n",
    "BH_8 = BNode()\n",
    "BH_9 = BNode()\n",
    "BH_10 = BNode()\n",
    "BH_11 = BNode()\n",
    "BH_12 = BNode()\n",
    "BH_13 = BNode()\n",
    "BH_14 = BNode()\n",
    "BH_15 = BNode()\n",
    "BH_16 = BNode()\n",
    "\n",
    "grph.add((highAccessibility, RDF.type, OWL.Class))\n",
    "grph.add((highAccessibility, RDFS.subClassOf, GLO.Accessibility))\n",
    "\n",
    "grph.add((highAccessibility, OWL.equivalentClass, BH_0))\n",
    "\n",
    "grph.add((BH_0, OWL.intersectionOf, BH_1))\n",
    "\n",
    "grph.add((BH_1, RDF.type, RDF.List))\n",
    "grph.add((BH_1, RDF.first, GLO.Accessibility))\n",
    "grph.add((BH_1, RDF.rest, BH_2))\n",
    "\n",
    "grph.add((BH_2, RDF.type, RDF.List))\n",
    "grph.add((BH_2, RDF.first, BH_3))\n",
    "\n",
    "grph.add((BH_3, RDF.type, OWL.Restriction))\n",
    "grph.add((BH_3, OWL.onProperty, electricity_access_property))\n",
    "grph.add((BH_3, OWL.someValuesFrom, BH_4))\n",
    "\n",
    "grph.add((BH_4, RDF.type, RDFS.Datatype))\n",
    "grph.add((BH_4, OWL.onDatatype, XSD.float))\n",
    "grph.add((BH_4, OWL.withRestrictions, BH_5))\n",
    "\n",
    "grph.add((BH_5, RDF.type, RDF.List))\n",
    "grph.add((BH_6, RDF.type, RDF.List))\n",
    "\n",
    "grph.add((BH_5, RDF.first, BH_6))\n",
    "grph.add((BH_5, RDF.rest, RDF.nil))\n",
    "\n",
    "grph.add((BH_6, XSD.minInclusive, Literal(\"60\", datatype=XSD.float)))\n",
    "\n",
    "grph.add((BH_7, RDF.type, RDF.List))\n",
    "grph.add((BH_2, RDF.rest, BH_7))\n",
    "grph.add((BH_7, RDF.first, BH_8))\n",
    "\n",
    "grph.add((BH_8, RDF.type, OWL.Restriction))\n",
    "grph.add((BH_8, OWL.onProperty, internet_property))\n",
    "grph.add((BH_8, OWL.someValuesFrom, BH_9))\n",
    "\n",
    "grph.add((BH_9, RDF.type, RDFS.Datatype))\n",
    "grph.add((BH_9, OWL.onDatatype, XSD.float))\n",
    "grph.add((BH_9, OWL.withRestrictions, BH_10))\n",
    "\n",
    "grph.add((BH_10, RDF.type, RDF.List))\n",
    "grph.add((BH_11, RDF.type, RDF.List))\n",
    "\n",
    "grph.add((BH_10, RDF.first, BH_11))\n",
    "grph.add((BH_10, RDF.rest, RDF.nil))\n",
    "\n",
    "grph.add((BH_11, XSD.minInclusive, Literal(\"60\", datatype=XSD.float)))\n",
    "\n",
    "grph.add((BH_12, RDF.type, RDF.List))\n",
    "grph.add((BH_7, RDF.rest, BH_12))\n",
    "grph.add((BH_12, RDF.first, BH_13))\n",
    "\n",
    "grph.add((BH_13, RDF.type, OWL.Restriction))\n",
    "grph.add((BH_13, OWL.onProperty, healthcare_property))\n",
    "grph.add((BH_13, OWL.someValuesFrom, BH_14))\n",
    "\n",
    "grph.add((BH_14, RDF.type, RDFS.Datatype))\n",
    "grph.add((BH_14, OWL.onDatatype, XSD.float))\n",
    "grph.add((BH_14, OWL.withRestrictions, BH_15))\n",
    "\n",
    "grph.add((BH_15, RDF.type, RDF.List))\n",
    "grph.add((BH_16, RDF.type, RDF.List))\n",
    "\n",
    "grph.add((BH_15, RDF.first, BH_16))\n",
    "grph.add((BH_15, RDF.rest, RDF.nil))\n",
    "\n",
    "grph.add((BH_16, XSD.minInclusive, Literal(\"66\", datatype=XSD.float)))\n",
    "\n",
    "grph.add((BH_12, RDF.rest, RDF.nil))\n",
    "\n",
    "\n",
    "mediumAccessibility = GLO.MediumAccessibility\n",
    "\n",
    "BM_0 = BNode()\n",
    "BM_1 = BNode()\n",
    "BM_2 = BNode()\n",
    "BM_3 = BNode()\n",
    "BM_4 = BNode()\n",
    "BM_5 = BNode()\n",
    "BM_6 = BNode()\n",
    "BM_7 = BNode()\n",
    "BM_8 = BNode()\n",
    "BM_9 = BNode()\n",
    "BM_10 = BNode()\n",
    "BM_11 = BNode()\n",
    "BM_12 = BNode()\n",
    "BM_13 = BNode()\n",
    "BM_14 = BNode()\n",
    "BM_15 = BNode()\n",
    "BM_16 = BNode()\n",
    "BM_17 = BNode()\n",
    "BM_18 = BNode()\n",
    "BM_19 = BNode()\n",
    "BM_20 = BNode()\n",
    "BM_21 = BNode()\n",
    "BM_22 = BNode()\n",
    "\n",
    "grph.add((mediumAccessibility, RDF.type, OWL.Class))\n",
    "grph.add((mediumAccessibility, RDFS.subClassOf, GLO.Accessibility))\n",
    "\n",
    "grph.add((mediumAccessibility, OWL.equivalentClass, BM_0))\n",
    "\n",
    "grph.add((BM_0, OWL.intersectionOf, BM_1))\n",
    "\n",
    "grph.add((BM_1, RDF.type, RDF.List))\n",
    "grph.add((BM_1, RDF.first, GLO.Accessibility))\n",
    "grph.add((BM_1, RDF.rest, BM_2))\n",
    "\n",
    "grph.add((BM_2, RDF.type, RDF.List))\n",
    "grph.add((BM_2, RDF.first, BM_3))\n",
    "\n",
    "grph.add((BM_3, RDF.type, OWL.Restriction))\n",
    "grph.add((BM_3, OWL.onProperty, electricity_access_property))\n",
    "grph.add((BM_3, OWL.someValuesFrom, BM_4))\n",
    "\n",
    "grph.add((BM_4, RDF.type, RDFS.Datatype))\n",
    "grph.add((BM_4, OWL.onDatatype, XSD.float))\n",
    "grph.add((BM_4, OWL.withRestrictions, BM_5))\n",
    "\n",
    "grph.add((BM_5, RDF.type, RDF.List))\n",
    "grph.add((BM_6, RDF.type, RDF.List))\n",
    "grph.add((BM_7, RDF.type, RDF.List))\n",
    "grph.add((BM_8, RDF.type, RDF.List))\n",
    "\n",
    "grph.add((BM_5, RDF.first, BM_6))\n",
    "grph.add((BM_5, RDF.rest, BM_7))\n",
    "\n",
    "grph.add((BM_7, RDF.first, BM_8))\n",
    "grph.add((BM_7, RDF.rest, RDF.nil))\n",
    "\n",
    "grph.add((BM_6, XSD.minInclusive, Literal(\"30\", datatype=XSD.float)))\n",
    "grph.add((BM_8, XSD.maxExclusive, Literal(\"60\", datatype=XSD.float)))\n",
    "\n",
    "grph.add((BM_9, RDF.type, RDF.List))\n",
    "grph.add((BM_2, RDF.rest, BM_9))\n",
    "grph.add((BM_9, RDF.first, BM_10))\n",
    "\n",
    "grph.add((BM_10, RDF.type, OWL.Restriction))\n",
    "grph.add((BM_10, OWL.onProperty, internet_property))\n",
    "grph.add((BM_10, OWL.someValuesFrom, BM_11))\n",
    "\n",
    "grph.add((BM_11, RDF.type, RDFS.Datatype))\n",
    "grph.add((BM_11, OWL.onDatatype, XSD.float))\n",
    "grph.add((BM_11, OWL.withRestrictions, BM_12))\n",
    "\n",
    "grph.add((BM_12, RDF.type, RDF.List))\n",
    "grph.add((BM_13, RDF.type, RDF.List))\n",
    "grph.add((BM_14, RDF.type, RDF.List))\n",
    "grph.add((BM_15, RDF.type, RDF.List))\n",
    "\n",
    "grph.add((BM_12, RDF.first, BM_13))\n",
    "grph.add((BM_12, RDF.rest, BM_14))\n",
    "\n",
    "grph.add((BM_14, RDF.first, BM_15))\n",
    "grph.add((BM_14, RDF.rest, RDF.nil))\n",
    "\n",
    "grph.add((BM_13, XSD.minInclusive, Literal(\"30\", datatype=XSD.float)))\n",
    "grph.add((BM_15, XSD.maxExclusive, Literal(\"60\", datatype=XSD.float)))\n",
    "\n",
    "grph.add((BM_16, RDF.type, RDF.List))\n",
    "grph.add((BM_9, RDF.rest, BM_16))\n",
    "grph.add((BM_16, RDF.first, BM_17))\n",
    "\n",
    "grph.add((BM_17, RDF.type, OWL.Restriction))\n",
    "grph.add((BM_17, OWL.onProperty, healthcare_property))\n",
    "grph.add((BM_17, OWL.someValuesFrom, BM_18))\n",
    "\n",
    "grph.add((BM_18, RDF.type, RDFS.Datatype))\n",
    "grph.add((BM_18, OWL.onDatatype, XSD.float))\n",
    "grph.add((BM_18, OWL.withRestrictions, BM_19))\n",
    "\n",
    "grph.add((BM_19, RDF.type, RDF.List))\n",
    "grph.add((BM_20, RDF.type, RDF.List))\n",
    "grph.add((BM_21, RDF.type, RDF.List))\n",
    "grph.add((BM_22, RDF.type, RDF.List))\n",
    "\n",
    "grph.add((BM_19, RDF.first, BM_20))\n",
    "grph.add((BM_19, RDF.rest, BM_21))\n",
    "\n",
    "grph.add((BM_21, RDF.first, BM_22))\n",
    "grph.add((BM_21, RDF.rest, RDF.nil))\n",
    "\n",
    "grph.add((BM_20, XSD.minInclusive, Literal(\"48\", datatype=XSD.float)))\n",
    "grph.add((BM_22, XSD.maxExclusive, Literal(\"66\", datatype=XSD.float)))\n",
    "\n",
    "grph.add((BM_16, RDF.rest, RDF.nil))\n",
    "\n",
    "\n",
    "lowAccessibility = GLO.LowAccessibility\n",
    "\n",
    "BL_0 = BNode()\n",
    "BL_1 = BNode()\n",
    "BL_2 = BNode()\n",
    "BL_3 = BNode()\n",
    "BL_4 = BNode()\n",
    "BL_5 = BNode()\n",
    "BL_6 = BNode()\n",
    "BL_7 = BNode()\n",
    "BL_8 = BNode()\n",
    "BL_9 = BNode()\n",
    "BL_10 = BNode()\n",
    "BL_11 = BNode()\n",
    "BL_12 = BNode()\n",
    "BL_13 = BNode()\n",
    "BL_14 = BNode()\n",
    "BL_15 = BNode()\n",
    "BL_16 = BNode()\n",
    "\n",
    "grph.add((lowAccessibility, RDF.type, OWL.Class))\n",
    "grph.add((lowAccessibility, RDFS.subClassOf, GLO.Accessibility))\n",
    "\n",
    "grph.add((lowAccessibility, OWL.equivalentClass, BL_0))\n",
    "\n",
    "grph.add((BL_0, OWL.intersectionOf, BL_1))\n",
    "\n",
    "grph.add((BL_1, RDF.type, RDF.List))\n",
    "grph.add((BL_1, RDF.first, GLO.Accessibility))\n",
    "grph.add((BL_1, RDF.rest, BL_2))\n",
    "\n",
    "grph.add((BL_2, RDF.type, RDF.List))\n",
    "grph.add((BL_2, RDF.first, BL_3))\n",
    "\n",
    "grph.add((BL_3, RDF.type, OWL.Restriction))\n",
    "grph.add((BL_3, OWL.onProperty, electricity_access_property))\n",
    "grph.add((BL_3, OWL.someValuesFrom, BL_4))\n",
    "\n",
    "grph.add((BL_4, RDF.type, RDFS.Datatype))\n",
    "grph.add((BL_4, OWL.onDatatype, XSD.float))\n",
    "grph.add((BL_4, OWL.withRestrictions, BL_5))\n",
    "\n",
    "grph.add((BL_5, RDF.type, RDF.List))\n",
    "grph.add((BL_6, RDF.type, RDF.List))\n",
    "\n",
    "grph.add((BL_5, RDF.first, BL_6))\n",
    "grph.add((BL_5, RDF.rest, RDF.nil))\n",
    "\n",
    "grph.add((BL_6, XSD.maxExclusive, Literal(\"30\", datatype=XSD.float)))\n",
    "\n",
    "grph.add((BL_7, RDF.type, RDF.List))\n",
    "grph.add((BL_2, RDF.rest, BL_7))\n",
    "grph.add((BL_7, RDF.first, BL_8))\n",
    "\n",
    "grph.add((BL_8, RDF.type, OWL.Restriction))\n",
    "grph.add((BL_8, OWL.onProperty, internet_property))\n",
    "grph.add((BL_8, OWL.someValuesFrom, BL_9))\n",
    "\n",
    "grph.add((BL_9, RDF.type, RDFS.Datatype))\n",
    "grph.add((BL_9, OWL.onDatatype, XSD.float))\n",
    "grph.add((BL_9, OWL.withRestrictions, BL_10))\n",
    "\n",
    "grph.add((BL_10, RDF.type, RDF.List))\n",
    "grph.add((BL_11, RDF.type, RDF.List))\n",
    "\n",
    "grph.add((BL_10, RDF.first, BL_11))\n",
    "grph.add((BL_10, RDF.rest, RDF.nil))\n",
    "\n",
    "grph.add((BL_11, XSD.maxExclusive, Literal(\"30\", datatype=XSD.float)))\n",
    "\n",
    "grph.add((BL_12, RDF.type, RDF.List))\n",
    "grph.add((BL_7, RDF.rest, BL_12))\n",
    "grph.add((BL_12, RDF.first, BL_13))\n",
    "\n",
    "grph.add((BL_13, RDF.type, OWL.Restriction))\n",
    "grph.add((BL_13, OWL.onProperty, healthcare_property))\n",
    "grph.add((BL_13, OWL.someValuesFrom, BL_14))\n",
    "\n",
    "grph.add((BL_14, RDF.type, RDFS.Datatype))\n",
    "grph.add((BL_14, OWL.onDatatype, XSD.float))\n",
    "grph.add((BL_14, OWL.withRestrictions, BL_15))\n",
    "\n",
    "grph.add((BL_15, RDF.type, RDF.List))\n",
    "grph.add((BL_16, RDF.type, RDF.List))\n",
    "\n",
    "grph.add((BL_15, RDF.first, BL_16))\n",
    "grph.add((BL_15, RDF.rest, RDF.nil))\n",
    "\n",
    "grph.add((BL_16, XSD.maxExclusive, Literal(\"48\", datatype=XSD.float)))\n",
    "\n",
    "grph.add((BL_12, RDF.rest, RDF.nil))\n",
    "\n",
    "for index, row in accessibilityDF.iterrows():\n",
    "    if not pd.isnull(index) and index != \"\":\n",
    "        accessibilityId = \"accessibility_\" + str(index)\n",
    "        Accessibility = URIRef(GLO[accessibilityId])\n",
    "        grph.add((Accessibility, RDF.type, GLO.Accessibility))\n",
    "\n",
    "        grph.add((Accessibility, GLO['country'], Literal(index, datatype=XSD.string)))\n",
    "        if not pd.isnull(row['electricity_access_pct']) and row['electricity_access_pct'] != \"\":\n",
    "            grph.add((Accessibility, GLO['electricityAccess'], Literal(row['electricity_access_pct'], datatype=XSD.float)))\n",
    "        if not pd.isnull(row['internet_pct']) and row['internet_pct'] != \"\":\n",
    "            grph.add((Accessibility, GLO['internet'], Literal(row['internet_pct'], datatype=XSD.float)))\n",
    "        if not pd.isnull(row['InternetSpeedsFixedBroadbandDownloadSpeed']) and row['InternetSpeedsFixedBroadbandDownloadSpeed'] != \"\":\n",
    "            grph.add((Accessibility, GLO['internetSpeed'], Literal(row['InternetSpeedsFixedBroadbandDownloadSpeed'], datatype=XSD.float)))\n",
    "        if not pd.isnull(row['BestHealthcareInTheWorldLegatumProsperityIndexHealthScore2023']) and row['BestHealthcareInTheWorldLegatumProsperityIndexHealthScore2023'] != \"\":\n",
    "            grph.add((Accessibility, GLO['healthcare'], Literal(row['BestHealthcareInTheWorldLegatumProsperityIndexHealthScore2023'], datatype=XSD.float)))\n",
    "        if not pd.isnull(row['CountriesWithoutMcDonalds']) and row['CountriesWithoutMcDonalds'] != \"\":\n",
    "            grph.add((Accessibility, GLO['withoutMcDonalds'], Literal(row['CountriesWithoutMcDonalds'], datatype=XSD.string)))\n",
    "\n",
    "\n",
    "        electricity_access = Literal(row['electricity_access_pct'], datatype=XSD.float)\n",
    "        internet = Literal(row['internet_pct'], datatype=XSD.float)\n",
    "        Healthcare = Literal(row['BestHealthcareInTheWorldLegatumProsperityIndexHealthScore2023'], datatype=XSD.float)\n",
    "\n",
    "        if ((electricity_access >= Literal(\"60\", datatype=XSD.float)) and (internet >= Literal(\"60\", datatype=XSD.float)) and (Healthcare >= Literal(\"66\", datatype=XSD.float))):\n",
    "            grph.add((Accessibility,RDF.type,GLO.HighAccessibility))\n",
    "        elif ((electricity_access >= Literal(\"30\", datatype=XSD.float)) and (electricity_access < Literal(\"60\", datatype=XSD.float)) and (internet >= Literal(\"30\", datatype=XSD.float)) and (internet < Literal(\"60\", datatype=XSD.float)) and (Healthcare >= Literal(\"48\", datatype=XSD.float)) and (Healthcare < Literal(\"66\", datatype=XSD.float))):\n",
    "            grph.add((Accessibility,RDF.type,GLO.MediumAccessibility))\n",
    "        elif ((electricity_access < Literal(\"30\", datatype=XSD.float)) and (internet < Literal(\"30\", datatype=XSD.float)) and (Healthcare < Literal(\"48\", datatype=XSD.float))):\n",
    "            grph.add((Accessibility,RDF.type,GLO.LowAccessibility))\n",
    "\n",
    "\n",
    "        Country = URIRef(GLO[\"country_\" + str(index)])\n",
    "        grph.add((Accessibility, GLO['belongsToCountry'], Country))\n",
    "\n",
    "grph.serialize(destination = os.path.join(current_path, 'PopulatedData', 'Accessibility.ttl'), format = 'turtle')"
   ]
  },
  {
   "cell_type": "markdown",
   "metadata": {},
   "source": [
    "## Conflict"
   ]
  },
  {
   "cell_type": "code",
   "execution_count": 4,
   "metadata": {},
   "outputs": [],
   "source": [
    "conflictDF = pd.read_csv(conflictURL, sep=',', index_col='country')"
   ]
  },
  {
   "cell_type": "code",
   "execution_count": 5,
   "metadata": {},
   "outputs": [],
   "source": [
    "grph = Graph()\n",
    "\n",
    "grph.bind(\"xsd\", XSD)\n",
    "grph.bind(\"glo\", GLO)"
   ]
  },
  {
   "cell_type": "code",
   "execution_count": 6,
   "metadata": {},
   "outputs": [
    {
     "data": {
      "text/plain": [
       "<Graph identifier=N730548ffb52c4b52b8c50c6118802fab (<class 'rdflib.graph.Graph'>)>"
      ]
     },
     "execution_count": 6,
     "metadata": {},
     "output_type": "execute_result"
    }
   ],
   "source": [
    "grph.add((GLO.Conflict, RDFS.subClassOf, GLO.Situation))\n",
    "\n",
    "for index, row in conflictDF.iterrows():\n",
    "    if not pd.isnull(index) and index != \"\":\n",
    "        conflictId = \"conflict_\" + str(index)\n",
    "        Conflict = URIRef(GLO[conflictId])\n",
    "        grph.add((Conflict, RDF.type, GLO.Conflict))\n",
    "\n",
    "        grph.add((Conflict, GLO['country'], Literal(index, datatype=XSD.string)))\n",
    "        if not pd.isnull(row['Date']) and row['Date'] != \"\":    \n",
    "            grph.add((Conflict, GLO['date'], Literal(row['Date'], datatype=XSD.gYear)))\n",
    "        if not pd.isnull(row['Until']) and row['Until'] != \"\":\n",
    "            grph.add((Conflict, GLO['until'], Literal(row['Until'], datatype=XSD.gYear)))\n",
    "        if not pd.isnull(row['Headline']) and row['Headline'] != \"\":\n",
    "            grph.add((Conflict, GLO['headline'], Literal(row['Headline'], datatype=XSD.string)))\n",
    "        if not pd.isnull(row['Description']) and row['Description'] != \"\":\n",
    "            grph.add((Conflict, GLO['description'], Literal(row['Description'], datatype=XSD.string)))\n",
    "        if not pd.isnull(row['Sources']) and row['Sources'] != \"\":\n",
    "            grph.add((Conflict, GLO['sources'], Literal(row['Sources'], datatype=XSD.string)))\n",
    "\n",
    "        Country = URIRef(GLO[\"country_\" + str(index)])\n",
    "        grph.add((Conflict, GLO['belongsToCountry'], Country))\n",
    "\n",
    "grph.serialize(destination = os.path.join(current_path, 'PopulatedData', 'Conflict.ttl'), format = 'turtle')"
   ]
  },
  {
   "cell_type": "markdown",
   "metadata": {},
   "source": [
    "## Economy"
   ]
  },
  {
   "cell_type": "code",
   "execution_count": 7,
   "metadata": {},
   "outputs": [],
   "source": [
    "economyDF = pd.read_csv(economyURL, sep=',', index_col='country')"
   ]
  },
  {
   "cell_type": "code",
   "execution_count": 8,
   "metadata": {},
   "outputs": [],
   "source": [
    "grph = Graph()\n",
    "\n",
    "grph.bind(\"xsd\", XSD)\n",
    "grph.bind(\"glo\", GLO)"
   ]
  },
  {
   "cell_type": "code",
   "execution_count": 9,
   "metadata": {},
   "outputs": [
    {
     "data": {
      "text/plain": [
       "<Graph identifier=Naac1041f862245c6bd27b40c93307e98 (<class 'rdflib.graph.Graph'>)>"
      ]
     },
     "execution_count": 9,
     "metadata": {},
     "output_type": "execute_result"
    }
   ],
   "source": [
    "grph.add((GLO.Economy, RDFS.subClassOf, GLO.Situation))\n",
    "\n",
    "highInflation = GLO.HighInflation\n",
    "\n",
    "inflation_property = GLO['inflation']\n",
    "\n",
    "BH_0 = BNode()\n",
    "BH_1 = BNode()\n",
    "BH_2 = BNode()\n",
    "BH_3 = BNode()\n",
    "BH_4 = BNode()\n",
    "BH_5 = BNode()\n",
    "BH_6 = BNode()\n",
    "\n",
    "grph.add((highInflation, RDF.type, OWL.Class))\n",
    "grph.add((highInflation, RDFS.subClassOf, GLO.Economy))\n",
    "\n",
    "grph.add((highInflation, OWL.equivalentClass, BH_0))\n",
    "\n",
    "grph.add((BH_0, OWL.intersectionOf, BH_1))\n",
    "\n",
    "grph.add((BH_1, RDF.type, RDF.List))\n",
    "grph.add((BH_1, RDF.first, GLO.Economy))\n",
    "grph.add((BH_1, RDF.rest, BH_2))\n",
    "\n",
    "grph.add((BH_2, RDF.type, RDF.List))\n",
    "grph.add((BH_2, RDF.first, BH_3))\n",
    "\n",
    "grph.add((BH_3, RDF.type, OWL.Restriction))\n",
    "grph.add((BH_3, OWL.onProperty, inflation_property))\n",
    "grph.add((BH_3, OWL.someValuesFrom, BH_4))\n",
    "\n",
    "grph.add((BH_4, RDF.type, RDFS.Datatype))\n",
    "grph.add((BH_4, OWL.onDatatype, XSD.float))\n",
    "grph.add((BH_4, OWL.withRestrictions, BH_5))\n",
    "\n",
    "grph.add((BH_5, RDF.type, RDF.List))\n",
    "grph.add((BH_6, RDF.type, RDF.List))\n",
    "\n",
    "grph.add((BH_5, RDF.first, BH_6))\n",
    "grph.add((BH_5, RDF.rest, RDF.nil))\n",
    "\n",
    "grph.add((BH_6, XSD.minInclusive, Literal(\"20\", datatype=XSD.float)))\n",
    "\n",
    "grph.add((BH_2, RDF.rest, RDF.nil))\n",
    "\n",
    "lowInflation = GLO.LowInflation\n",
    "\n",
    "BL_0 = BNode()\n",
    "BL_1 = BNode()\n",
    "BL_2 = BNode()\n",
    "BL_3 = BNode()\n",
    "BL_4 = BNode()\n",
    "BL_5 = BNode()\n",
    "BL_6 = BNode()\n",
    "\n",
    "grph.add((lowInflation, RDF.type, OWL.Class))\n",
    "grph.add((lowInflation, RDFS.subClassOf, GLO.Economy))\n",
    "\n",
    "grph.add((lowInflation, OWL.equivalentClass, BL_0))\n",
    "\n",
    "grph.add((BL_0, OWL.intersectionOf, BL_1))\n",
    "\n",
    "grph.add((BL_1, RDF.type, RDF.List))\n",
    "grph.add((BL_1, RDF.first, GLO.Economy))\n",
    "grph.add((BL_1, RDF.rest, BL_2))\n",
    "\n",
    "grph.add((BL_2, RDF.type, RDF.List))\n",
    "grph.add((BL_2, RDF.first, BL_3))\n",
    "\n",
    "grph.add((BL_3, RDF.type, OWL.Restriction))\n",
    "grph.add((BL_3, OWL.onProperty, inflation_property))\n",
    "grph.add((BL_3, OWL.someValuesFrom, BL_4))\n",
    "\n",
    "grph.add((BL_4, RDF.type, RDFS.Datatype))\n",
    "grph.add((BL_4, OWL.onDatatype, XSD.float))\n",
    "grph.add((BL_4, OWL.withRestrictions, BL_5))\n",
    "\n",
    "grph.add((BL_5, RDF.type, RDF.List))\n",
    "grph.add((BL_6, RDF.type, RDF.List))\n",
    "\n",
    "grph.add((BL_5, RDF.first, BL_6))\n",
    "grph.add((BL_5, RDF.rest, RDF.nil))\n",
    "\n",
    "grph.add((BL_6, XSD.maxExclusive, Literal(\"20\", datatype=XSD.float)))\n",
    "\n",
    "grph.add((BL_2, RDF.rest, RDF.nil))\n",
    "\n",
    "for index, row in economyDF.iterrows():\n",
    "    if not pd.isnull(index) and index != \"\":\n",
    "        economyId = \"economy_\" + str(index)\n",
    "        Economy = URIRef(GLO[economyId])\n",
    "        grph.add((Economy, RDF.type, GLO.Economy))\n",
    "        \n",
    "        grph.add((Economy, GLO['country'], Literal(index, datatype=XSD.string)))\n",
    "        if not pd.isnull(row['gdp']) and row['gdp'] != \"\":\n",
    "            grph.add((Economy, GLO['gdp'], Literal(row['gdp'], datatype=XSD.long)))\n",
    "        if not pd.isnull(row['inflation']) and row['inflation'] != \"\":\n",
    "            grph.add((Economy, GLO['inflation'], Literal(row['inflation'], datatype=XSD.float)))\n",
    "        if not pd.isnull(row['tax_revenue_pct_gdp']) and row['tax_revenue_pct_gdp'] != \"\":\n",
    "            grph.add((Economy, GLO['taxRevenue'], Literal(row['tax_revenue_pct_gdp'], datatype=XSD.float)))\n",
    "        if not pd.isnull(row['unemployment_pct']) and row['unemployment_pct'] != \"\":\n",
    "            grph.add((Economy, GLO['unemployment'], Literal(row['unemployment_pct'], datatype=XSD.float)))\n",
    "\n",
    "        \n",
    "        if ((Literal(row['inflation'], datatype=XSD.float) >= Literal(\"20\", datatype=XSD.float))):\n",
    "            grph.add((Economy,RDF.type,GLO.HighInflation))\n",
    "        elif ((Literal(row['inflation'], datatype=XSD.float) < Literal(\"20\", datatype=XSD.float))):\n",
    "            grph.add((Economy,RDF.type,GLO.LowInflation))\n",
    "\n",
    "        Country = URIRef(GLO[\"country_\" + str(index)])\n",
    "        grph.add((Economy, GLO['belongsToCountry'], Country))\n",
    "\n",
    "grph.serialize(destination = os.path.join(current_path, 'PopulatedData', 'Economy.ttl'), format = 'turtle')"
   ]
  },
  {
   "cell_type": "markdown",
   "metadata": {},
   "source": [
    "## Education"
   ]
  },
  {
   "cell_type": "code",
   "execution_count": 35,
   "metadata": {},
   "outputs": [],
   "source": [
    "educationDF = pd.read_csv(educationURL, sep=',', index_col='country')"
   ]
  },
  {
   "cell_type": "code",
   "execution_count": 36,
   "metadata": {},
   "outputs": [],
   "source": [
    "grph = Graph()\n",
    "\n",
    "grph.bind(\"xsd\", XSD)\n",
    "grph.bind(\"glo\", GLO)"
   ]
  },
  {
   "cell_type": "code",
   "execution_count": 39,
   "metadata": {},
   "outputs": [
    {
     "data": {
      "text/plain": [
       "<Graph identifier=N90a7e1b41695449f90f2bbc83d6c0364 (<class 'rdflib.graph.Graph'>)>"
      ]
     },
     "execution_count": 39,
     "metadata": {},
     "output_type": "execute_result"
    }
   ],
   "source": [
    "grph.add((GLO.Education, RDFS.subClassOf, GLO.Situation))\n",
    "\n",
    "for index, row in educationDF.iterrows():\n",
    "    if not pd.isnull(index) and index != \"\":\n",
    "        educationId = \"education_\" + str(index)\n",
    "        Education = URIRef(GLO[educationId])\n",
    "        grph.add((Education, RDF.type, GLO.Education))\n",
    "\n",
    "        grph.add((Education, GLO['country'], Literal(index, datatype=XSD.string)))\n",
    "        if not pd.isnull(row['IQ']) and row['IQ'] != \"\":\n",
    "            grph.add((Education, GLO['IQ'], Literal(int(row['IQ']), datatype=XSD.integer)))\n",
    "        if not pd.isnull(row['education_expenditure']) and row['education_expenditure'] != \"\":\n",
    "            grph.add((Education, GLO['educationExpenditure'], Literal(int(row['education_expenditure']), datatype=XSD.integer)))\n",
    "        if not pd.isnull(row['EFEnglishProficiencyIndexProficiencyBands']) and row['EFEnglishProficiencyIndexProficiencyBands'] != \"\":\n",
    "            grph.add((Education, GLO['englishProficiency'], Literal(row['EFEnglishProficiencyIndexProficiencyBands'], datatype=XSD.string)))\n",
    "\n",
    "        Country = URIRef(GLO[\"country_\" + str(index)])\n",
    "        grph.add((Education, GLO['belongsToCountry'], Country))\n",
    "\n",
    "grph.serialize(destination = os.path.join(current_path, 'PopulatedData', 'Education.ttl'), format = 'turtle')"
   ]
  },
  {
   "cell_type": "markdown",
   "metadata": {},
   "source": [
    "## Freedom"
   ]
  },
  {
   "cell_type": "code",
   "execution_count": 40,
   "metadata": {},
   "outputs": [],
   "source": [
    "freedomDF = pd.read_csv(freedomURL, sep=',', index_col='country')"
   ]
  },
  {
   "cell_type": "code",
   "execution_count": 41,
   "metadata": {},
   "outputs": [],
   "source": [
    "grph = Graph()\n",
    "\n",
    "grph.bind(\"xsd\", XSD)\n",
    "grph.bind(\"glo\", GLO)"
   ]
  },
  {
   "cell_type": "code",
   "execution_count": 42,
   "metadata": {},
   "outputs": [
    {
     "data": {
      "text/plain": [
       "<Graph identifier=Nff3adc27504b4195a7d2bd771a158682 (<class 'rdflib.graph.Graph'>)>"
      ]
     },
     "execution_count": 42,
     "metadata": {},
     "output_type": "execute_result"
    }
   ],
   "source": [
    "grph.add((GLO.Freedom, RDFS.subClassOf, GLO.Situation))\n",
    "\n",
    "for index, row in freedomDF.iterrows():\n",
    "    if not pd.isnull(index) and index != \"\":\n",
    "        freedomId = \"freedom_\" + str(index)\n",
    "        Freedom = URIRef(GLO[freedomId])\n",
    "        grph.add((Freedom, RDF.type, GLO.Freedom))\n",
    "\n",
    "        \n",
    "        grph.add((Freedom, GLO['country'], Literal(index, datatype=XSD.string)))\n",
    "        if not pd.isnull(row['democracy_score']) and row['democracy_score'] != \"\":\n",
    "            grph.add((Freedom, GLO['democracy'], Literal(row['democracy_score'], datatype=XSD.float)))\n",
    "        if not pd.isnull(row['democracy_type']) and row['democracy_type'] != \"\":\n",
    "            grph.add((Freedom, GLO['democracyType'], Literal(row['democracy_type'], datatype=XSD.string)))\n",
    "        if not pd.isnull(row['currentLeadership']) and row['currentLeadership'] != \"\":\n",
    "            grph.add((Freedom, GLO['currentLeadership'], Literal(row['currentLeadership'], datatype=XSD.string)))\n",
    "        if not pd.isnull(row['InternetFreedomStatus']) and row['InternetFreedomStatus'] != \"\":\n",
    "            grph.add((Freedom, GLO['internetFreedom'], Literal(row['InternetFreedomStatus'], datatype=XSD.string)))\n",
    "        if not pd.isnull(row['CountriesWhereAlcoholIsIllegal']) and row['CountriesWhereAlcoholIsIllegal'] != \"\":\n",
    "            grph.add((Freedom, GLO['alcoholIsIllegal'], Literal(row['CountriesWhereAlcoholIsIllegal'], datatype=XSD.string)))\n",
    "        if not pd.isnull(row['countriesWhereAbortionIsIllegal_legality']) and row['countriesWhereAbortionIsIllegal_legality'] != \"\":\n",
    "            grph.add((Freedom, GLO['abortionIsIllegal'], Literal(row['countriesWhereAbortionIsIllegal_legality'], datatype=XSD.string)))\n",
    "        if not pd.isnull(row['genderEqualityByCountry_gendEqal2021']) and row['genderEqualityByCountry_gendEqal2021'] != \"\":\n",
    "            grph.add((Freedom, GLO['genderEquality'], Literal(row['genderEqualityByCountry_gendEqal2021'], datatype=XSD.float)))\n",
    "        if not pd.isnull(row['CountriesWhereWearingBurqaIsMandatoryHijabMandatory']) and row['CountriesWhereWearingBurqaIsMandatoryHijabMandatory'] != \"\":\n",
    "            grph.add((Freedom, GLO['wearingBurqaIsMandatory'], Literal(row['CountriesWhereWearingBurqaIsMandatoryHijabMandatory'], datatype=XSD.string)))\n",
    "        if not pd.isnull(row['countriesWithMandatoryMilitaryService_mandatoryService']) and row['countriesWithMandatoryMilitaryService_mandatoryService'] != \"\":\n",
    "            grph.add((Freedom, GLO['mandatoryMilitaryService'], Literal(row['countriesWithMandatoryMilitaryService_mandatoryService'], datatype=XSD.string)))\n",
    "        if not pd.isnull(row['LgbtqDeathPenalty']) and row['LgbtqDeathPenalty'] != \"\":\n",
    "            grph.add((Freedom, GLO['lgbtqDeathPenalty'], Literal(row['LgbtqDeathPenalty'], datatype=XSD.string)))\n",
    "        if not pd.isnull(row['LgbtqMaxPenalty']) and row['LgbtqMaxPenalty'] != \"\":\n",
    "            grph.add((Freedom, GLO['lgbtqMaxPenalty'], Literal(row['LgbtqMaxPenalty'], datatype=XSD.string)))\n",
    "\n",
    "        Country = URIRef(GLO[\"country_\" + str(index)])\n",
    "        grph.add((Freedom, GLO['belongsToCountry'], Country))\n",
    "\n",
    "grph.serialize(destination = os.path.join(current_path, 'PopulatedData', 'Freedom.ttl'), format = 'turtle')"
   ]
  },
  {
   "cell_type": "markdown",
   "metadata": {},
   "source": [
    "## Friendliness"
   ]
  },
  {
   "cell_type": "code",
   "execution_count": 43,
   "metadata": {},
   "outputs": [],
   "source": [
    "friendlinessDF = pd.read_csv(friendlinessURL, sep=',', index_col='country')"
   ]
  },
  {
   "cell_type": "code",
   "execution_count": 44,
   "metadata": {},
   "outputs": [],
   "source": [
    "grph = Graph()\n",
    "\n",
    "grph.bind(\"xsd\", XSD)\n",
    "grph.bind(\"glo\", GLO)"
   ]
  },
  {
   "cell_type": "code",
   "execution_count": 45,
   "metadata": {},
   "outputs": [
    {
     "data": {
      "text/plain": [
       "<Graph identifier=Nff04a3c6e8e24e3587c782f1bc23338e (<class 'rdflib.graph.Graph'>)>"
      ]
     },
     "execution_count": 45,
     "metadata": {},
     "output_type": "execute_result"
    }
   ],
   "source": [
    "grph.add((GLO.Friendliness, RDFS.subClassOf, GLO.Situation))\n",
    "\n",
    "for index, row in friendlinessDF.iterrows():\n",
    "    if not pd.isnull(index) and index != \"\":\n",
    "        friendlinessId = \"friendliness_\" + str(index)\n",
    "        Friendliness = URIRef(GLO[friendlinessId])\n",
    "        grph.add((Friendliness, RDF.type, GLO.Friendliness))\n",
    "\n",
    "        grph.add((Friendliness, GLO['country'], Literal(index, datatype=XSD.string)))\n",
    "        if not pd.isnull(row['friendliestCountries_ranking']) and row['friendliestCountries_ranking'] != \"\":\n",
    "            grph.add((Friendliness, GLO['friendliest'], Literal(int(row['friendliestCountries_ranking']), datatype=XSD.integer)))\n",
    "        if not pd.isnull(row['LeastRacistCountriesRacialEqualityRankings2023']) and row['LeastRacistCountriesRacialEqualityRankings2023'] != \"\":\n",
    "            grph.add((Friendliness, GLO['leastRacist'], Literal(int(row['LeastRacistCountriesRacialEqualityRankings2023']), datatype=XSD.integer)))\n",
    "        if not pd.isnull(row['HomophobicRank2017']) and row['HomophobicRank2017'] != \"\":\n",
    "            grph.add((Friendliness, GLO['homophobic'], Literal(int(row['HomophobicRank2017']), datatype=XSD.integer)))\n",
    "\n",
    "        Country = URIRef(GLO[\"country_\" + str(index)])\n",
    "        grph.add((Friendliness, GLO['belongsToCountry'], Country))\n",
    "\n",
    "grph.serialize(destination = os.path.join(current_path, 'PopulatedData', 'Friendliness.ttl'), format = 'turtle')"
   ]
  },
  {
   "cell_type": "markdown",
   "metadata": {},
   "source": [
    "## Happiness"
   ]
  },
  {
   "cell_type": "code",
   "execution_count": 46,
   "metadata": {},
   "outputs": [],
   "source": [
    "happinessDF = pd.read_csv(happinessURL, sep=',', index_col='country')"
   ]
  },
  {
   "cell_type": "code",
   "execution_count": 47,
   "metadata": {},
   "outputs": [],
   "source": [
    "grph = Graph()\n",
    "\n",
    "grph.bind(\"xsd\", XSD)\n",
    "grph.bind(\"glo\", GLO)"
   ]
  },
  {
   "cell_type": "code",
   "execution_count": 48,
   "metadata": {},
   "outputs": [
    {
     "data": {
      "text/plain": [
       "<Graph identifier=N188d05dc2e14443c97176557a3d25d51 (<class 'rdflib.graph.Graph'>)>"
      ]
     },
     "execution_count": 48,
     "metadata": {},
     "output_type": "execute_result"
    }
   ],
   "source": [
    "grph.add((GLO.Happiness, RDFS.subClassOf, GLO.Situation))\n",
    "\n",
    "veryHappy = GLO.VeryHappy\n",
    "\n",
    "lifeLadder_property = GLO['LifeLadder']\n",
    "\n",
    "BVH_0 = BNode()\n",
    "BVH_1 = BNode()\n",
    "BVH_2 = BNode()\n",
    "BVH_3 = BNode()\n",
    "BVH_4 = BNode()\n",
    "BVH_5 = BNode()\n",
    "BVH_6 = BNode()\n",
    "\n",
    "grph.add((veryHappy, RDF.type, OWL.Class))\n",
    "grph.add((veryHappy, RDFS.subClassOf, GLO.Happiness))\n",
    "\n",
    "grph.add((veryHappy, OWL.equivalentClass, BVH_0))\n",
    "\n",
    "grph.add((BVH_0, OWL.intersectionOf, BVH_1))\n",
    "\n",
    "grph.add((BVH_1, RDF.type, RDF.List))\n",
    "grph.add((BVH_1, RDF.first, GLO.Happiness))\n",
    "grph.add((BVH_1, RDF.rest, BVH_2))\n",
    "\n",
    "grph.add((BVH_2, RDF.type, RDF.List))\n",
    "grph.add((BVH_2, RDF.first, BVH_3))\n",
    "\n",
    "grph.add((BVH_3, RDF.type, OWL.Restriction))\n",
    "grph.add((BVH_3, OWL.onProperty, lifeLadder_property))\n",
    "grph.add((BVH_3, OWL.someValuesFrom, BVH_4))\n",
    "\n",
    "grph.add((BVH_4, RDF.type, RDFS.Datatype))\n",
    "grph.add((BVH_4, OWL.onDatatype, XSD.float))\n",
    "grph.add((BVH_4, OWL.withRestrictions, BVH_5))\n",
    "\n",
    "grph.add((BVH_5, RDF.type, RDF.List))\n",
    "grph.add((BVH_6, RDF.type, RDF.List))\n",
    "\n",
    "grph.add((BVH_5, RDF.first, BVH_6))\n",
    "grph.add((BVH_6, RDF.rest, RDF.nil))\n",
    "\n",
    "grph.add((BVH_6, XSD.minInclusive, Literal(\"6\", datatype=XSD.float)))\n",
    "\n",
    "grph.add((BVH_2, RDF.rest, RDF.nil))\n",
    "\n",
    "happy = GLO.Happy\n",
    "\n",
    "BH_0 = BNode()\n",
    "BH_1 = BNode()\n",
    "BH_2 = BNode()\n",
    "BH_3 = BNode()\n",
    "BH_4 = BNode()\n",
    "BH_5 = BNode()\n",
    "BH_6 = BNode()\n",
    "BH_7 = BNode()\n",
    "BH_8 = BNode()\n",
    "\n",
    "grph.add((happy, RDF.type, OWL.Class))\n",
    "grph.add((happy, RDFS.subClassOf, GLO.Happiness))\n",
    "\n",
    "grph.add((happy, OWL.equivalentClass, BH_0))\n",
    "\n",
    "grph.add((BH_0, OWL.intersectionOf, BH_1))\n",
    "\n",
    "grph.add((BH_1, RDF.type, RDF.List))\n",
    "grph.add((BH_1, RDF.first, GLO.Happiness))\n",
    "grph.add((BH_1, RDF.rest, BH_2))\n",
    "\n",
    "grph.add((BH_2, RDF.type, RDF.List))\n",
    "grph.add((BH_2, RDF.first, BH_3))\n",
    "\n",
    "grph.add((BH_3, RDF.type, OWL.Restriction))\n",
    "grph.add((BH_3, OWL.onProperty, lifeLadder_property))\n",
    "grph.add((BH_3, OWL.someValuesFrom, BH_4))\n",
    "\n",
    "grph.add((BH_4, RDF.type, RDFS.Datatype))\n",
    "grph.add((BH_4, OWL.onDatatype, XSD.float))\n",
    "grph.add((BH_4, OWL.withRestrictions, BH_5))\n",
    "\n",
    "grph.add((BH_5, RDF.type, RDF.List))\n",
    "grph.add((BH_6, RDF.type, RDF.List))\n",
    "grph.add((BH_7, RDF.type, RDF.List))\n",
    "grph.add((BH_8, RDF.type, RDF.List))\n",
    "\n",
    "grph.add((BH_5, RDF.first, BH_6))\n",
    "grph.add((BH_5, RDF.rest, BH_7))\n",
    "\n",
    "grph.add((BH_7, RDF.first, BH_8))\n",
    "grph.add((BH_7, RDF.rest, RDF.nil))\n",
    "\n",
    "grph.add((BH_6, XSD.minInclusive, Literal(\"5\", datatype=XSD.float)))\n",
    "grph.add((BH_8, XSD.maxExclusive, Literal(\"6\", datatype=XSD.float)))\n",
    "\n",
    "grph.add((BH_2, RDF.rest, RDF.nil))\n",
    "\n",
    "notVeryHappy = GLO.NotVeryHappy\n",
    "\n",
    "BNV_0 = BNode()\n",
    "BNV_1 = BNode()\n",
    "BNV_2 = BNode()\n",
    "BNV_3 = BNode()\n",
    "BNV_4 = BNode()\n",
    "BNV_5 = BNode()\n",
    "BNV_6 = BNode()\n",
    "BNV_7 = BNode()\n",
    "BNV_8 = BNode()\n",
    "\n",
    "grph.add((notVeryHappy, RDF.type, OWL.Class))\n",
    "grph.add((notVeryHappy, RDFS.subClassOf, GLO.Happiness))\n",
    "\n",
    "grph.add((notVeryHappy, OWL.equivalentClass, BNV_0))\n",
    "\n",
    "grph.add((BNV_0, OWL.intersectionOf, BNV_1))\n",
    "\n",
    "grph.add((BNV_1, RDF.type, RDF.List))\n",
    "grph.add((BNV_1, RDF.first, GLO.Happiness))\n",
    "grph.add((BNV_1, RDF.rest, BNV_2))\n",
    "\n",
    "grph.add((BNV_2, RDF.type, RDF.List))\n",
    "grph.add((BNV_2, RDF.first, BNV_3))\n",
    "\n",
    "grph.add((BNV_3, RDF.type, OWL.Restriction))\n",
    "grph.add((BNV_3, OWL.onProperty, lifeLadder_property))\n",
    "grph.add((BNV_3, OWL.someValuesFrom, BNV_4))\n",
    "\n",
    "grph.add((BNV_4, RDF.type, RDFS.Datatype))\n",
    "grph.add((BNV_4, OWL.onDatatype, XSD.float))\n",
    "grph.add((BNV_4, OWL.withRestrictions, BNV_5))\n",
    "\n",
    "grph.add((BNV_5, RDF.type, RDF.List))\n",
    "grph.add((BNV_6, RDF.type, RDF.List))\n",
    "grph.add((BNV_7, RDF.type, RDF.List))\n",
    "grph.add((BNV_8, RDF.type, RDF.List))\n",
    "\n",
    "grph.add((BNV_5, RDF.first, BNV_6))\n",
    "grph.add((BNV_5, RDF.rest, BNV_7))\n",
    "\n",
    "grph.add((BNV_7, RDF.first, BNV_8))\n",
    "grph.add((BNV_7, RDF.rest, RDF.nil))\n",
    "\n",
    "grph.add((BNV_6, XSD.minInclusive, Literal(\"4\", datatype=XSD.float)))\n",
    "grph.add((BNV_8, XSD.maxExclusive, Literal(\"5\", datatype=XSD.float)))\n",
    "\n",
    "grph.add((BNV_2, RDF.rest, RDF.nil))\n",
    "\n",
    "sad = GLO.Sad\n",
    "\n",
    "BS_0 = BNode()\n",
    "BS_1 = BNode()\n",
    "BS_2 = BNode()\n",
    "BS_3 = BNode()\n",
    "BS_4 = BNode()\n",
    "BS_5 = BNode()\n",
    "BS_6 = BNode()\n",
    "\n",
    "grph.add((sad, RDF.type, OWL.Class))\n",
    "grph.add((sad, RDFS.subClassOf, GLO.Happiness))\n",
    "\n",
    "grph.add((sad, OWL.equivalentClass, BS_0))\n",
    "\n",
    "grph.add((BS_0, OWL.intersectionOf, BS_1))\n",
    "\n",
    "grph.add((BS_1, RDF.type, RDF.List))\n",
    "grph.add((BS_1, RDF.first, GLO.Happiness))\n",
    "grph.add((BS_1, RDF.rest, BS_2))\n",
    "\n",
    "grph.add((BS_2, RDF.type, RDF.List))\n",
    "grph.add((BS_2, RDF.first, BS_3))\n",
    "\n",
    "grph.add((BS_3, RDF.type, OWL.Restriction))\n",
    "grph.add((BS_3, OWL.onProperty, lifeLadder_property))\n",
    "grph.add((BS_3, OWL.someValuesFrom, BS_4))\n",
    "\n",
    "grph.add((BS_4, RDF.type, RDFS.Datatype))\n",
    "grph.add((BS_4, OWL.onDatatype, XSD.float))\n",
    "grph.add((BS_4, OWL.withRestrictions, BS_5))\n",
    "\n",
    "grph.add((BS_5, RDF.type, RDF.List))\n",
    "grph.add((BS_6, RDF.type, RDF.List))\n",
    "\n",
    "grph.add((BS_5, RDF.first, BS_6))\n",
    "grph.add((BS_5, RDF.rest, RDF.nil))\n",
    "\n",
    "grph.add((BS_6, XSD.maxExclusive, Literal(\"4\", datatype=XSD.float)))\n",
    "\n",
    "grph.add((BS_2, RDF.rest, RDF.nil))\n",
    "\n",
    "for index, row in happinessDF.iterrows():\n",
    "    if not pd.isnull(index) and index != \"\":\n",
    "        happinessId = \"happiness_\" + str(index)\n",
    "        Happiness = URIRef(GLO[happinessId])\n",
    "        grph.add((Happiness, RDF.type, GLO.Happiness))\n",
    "\n",
    "\n",
    "        grph.add((Happiness, GLO['country'], Literal(index, datatype=XSD.string)))\n",
    "        if not pd.isnull(row['LifeLadder']) and row['LifeLadder'] != \"\":\n",
    "            grph.add((Happiness, GLO['lifeLadder'], Literal(row['LifeLadder'], datatype=XSD.float)))\n",
    "        if not pd.isnull(row['SocialSupport']) and row['SocialSupport'] != \"\":\n",
    "            grph.add((Happiness, GLO['socialSupport'], Literal(row['SocialSupport'], datatype=XSD.float)))\n",
    "        if not pd.isnull(row['HealthyLifeExpectancyAtBirth']) and row['HealthyLifeExpectancyAtBirth'] != \"\":\n",
    "            grph.add((Happiness, GLO['healthyLifeExpectancy'], Literal(row['HealthyLifeExpectancyAtBirth'], datatype=XSD.float)))\n",
    "        if not pd.isnull(row['FreedomToMakeLifeChoices']) and row['FreedomToMakeLifeChoices'] != \"\":\n",
    "            grph.add((Happiness, GLO['freedomToMakeLifeChoices'], Literal(row['FreedomToMakeLifeChoices'], datatype=XSD.float)))\n",
    "        if not pd.isnull(row['Generosity']) and row['Generosity'] != \"\":\n",
    "            grph.add((Happiness, GLO['generosity'], Literal(row['Generosity'], datatype=XSD.float)))\n",
    "        if not pd.isnull(row['PerceptionsOfCorruption']) and row['PerceptionsOfCorruption'] != \"\":\n",
    "            grph.add((Happiness, GLO['perceptionsOfCorruption'], Literal(row['PerceptionsOfCorruption'], datatype=XSD.float)))\n",
    "        if not pd.isnull(row['PositiveAffect']) and row['PositiveAffect'] != \"\":\n",
    "            grph.add((Happiness, GLO['positiveAffect'], Literal(row['PositiveAffect'], datatype=XSD.float)))\n",
    "        if not pd.isnull(row['NegativeAffect']) and row['NegativeAffect'] != \"\":\n",
    "            grph.add((Happiness, GLO['negativeAffect'], Literal(row['NegativeAffect'], datatype=XSD.float)))\n",
    "        if not pd.isnull(row['ConfidenceInNationalGovernment']) and row['ConfidenceInNationalGovernment'] != \"\":\n",
    "            grph.add((Happiness, GLO['confidenceInNationalGovernment'], Literal(row['ConfidenceInNationalGovernment'], datatype=XSD.float)))\n",
    "        if not pd.isnull(row['SuicideRate']) and row['SuicideRate'] != \"\":\n",
    "            grph.add((Happiness, GLO['suicideRate'], Literal(row['SuicideRate'], datatype=XSD.float)))\n",
    "\n",
    "\n",
    "        if ((Literal(row['LifeLadder'], datatype=XSD.float) >= Literal(\"6\", datatype=XSD.float))):\n",
    "            grph.add((Happiness,RDF.type,GLO.VeryHappy))\n",
    "        elif ((Literal(row['LifeLadder'], datatype=XSD.float) < Literal(\"6\", datatype=XSD.float)) and (Literal(row['LifeLadder'], datatype=XSD.float) >= Literal(\"5\", datatype=XSD.float))):\n",
    "            grph.add((Happiness,RDF.type,GLO.Happy))\n",
    "        elif ((Literal(row['LifeLadder'], datatype=XSD.float) < Literal(\"5\", datatype=XSD.float)) and (Literal(row['LifeLadder'], datatype=XSD.float) >= Literal(\"4\", datatype=XSD.float))):\n",
    "            grph.add((Happiness,RDF.type,GLO.NotVeryHappy))\n",
    "        elif ((Literal(row['LifeLadder'], datatype=XSD.float) < Literal(\"4\", datatype=XSD.float))):\n",
    "            grph.add((Happiness,RDF.type,GLO.Sad))\n",
    "\n",
    "        Country = URIRef(GLO[\"country_\" + str(index)])\n",
    "        grph.add((Happiness, GLO['belongsToCountry'], Country))\n",
    "\n",
    "grph.serialize(destination = os.path.join(current_path, 'PopulatedData', 'Happiness.ttl'), format = 'turtle')"
   ]
  },
  {
   "cell_type": "markdown",
   "metadata": {},
   "source": [
    "## Hardworking"
   ]
  },
  {
   "cell_type": "code",
   "execution_count": 49,
   "metadata": {},
   "outputs": [],
   "source": [
    "hardworkingDF = pd.read_csv(hardworkingURL, sep=',', index_col='country')"
   ]
  },
  {
   "cell_type": "code",
   "execution_count": 50,
   "metadata": {},
   "outputs": [],
   "source": [
    "grph = Graph()\n",
    "\n",
    "grph.bind(\"xsd\", XSD)\n",
    "grph.bind(\"glo\", GLO)"
   ]
  },
  {
   "cell_type": "code",
   "execution_count": 51,
   "metadata": {},
   "outputs": [
    {
     "data": {
      "text/plain": [
       "<Graph identifier=N583656b2fd1a44549b35d499d27b860a (<class 'rdflib.graph.Graph'>)>"
      ]
     },
     "execution_count": 51,
     "metadata": {},
     "output_type": "execute_result"
    }
   ],
   "source": [
    "grph.add((GLO.Hardworking, RDFS.subClassOf, GLO.Situation))\n",
    "\n",
    "for index, row in hardworkingDF.iterrows():\n",
    "    if not pd.isnull(index) and index != \"\":\n",
    "        hardworkingId = \"hardworking_\" + str(index)\n",
    "        Hardworking = URIRef(GLO[hardworkingId])\n",
    "        grph.add((Hardworking, RDF.type, GLO.Hardworking))\n",
    "\n",
    "        \n",
    "        grph.add((Hardworking, GLO['country'], Literal(index, datatype=XSD.string)))\n",
    "        if not pd.isnull(row['averageWorkWeekByCountry_hpe']) and row['averageWorkWeekByCountry_hpe'] != \"\":\n",
    "            grph.add((Hardworking, GLO['averageWorkWeek'], Literal(int(row['averageWorkWeekByCountry_hpe']), datatype=XSD.integer)))\n",
    "        if not pd.isnull(row['averageWorkWeekByCountry_hpeDataYear']) and row['averageWorkWeekByCountry_hpeDataYear'] != \"\":\n",
    "            grph.add((Hardworking, GLO['averageWorkWeekDataYear'], Literal(row['averageWorkWeekByCountry_hpeDataYear'], datatype=XSD.gYear)))\n",
    "        if not pd.isnull(row['mostOverworkedCountries_year2018']) and row['mostOverworkedCountries_year2018'] != \"\":\n",
    "            grph.add((Hardworking, GLO['mostOverworkedCountries'], Literal(row['mostOverworkedCountries_year2018'], datatype=XSD.float)))\n",
    "        if not pd.isnull(row['CountriesWithTheMostHolidaysNumberOfPublicHolidays']) and row['CountriesWithTheMostHolidaysNumberOfPublicHolidays'] != \"\":\n",
    "            grph.add((Hardworking, GLO['numberOfPublicHolidays'], Literal(int(row['CountriesWithTheMostHolidaysNumberOfPublicHolidays']), datatype=XSD.integer)))\n",
    "\n",
    "        Country = URIRef(GLO[\"country_\" + str(index)])\n",
    "        grph.add((Hardworking, GLO['belongsToCountry'], Country))\n",
    "\n",
    "grph.serialize(destination = os.path.join(current_path, 'PopulatedData', 'Hardworking.ttl'), format = 'turtle')"
   ]
  },
  {
   "cell_type": "markdown",
   "metadata": {},
   "source": [
    "## NaturalDisaster"
   ]
  },
  {
   "cell_type": "code",
   "execution_count": 7,
   "metadata": {},
   "outputs": [],
   "source": [
    "naturalDisasterDF = pd.read_csv(naturalDisasterURL, sep=',', index_col='country')"
   ]
  },
  {
   "cell_type": "code",
   "execution_count": 8,
   "metadata": {},
   "outputs": [],
   "source": [
    "grph = Graph()\n",
    "\n",
    "grph.bind(\"xsd\", XSD)\n",
    "grph.bind(\"glo\", GLO)"
   ]
  },
  {
   "cell_type": "code",
   "execution_count": 9,
   "metadata": {},
   "outputs": [
    {
     "data": {
      "text/plain": [
       "<Graph identifier=N32b331d236404358a54e40a7f869b044 (<class 'rdflib.graph.Graph'>)>"
      ]
     },
     "execution_count": 9,
     "metadata": {},
     "output_type": "execute_result"
    }
   ],
   "source": [
    "grph.add((GLO.NaturalDisaster, RDFS.subClassOf, GLO.Situation))\n",
    "\n",
    "for index, row in naturalDisasterDF.iterrows():\n",
    "    if not pd.isnull(index) and index != \"\":\n",
    "        naturalDisasterId = \"naturalDisaster_\" + str(index)\n",
    "        NaturalDisaster = URIRef(GLO[naturalDisasterId])\n",
    "        grph.add((NaturalDisaster, RDF.type, GLO.NaturalDisaster))\n",
    "\n",
    "        if not pd.isnull(index) and index != \"\":\n",
    "            grph.add((NaturalDisaster, GLO['country'], Literal(index, datatype=XSD.string)))\n",
    "        if not pd.isnull(row['Year']) and row['Year'] != \"\":\n",
    "            grph.add((NaturalDisaster, GLO['year'], Literal(row['Year'], datatype=XSD.gYear)))\n",
    "        if not pd.isnull(row['Disaster Type']) and row['Disaster Type'] != \"\":\n",
    "            grph.add((NaturalDisaster, GLO['disasterType'], Literal(row['Disaster Type'], datatype=XSD.string)))\n",
    "        if not pd.isnull(row['Entry Criteria']) and row['Entry Criteria'] != \"\":\n",
    "            grph.add((NaturalDisaster, GLO['entryCriteria'], Literal(row['Entry Criteria'], datatype=XSD.string)))\n",
    "\n",
    "        Country = URIRef(GLO[\"country_\" + str(index)])\n",
    "        grph.add((NaturalDisaster, GLO['belongsToCountry'], Country))\n",
    "\n",
    "grph.serialize(destination = os.path.join(current_path, 'PopulatedData', 'NaturalDisaster.ttl'), format = 'turtle')"
   ]
  },
  {
   "cell_type": "markdown",
   "metadata": {},
   "source": [
    "## Peace"
   ]
  },
  {
   "cell_type": "code",
   "execution_count": 10,
   "metadata": {},
   "outputs": [],
   "source": [
    "peaceDF = pd.read_csv(peaceURL, sep=',', index_col='country')"
   ]
  },
  {
   "cell_type": "code",
   "execution_count": 11,
   "metadata": {},
   "outputs": [],
   "source": [
    "grph = Graph()\n",
    "\n",
    "grph.bind(\"xsd\", XSD)\n",
    "grph.bind(\"glo\", GLO)"
   ]
  },
  {
   "cell_type": "code",
   "execution_count": 12,
   "metadata": {},
   "outputs": [
    {
     "data": {
      "text/plain": [
       "<Graph identifier=N255abf3dcd5642f7973c22adc7ae505e (<class 'rdflib.graph.Graph'>)>"
      ]
     },
     "execution_count": 12,
     "metadata": {},
     "output_type": "execute_result"
    }
   ],
   "source": [
    "grph.add((GLO.Peace, RDFS.subClassOf, GLO.Situation))\n",
    "\n",
    "veryPeaceful = GLO.VeryPeaceful\n",
    "\n",
    "peaceful_property = GLO['MostPeaceful2023GPI']\n",
    "\n",
    "BV_0 = BNode()\n",
    "BV_1 = BNode()\n",
    "BV_2 = BNode()\n",
    "BV_3 = BNode()\n",
    "BV_4 = BNode()\n",
    "BV_5 = BNode()\n",
    "BV_6 = BNode()\n",
    "\n",
    "grph.add((veryPeaceful, RDF.type, OWL.Class))\n",
    "grph.add((veryPeaceful, RDFS.subClassOf, GLO.Peace))\n",
    "\n",
    "grph.add((veryPeaceful, OWL.equivalentClass, BV_0))\n",
    "\n",
    "grph.add((BV_0, OWL.intersectionOf, BV_1))\n",
    "\n",
    "grph.add((BV_1, RDF.type, RDF.List))\n",
    "grph.add((BV_1, RDF.first, GLO.Peace))\n",
    "grph.add((BV_1, RDF.rest, BV_2))\n",
    "\n",
    "grph.add((BV_2, RDF.type, RDF.List))\n",
    "grph.add((BV_2, RDF.first, BV_3))\n",
    "\n",
    "grph.add((BV_3, RDF.type, OWL.Restriction))\n",
    "grph.add((BV_3, OWL.onProperty, peaceful_property))\n",
    "grph.add((BV_3, OWL.someValuesFrom, BV_4))\n",
    "\n",
    "grph.add((BV_4, RDF.type, RDFS.Datatype))\n",
    "grph.add((BV_4, OWL.onDatatype, XSD.float))\n",
    "grph.add((BV_4, OWL.withRestrictions, BV_5))\n",
    "\n",
    "grph.add((BV_5, RDF.type, RDF.List))\n",
    "grph.add((BV_6, RDF.type, RDF.List))\n",
    "\n",
    "grph.add((BV_5, RDF.first, BV_6))\n",
    "grph.add((BV_5, RDF.rest, RDF.nil))\n",
    "\n",
    "grph.add((BV_6, XSD.maxExclusive, Literal(\"1.5\", datatype=XSD.float)))\n",
    "\n",
    "grph.add((BV_2, RDF.rest, RDF.nil))\n",
    "\n",
    "peaceful = GLO.Peaceful\n",
    "\n",
    "B_0 = BNode()\n",
    "B_1 = BNode()\n",
    "B_2 = BNode()\n",
    "B_3 = BNode()\n",
    "B_4 = BNode()\n",
    "B_5 = BNode()\n",
    "B_6 = BNode()\n",
    "B_7 = BNode()\n",
    "B_8 = BNode()\n",
    "\n",
    "grph.add((peaceful, RDF.type, OWL.Class))\n",
    "grph.add((peaceful, RDFS.subClassOf, GLO.Peace))\n",
    "\n",
    "grph.add((peaceful, OWL.equivalentClass, B_0))\n",
    "\n",
    "grph.add((B_0, OWL.intersectionOf, B_1))\n",
    "\n",
    "grph.add((B_1, RDF.type, RDF.List))\n",
    "grph.add((B_1, RDF.first, GLO.Peace))\n",
    "grph.add((B_1, RDF.rest, B_2))\n",
    "\n",
    "grph.add((B_2, RDF.type, RDF.List))\n",
    "grph.add((B_2, RDF.first, B_3))\n",
    "\n",
    "grph.add((B_3, RDF.type, OWL.Restriction))\n",
    "grph.add((B_3, OWL.onProperty, peaceful_property))\n",
    "grph.add((B_3, OWL.someValuesFrom, B_4))\n",
    "\n",
    "grph.add((B_4, RDF.type, RDFS.Datatype))\n",
    "grph.add((B_4, OWL.onDatatype, XSD.float))\n",
    "grph.add((B_4, OWL.withRestrictions, B_5))\n",
    "\n",
    "grph.add((B_5, RDF.type, RDF.List))\n",
    "grph.add((B_6, RDF.type, RDF.List))\n",
    "grph.add((B_7, RDF.type, RDF.List))\n",
    "grph.add((B_8, RDF.type, RDF.List))\n",
    "\n",
    "grph.add((B_5, RDF.first, B_6))\n",
    "grph.add((B_5, RDF.rest, B_7))\n",
    "\n",
    "grph.add((B_7, RDF.first, B_8))\n",
    "grph.add((B_7, RDF.rest, RDF.nil))\n",
    "\n",
    "grph.add((B_6, XSD.minInclusive, Literal(\"1\", datatype=XSD.float)))\n",
    "grph.add((B_8, XSD.maxExclusive, Literal(\"2\", datatype=XSD.float)))\n",
    "\n",
    "grph.add((B_2, RDF.rest, RDF.nil))\n",
    "\n",
    "notVeryPeaceful = GLO.NotVeryPeaceful\n",
    "\n",
    "BNV_0 = BNode()\n",
    "BNV_1 = BNode()\n",
    "BNV_2 = BNode()\n",
    "BNV_3 = BNode()\n",
    "BNV_4 = BNode()\n",
    "BNV_5 = BNode()\n",
    "BNV_6 = BNode()\n",
    "\n",
    "grph.add((notVeryPeaceful, RDF.type, OWL.Class))\n",
    "grph.add((notVeryPeaceful, RDFS.subClassOf, GLO.Peace))\n",
    "\n",
    "grph.add((notVeryPeaceful, OWL.equivalentClass, BNV_0))\n",
    "\n",
    "grph.add((BNV_0, OWL.intersectionOf, BNV_1))\n",
    "\n",
    "grph.add((BNV_1, RDF.type, RDF.List))\n",
    "grph.add((BNV_1, RDF.first, GLO.Peace))\n",
    "grph.add((BNV_1, RDF.rest, BNV_2))\n",
    "\n",
    "grph.add((BNV_2, RDF.type, RDF.List))\n",
    "grph.add((BNV_2, RDF.first, BNV_3))\n",
    "\n",
    "grph.add((BNV_3, RDF.type, OWL.Restriction))\n",
    "grph.add((BNV_3, OWL.onProperty, peaceful_property))\n",
    "grph.add((BNV_3, OWL.someValuesFrom, BNV_4))\n",
    "\n",
    "grph.add((BNV_4, RDF.type, RDFS.Datatype))\n",
    "grph.add((BNV_4, OWL.onDatatype, XSD.float))\n",
    "grph.add((BNV_4, OWL.withRestrictions, BNV_5))\n",
    "\n",
    "grph.add((BNV_5, RDF.type, RDF.List))\n",
    "grph.add((BNV_6, RDF.type, RDF.List))\n",
    "\n",
    "grph.add((BNV_5, RDF.first, BNV_6))\n",
    "grph.add((BNV_5, RDF.rest, RDF.nil))\n",
    "\n",
    "grph.add((BNV_6, XSD.minInclusive, Literal(\"3\", datatype=XSD.float)))\n",
    "\n",
    "grph.add((BNV_2, RDF.rest, RDF.nil))\n",
    "\n",
    "for index, row in peaceDF.iterrows():\n",
    "    if not pd.isnull(index) and index != \"\":\n",
    "        peaceId = \"peace_\" + str(index)\n",
    "        Peace = URIRef(GLO[peaceId])\n",
    "        grph.add((Peace, RDF.type, GLO.Peace))\n",
    "\n",
    "        if not pd.isnull(index) and index != \"\":\n",
    "            grph.add((Peace, GLO['country'], Literal(index, datatype=XSD.string)))\n",
    "        if not pd.isnull(row['MostPeaceful2023GPI']) and row['MostPeaceful2023GPI'] != \"\":\n",
    "            grph.add((Peace, GLO['mostPeaceful'], Literal(row['MostPeaceful2023GPI'], datatype=XSD.float)))\n",
    "\n",
    "\n",
    "        if ((Literal(row['MostPeaceful2023GPI'], datatype=XSD.float) < Literal(\"1.5\", datatype=XSD.float))):\n",
    "            grph.add((Peace,RDF.type,GLO.VeryPeaceful))\n",
    "        elif ((Literal(row['MostPeaceful2023GPI'], datatype=XSD.float) >= Literal(\"1\", datatype=XSD.float)) and (Literal(row['MostPeaceful2023GPI'], datatype=XSD.float) < Literal(\"2\", datatype=XSD.float))):\n",
    "            grph.add((Peace,RDF.type,GLO.Peaceful))\n",
    "        elif ((Literal(row['MostPeaceful2023GPI'], datatype=XSD.float) > Literal(\"3\", datatype=XSD.float))):\n",
    "            grph.add((Peace,RDF.type,GLO.NotVeryPeaceful))\n",
    "\n",
    "\n",
    "        Country = URIRef(GLO[\"country_\" + str(index)])\n",
    "        grph.add((Peace, GLO['belongsToCountry'], Country))\n",
    "\n",
    "grph.serialize(destination = os.path.join(current_path, 'PopulatedData', 'Peace.ttl'), format = 'turtle')"
   ]
  },
  {
   "cell_type": "markdown",
   "metadata": {},
   "source": [
    "## PeopleBeauty"
   ]
  },
  {
   "cell_type": "code",
   "execution_count": 13,
   "metadata": {},
   "outputs": [],
   "source": [
    "peopleBeautyDF = pd.read_csv(peopleBeautyURL, sep=',', index_col='country')"
   ]
  },
  {
   "cell_type": "code",
   "execution_count": 14,
   "metadata": {},
   "outputs": [],
   "source": [
    "grph = Graph()\n",
    "\n",
    "grph.bind(\"xsd\", XSD)\n",
    "grph.bind(\"glo\", GLO)"
   ]
  },
  {
   "cell_type": "code",
   "execution_count": 16,
   "metadata": {},
   "outputs": [
    {
     "data": {
      "text/plain": [
       "<Graph identifier=Ne2c0ee9c60a54ab595c78a3459b36fa0 (<class 'rdflib.graph.Graph'>)>"
      ]
     },
     "execution_count": 16,
     "metadata": {},
     "output_type": "execute_result"
    }
   ],
   "source": [
    "grph.add((GLO.PeopleBeauty, RDFS.subClassOf, GLO.Situation))\n",
    "\n",
    "for index, row in peopleBeautyDF.iterrows():\n",
    "    if not pd.isnull(index) and index != \"\":\n",
    "        peopleBeautyId = \"peopleBeauty_\" + str(index)\n",
    "        PeopleBeauty = URIRef(GLO[peopleBeautyId])\n",
    "        grph.add((PeopleBeauty, RDF.type, GLO.PeopleBeauty))\n",
    "\n",
    "        if not pd.isnull(index) and index != \"\":\n",
    "            grph.add((PeopleBeauty, GLO['country'], Literal(index, datatype=XSD.string)))\n",
    "        if not pd.isnull(row['mostBeautifulWomen']) and row['mostBeautifulWomen'] != \"\":\n",
    "            grph.add((PeopleBeauty, GLO['mostBeautifulWomen'], Literal(int(row['mostBeautifulWomen']), datatype=XSD.integer)))\n",
    "        if not pd.isnull(row['mostHandsomeMen']) and row['mostHandsomeMen'] != \"\":\n",
    "            grph.add((PeopleBeauty, GLO['mostHandsomeMen'], Literal(int(row['mostHandsomeMen']), datatype=XSD.integer)))\n",
    "\n",
    "        Country = URIRef(GLO[\"country_\" + str(index)])\n",
    "        grph.add((PeopleBeauty, GLO['belongsToCountry'], Country))\n",
    "\n",
    "grph.serialize(destination = os.path.join(current_path, 'PopulatedData', 'PeopleBeauty.ttl'), format = 'turtle')"
   ]
  },
  {
   "cell_type": "markdown",
   "metadata": {},
   "source": [
    "## Population"
   ]
  },
  {
   "cell_type": "code",
   "execution_count": 17,
   "metadata": {},
   "outputs": [],
   "source": [
    "populationDF = pd.read_csv(populationURL, sep=',', index_col='country')"
   ]
  },
  {
   "cell_type": "code",
   "execution_count": 18,
   "metadata": {},
   "outputs": [],
   "source": [
    "grph = Graph()\n",
    "\n",
    "grph.bind(\"xsd\", XSD)\n",
    "grph.bind(\"glo\", GLO)"
   ]
  },
  {
   "cell_type": "code",
   "execution_count": 19,
   "metadata": {},
   "outputs": [
    {
     "data": {
      "text/plain": [
       "<Graph identifier=N06e35f91958148ceabdba6e701917e35 (<class 'rdflib.graph.Graph'>)>"
      ]
     },
     "execution_count": 19,
     "metadata": {},
     "output_type": "execute_result"
    }
   ],
   "source": [
    "grph.add((GLO.Population, RDFS.subClassOf, GLO.Situation))\n",
    "\n",
    "for index, row in populationDF.iterrows():\n",
    "    if not pd.isnull(index) and index != \"\":\n",
    "        populationId = \"population_\" + str(index)\n",
    "        Population = URIRef(GLO[populationId])\n",
    "        grph.add((Population, RDF.type, GLO.Population))\n",
    "\n",
    "        if not pd.isnull(index) and index != \"\":\n",
    "            grph.add((Population, GLO['country'], Literal(index, datatype=XSD.string)))\n",
    "        if not pd.isnull(row['birth_rate']) and row['birth_rate'] != \"\":\n",
    "            grph.add((Population, GLO['birthRate'], Literal(row['birth_rate'], datatype=XSD.float)))\n",
    "        if not pd.isnull(row['death_rate']) and row['death_rate'] != \"\":\n",
    "            grph.add((Population, GLO['deathRate'], Literal(row['death_rate'], datatype=XSD.float)))\n",
    "        if not pd.isnull(row['life_expectancy']) and row['life_expectancy'] != \"\":\n",
    "            grph.add((Population, GLO['lifeExpectancy'], Literal(int(row['life_expectancy']), datatype=XSD.integer)))\n",
    "        if not pd.isnull(row['population_female']) and row['population_female'] != \"\":\n",
    "            grph.add((Population, GLO['populationFemale'], Literal(int(row['population_female']), datatype=XSD.integer)))\n",
    "        if not pd.isnull(row['population_male']) and row['population_male'] != \"\":\n",
    "            grph.add((Population, GLO['populationMale'], Literal(int(row['population_male']), datatype=XSD.integer)))\n",
    "        if not pd.isnull(row['population']) and row['population'] != \"\":\n",
    "            grph.add((Population, GLO['population'], Literal(int(row['population']), datatype=XSD.integer)))\n",
    "        if not pd.isnull(row['median_age']) and row['median_age'] != \"\":\n",
    "            grph.add((Population, GLO['medianAge'], Literal(row['median_age'], datatype=XSD.float)))\n",
    "\n",
    "        Country = URIRef(GLO[\"country_\" + str(index)])\n",
    "        grph.add((Population, GLO['belongsToCountry'], Country))\n",
    "\n",
    "grph.serialize(destination = os.path.join(current_path, 'PopulatedData', 'Population.ttl'), format = 'turtle')"
   ]
  },
  {
   "cell_type": "markdown",
   "metadata": {},
   "source": [
    "## Religion"
   ]
  },
  {
   "cell_type": "code",
   "execution_count": 20,
   "metadata": {},
   "outputs": [],
   "source": [
    "religionDF = pd.read_csv(religionURL, sep=',', index_col='country')"
   ]
  },
  {
   "cell_type": "code",
   "execution_count": 21,
   "metadata": {},
   "outputs": [],
   "source": [
    "grph = Graph()\n",
    "\n",
    "grph.bind(\"xsd\", XSD)\n",
    "grph.bind(\"glo\", GLO)"
   ]
  },
  {
   "cell_type": "code",
   "execution_count": 22,
   "metadata": {},
   "outputs": [
    {
     "data": {
      "text/plain": [
       "<Graph identifier=N6e656f764efb4e29bcc7bb4f3c296d3b (<class 'rdflib.graph.Graph'>)>"
      ]
     },
     "execution_count": 22,
     "metadata": {},
     "output_type": "execute_result"
    }
   ],
   "source": [
    "grph.add((GLO.Religion, RDFS.subClassOf, GLO.Situation))\n",
    "\n",
    "for index, row in religionDF.iterrows():\n",
    "    if not pd.isnull(index) and index != \"\":\n",
    "        religionId = \"religion_\" + str(index)\n",
    "        Religion = URIRef(GLO[religionId])\n",
    "        grph.add((Religion, RDF.type, GLO.Religion))\n",
    "\n",
    "        if not pd.isnull(index) and index != \"\":\n",
    "            grph.add((Religion, GLO['country'], Literal(index, datatype=XSD.string)))\n",
    "        if not pd.isnull(row['Year']) and row['Year'] != \"\":\n",
    "            grph.add((Religion, GLO['year'], Literal(row['Year'], datatype=XSD.gYear)))\n",
    "        if not pd.isnull(row['Sex']) and row['Sex'] != \"\":\n",
    "            grph.add((Religion, GLO['sex'], Literal(row['Sex'], datatype=XSD.string)))\n",
    "        if not pd.isnull(row['Religion']) and row['Religion'] != \"\":\n",
    "            grph.add((Religion, GLO['religion'], Literal(row['Religion'], datatype=XSD.string)))\n",
    "        if not pd.isnull(row['Value']) and row['Value'] != \"\":\n",
    "            grph.add((Religion, GLO['value'], Literal(int(row['Value']), datatype=XSD.integer)))\n",
    "        if not pd.isnull(row['Gallup2022NonReligious']) and row['Gallup2022NonReligious'] != \"\":\n",
    "            grph.add((Religion, GLO['nonReligious'], Literal(int(row['Gallup2022NonReligious']), datatype=XSD.integer)))\n",
    "        if not pd.isnull(row['Gallup2022Atheist']) and row['Gallup2022Atheist'] != \"\":\n",
    "            grph.add((Religion, GLO['atheist'], Literal(int(row['Gallup2022Atheist']), datatype=XSD.integer)))\n",
    "        if not pd.isnull(row['Gallup2017Combined']) and row['Gallup2017Combined'] != \"\":\n",
    "            grph.add((Religion, GLO['combined'], Literal(int(row['Gallup2017Combined']), datatype=XSD.integer)))\n",
    "        if not pd.isnull(row['Pew2010Unaffiliated']) and row['Pew2010Unaffiliated'] != \"\":\n",
    "            grph.add((Religion, GLO['unaffiliated'], Literal(row['Pew2010Unaffiliated'], datatype=XSD.float)))\n",
    "\n",
    "        Country = URIRef(GLO[\"country_\" + str(index)])\n",
    "        grph.add((Religion, GLO['belongsToCountry'], Country))\n",
    "\n",
    "grph.serialize(destination = os.path.join(current_path, 'PopulatedData', 'Religion.ttl'), format = 'turtle')"
   ]
  },
  {
   "cell_type": "markdown",
   "metadata": {},
   "source": [
    "## Travel"
   ]
  },
  {
   "cell_type": "code",
   "execution_count": 23,
   "metadata": {},
   "outputs": [],
   "source": [
    "travelDF = pd.read_csv(travelURL, sep=',', index_col='country')"
   ]
  },
  {
   "cell_type": "code",
   "execution_count": 24,
   "metadata": {},
   "outputs": [],
   "source": [
    "grph = Graph()\n",
    "\n",
    "grph.bind(\"xsd\", XSD)\n",
    "grph.bind(\"glo\", GLO)"
   ]
  },
  {
   "cell_type": "code",
   "execution_count": 25,
   "metadata": {},
   "outputs": [
    {
     "data": {
      "text/plain": [
       "<Graph identifier=N681b1847fe5e416e843dec26f782d8ab (<class 'rdflib.graph.Graph'>)>"
      ]
     },
     "execution_count": 25,
     "metadata": {},
     "output_type": "execute_result"
    }
   ],
   "source": [
    "grph.add((GLO.Travel, RDFS.subClassOf, GLO.Situation))\n",
    "\n",
    "for index, row in travelDF.iterrows():\n",
    "    if not pd.isnull(index) and index != \"\":\n",
    "        travelId = \"travel_\" + str(index)\n",
    "        Travel = URIRef(GLO[travelId])\n",
    "        grph.add((Travel, RDF.type, GLO.Travel))\n",
    "\n",
    "        if not pd.isnull(index) and index != \"\":\n",
    "            grph.add((Travel, GLO['country'], Literal(index, datatype=XSD.string)))\n",
    "        if not pd.isnull(row['MostVisitedNumOfArrivals']) and row['MostVisitedNumOfArrivals'] != \"\":\n",
    "            grph.add((Travel, GLO['mostVisitedNumOfArrivals'], Literal(int(row['MostVisitedNumOfArrivals']), datatype=XSD.integer)))\n",
    "        if not pd.isnull(row['MostVisitedDataYear']) and row['MostVisitedDataYear'] != \"\":\n",
    "            grph.add((Travel, GLO['mostVisitedDataYear'], Literal(row['MostVisitedDataYear'], datatype=XSD.gYear)))\n",
    "        if not pd.isnull(row['shareOfVisits']) and row['shareOfVisits'] != \"\":\n",
    "            grph.add((Travel, GLO['shareOfVisits'], Literal(row['shareOfVisits'], datatype=XSD.float)))\n",
    "        if not pd.isnull(row['WorstToVisitTravelAdvisoryQ42022']) and row['WorstToVisitTravelAdvisoryQ42022'] != \"\":\n",
    "            grph.add((Travel, GLO['worstToVisitTravel'], Literal(row['WorstToVisitTravelAdvisoryQ42022'], datatype=XSD.string)))\n",
    "        if not pd.isnull(row['WorstToVisitPossibleThreats']) and row['WorstToVisitPossibleThreats'] != \"\":\n",
    "            grph.add((Travel, GLO['worstToVisitPossibleThreats'], Literal(row['WorstToVisitPossibleThreats'], datatype=XSD.string)))\n",
    "\n",
    "        Country = URIRef(GLO[\"country_\" + str(index)])\n",
    "        grph.add((Travel, GLO['belongsToCountry'], Country))\n",
    "\n",
    "grph.serialize(destination = os.path.join(current_path, 'PopulatedData', 'Travel.ttl'), format = 'turtle')"
   ]
  }
 ],
 "metadata": {
  "kernelspec": {
   "display_name": "Python 3",
   "language": "python",
   "name": "python3"
  },
  "language_info": {
   "codemirror_mode": {
    "name": "ipython",
    "version": 3
   },
   "file_extension": ".py",
   "mimetype": "text/x-python",
   "name": "python",
   "nbconvert_exporter": "python",
   "pygments_lexer": "ipython3",
   "version": "3.12.0"
  }
 },
 "nbformat": 4,
 "nbformat_minor": 2
}

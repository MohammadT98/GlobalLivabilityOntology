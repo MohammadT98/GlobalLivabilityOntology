{
 "cells": [
  {
   "cell_type": "code",
   "execution_count": 1,
   "metadata": {},
   "outputs": [],
   "source": [
    "import pandas as pd\n",
    "import os\n",
    "from pathlib import Path\n",
    "\n",
    "from rdflib import Graph, Literal, RDF, URIRef, Namespace, BNode, OWL, RDFS\n",
    "\n",
    "from rdflib.namespace import XSD"
   ]
  },
  {
   "cell_type": "code",
   "execution_count": 5,
   "metadata": {},
   "outputs": [],
   "source": [
    "current_path = os.getcwd()\n",
    "\n",
    "countryURL = os.path.join(current_path, 'Datasets', 'Country.csv')\n",
    "\n",
    "accessibilityURL = os.path.join(current_path, 'Datasets', 'Accessibility.csv')\n",
    "conflictURL = os.path.join(current_path, 'Datasets', 'Conflict.csv')\n",
    "economyURL = os.path.join(current_path, 'Datasets', 'Economy.csv')\n",
    "educationURL = os.path.join(current_path, 'Datasets', 'Education.csv')\n",
    "freedomURL = os.path.join(current_path, 'Datasets', 'Freedom.csv')\n",
    "friendlinessURL = os.path.join(current_path, 'Datasets', 'Friendliness.csv')\n",
    "happinessURL = os.path.join(current_path, 'Datasets', 'Happiness.csv')\n",
    "hardworkingURL = os.path.join(current_path, 'Datasets', 'Hardworking.csv')\n",
    "naturalDisasterURL = os.path.join(current_path, 'Datasets', 'NaturalDisaster.csv')\n",
    "peopleBeautyURL = os.path.join(current_path, 'Datasets', 'PeopleBeauty.csv')\n",
    "populationURL = os.path.join(current_path, 'Datasets', 'Population.csv')\n",
    "religionURL = os.path.join(current_path, 'Datasets', 'Religion.csv')\n",
    "travelURL = os.path.join(current_path, 'Datasets', 'Travel.csv')\n",
    "\n",
    "outputName = 'countries-without-mcdonald-2024.csv'\n",
    "output = os.path.join(current_path, 'Datasets', outputName)"
   ]
  },
  {
   "cell_type": "code",
   "execution_count": 3,
   "metadata": {},
   "outputs": [],
   "source": [
    "CNS = Namespace(\"http://eulersharp.sourceforge.net/2003/03swap/countries#\")\n",
    "GLO = Namespace(\"http://www.dei.unipd.it/database2/LinkedinJobPosting#\")"
   ]
  },
  {
   "cell_type": "markdown",
   "metadata": {},
   "source": [
    "## Country"
   ]
  },
  {
   "cell_type": "code",
   "execution_count": 6,
   "metadata": {},
   "outputs": [],
   "source": [
    "country = pd.read_csv(countryURL, sep=',', index_col='country')"
   ]
  },
  {
   "cell_type": "code",
   "execution_count": 7,
   "metadata": {},
   "outputs": [],
   "source": [
    "grph = Graph()\n",
    "\n",
    "grph.bind(\"xsd\", XSD)\n",
    "grph.bind(\"countries\", CNS)\n",
    "grph.bind(\"lnjp\", GLO)"
   ]
  },
  {
   "cell_type": "code",
   "execution_count": null,
   "metadata": {},
   "outputs": [],
   "source": []
  },
  {
   "cell_type": "markdown",
   "metadata": {},
   "source": [
    "## Accessibility"
   ]
  },
  {
   "cell_type": "code",
   "execution_count": null,
   "metadata": {},
   "outputs": [],
   "source": [
    "country = pd.read_csv(accessibilityURL, sep=',', index_col='country')"
   ]
  },
  {
   "cell_type": "code",
   "execution_count": null,
   "metadata": {},
   "outputs": [],
   "source": [
    "grph = Graph()\n",
    "\n",
    "grph.bind(\"xsd\", XSD)\n",
    "grph.bind(\"countries\", CNS)\n",
    "grph.bind(\"lnjp\", GLO)"
   ]
  },
  {
   "cell_type": "code",
   "execution_count": null,
   "metadata": {},
   "outputs": [],
   "source": []
  },
  {
   "cell_type": "markdown",
   "metadata": {},
   "source": [
    "## Conflict"
   ]
  },
  {
   "cell_type": "code",
   "execution_count": null,
   "metadata": {},
   "outputs": [],
   "source": [
    "country = pd.read_csv(conflictURL, sep=',', index_col='country')"
   ]
  },
  {
   "cell_type": "code",
   "execution_count": null,
   "metadata": {},
   "outputs": [],
   "source": [
    "grph = Graph()\n",
    "\n",
    "grph.bind(\"xsd\", XSD)\n",
    "grph.bind(\"countries\", CNS)\n",
    "grph.bind(\"lnjp\", GLO)"
   ]
  },
  {
   "cell_type": "code",
   "execution_count": null,
   "metadata": {},
   "outputs": [],
   "source": []
  },
  {
   "cell_type": "markdown",
   "metadata": {},
   "source": [
    "## Economy"
   ]
  },
  {
   "cell_type": "code",
   "execution_count": null,
   "metadata": {},
   "outputs": [],
   "source": [
    "country = pd.read_csv(economyURL, sep=',', index_col='country')"
   ]
  },
  {
   "cell_type": "code",
   "execution_count": null,
   "metadata": {},
   "outputs": [],
   "source": [
    "grph = Graph()\n",
    "\n",
    "grph.bind(\"xsd\", XSD)\n",
    "grph.bind(\"countries\", CNS)\n",
    "grph.bind(\"lnjp\", GLO)"
   ]
  },
  {
   "cell_type": "code",
   "execution_count": null,
   "metadata": {},
   "outputs": [],
   "source": []
  },
  {
   "cell_type": "markdown",
   "metadata": {},
   "source": [
    "## Education"
   ]
  },
  {
   "cell_type": "code",
   "execution_count": null,
   "metadata": {},
   "outputs": [],
   "source": [
    "country = pd.read_csv(educationURL, sep=',', index_col='country')"
   ]
  },
  {
   "cell_type": "code",
   "execution_count": null,
   "metadata": {},
   "outputs": [],
   "source": [
    "grph = Graph()\n",
    "\n",
    "grph.bind(\"xsd\", XSD)\n",
    "grph.bind(\"countries\", CNS)\n",
    "grph.bind(\"lnjp\", GLO)"
   ]
  },
  {
   "cell_type": "code",
   "execution_count": null,
   "metadata": {},
   "outputs": [],
   "source": []
  },
  {
   "cell_type": "markdown",
   "metadata": {},
   "source": [
    "## Freedom"
   ]
  },
  {
   "cell_type": "code",
   "execution_count": null,
   "metadata": {},
   "outputs": [],
   "source": [
    "country = pd.read_csv(freedomURL, sep=',', index_col='country')"
   ]
  },
  {
   "cell_type": "code",
   "execution_count": null,
   "metadata": {},
   "outputs": [],
   "source": [
    "grph = Graph()\n",
    "\n",
    "grph.bind(\"xsd\", XSD)\n",
    "grph.bind(\"countries\", CNS)\n",
    "grph.bind(\"lnjp\", GLO)"
   ]
  },
  {
   "cell_type": "code",
   "execution_count": null,
   "metadata": {},
   "outputs": [],
   "source": []
  },
  {
   "cell_type": "markdown",
   "metadata": {},
   "source": [
    "## Friendliness"
   ]
  },
  {
   "cell_type": "code",
   "execution_count": null,
   "metadata": {},
   "outputs": [],
   "source": [
    "country = pd.read_csv(friendlinessURL, sep=',', index_col='country')"
   ]
  },
  {
   "cell_type": "code",
   "execution_count": null,
   "metadata": {},
   "outputs": [],
   "source": [
    "grph = Graph()\n",
    "\n",
    "grph.bind(\"xsd\", XSD)\n",
    "grph.bind(\"countries\", CNS)\n",
    "grph.bind(\"lnjp\", GLO)"
   ]
  },
  {
   "cell_type": "code",
   "execution_count": null,
   "metadata": {},
   "outputs": [],
   "source": []
  },
  {
   "cell_type": "markdown",
   "metadata": {},
   "source": [
    "## Happiness"
   ]
  },
  {
   "cell_type": "code",
   "execution_count": null,
   "metadata": {},
   "outputs": [],
   "source": [
    "country = pd.read_csv(happinessURL, sep=',', index_col='country')"
   ]
  },
  {
   "cell_type": "code",
   "execution_count": null,
   "metadata": {},
   "outputs": [],
   "source": [
    "grph = Graph()\n",
    "\n",
    "grph.bind(\"xsd\", XSD)\n",
    "grph.bind(\"countries\", CNS)\n",
    "grph.bind(\"lnjp\", GLO)"
   ]
  },
  {
   "cell_type": "code",
   "execution_count": null,
   "metadata": {},
   "outputs": [],
   "source": []
  },
  {
   "cell_type": "markdown",
   "metadata": {},
   "source": [
    "## Hardworking"
   ]
  },
  {
   "cell_type": "code",
   "execution_count": null,
   "metadata": {},
   "outputs": [],
   "source": [
    "country = pd.read_csv(hardworkingURL, sep=',', index_col='country')"
   ]
  },
  {
   "cell_type": "code",
   "execution_count": null,
   "metadata": {},
   "outputs": [],
   "source": [
    "grph = Graph()\n",
    "\n",
    "grph.bind(\"xsd\", XSD)\n",
    "grph.bind(\"countries\", CNS)\n",
    "grph.bind(\"lnjp\", GLO)"
   ]
  },
  {
   "cell_type": "code",
   "execution_count": null,
   "metadata": {},
   "outputs": [],
   "source": []
  },
  {
   "cell_type": "markdown",
   "metadata": {},
   "source": [
    "## NaturalDisaster"
   ]
  },
  {
   "cell_type": "code",
   "execution_count": null,
   "metadata": {},
   "outputs": [],
   "source": [
    "country = pd.read_csv(naturalDisasterURL, sep=',', index_col='country')"
   ]
  },
  {
   "cell_type": "code",
   "execution_count": null,
   "metadata": {},
   "outputs": [],
   "source": [
    "grph = Graph()\n",
    "\n",
    "grph.bind(\"xsd\", XSD)\n",
    "grph.bind(\"countries\", CNS)\n",
    "grph.bind(\"lnjp\", GLO)"
   ]
  },
  {
   "cell_type": "code",
   "execution_count": null,
   "metadata": {},
   "outputs": [],
   "source": []
  },
  {
   "cell_type": "markdown",
   "metadata": {},
   "source": [
    "## PeopleBeauty"
   ]
  },
  {
   "cell_type": "code",
   "execution_count": null,
   "metadata": {},
   "outputs": [],
   "source": [
    "country = pd.read_csv(peopleBeautyURL, sep=',', index_col='country')"
   ]
  },
  {
   "cell_type": "code",
   "execution_count": null,
   "metadata": {},
   "outputs": [],
   "source": [
    "grph = Graph()\n",
    "\n",
    "grph.bind(\"xsd\", XSD)\n",
    "grph.bind(\"countries\", CNS)\n",
    "grph.bind(\"lnjp\", GLO)"
   ]
  },
  {
   "cell_type": "code",
   "execution_count": null,
   "metadata": {},
   "outputs": [],
   "source": []
  },
  {
   "cell_type": "markdown",
   "metadata": {},
   "source": [
    "## Population"
   ]
  },
  {
   "cell_type": "code",
   "execution_count": null,
   "metadata": {},
   "outputs": [],
   "source": [
    "country = pd.read_csv(populationURL, sep=',', index_col='country')"
   ]
  },
  {
   "cell_type": "code",
   "execution_count": null,
   "metadata": {},
   "outputs": [],
   "source": [
    "grph = Graph()\n",
    "\n",
    "grph.bind(\"xsd\", XSD)\n",
    "grph.bind(\"countries\", CNS)\n",
    "grph.bind(\"lnjp\", GLO)"
   ]
  },
  {
   "cell_type": "code",
   "execution_count": null,
   "metadata": {},
   "outputs": [],
   "source": []
  },
  {
   "cell_type": "markdown",
   "metadata": {},
   "source": [
    "## Religion"
   ]
  },
  {
   "cell_type": "code",
   "execution_count": null,
   "metadata": {},
   "outputs": [],
   "source": [
    "country = pd.read_csv(religionURL, sep=',', index_col='country')"
   ]
  },
  {
   "cell_type": "code",
   "execution_count": null,
   "metadata": {},
   "outputs": [],
   "source": [
    "grph = Graph()\n",
    "\n",
    "grph.bind(\"xsd\", XSD)\n",
    "grph.bind(\"countries\", CNS)\n",
    "grph.bind(\"lnjp\", GLO)"
   ]
  },
  {
   "cell_type": "code",
   "execution_count": null,
   "metadata": {},
   "outputs": [],
   "source": []
  },
  {
   "cell_type": "markdown",
   "metadata": {},
   "source": [
    "## Travel"
   ]
  },
  {
   "cell_type": "code",
   "execution_count": null,
   "metadata": {},
   "outputs": [],
   "source": [
    "country = pd.read_csv(travelURL, sep=',', index_col='country')"
   ]
  },
  {
   "cell_type": "code",
   "execution_count": null,
   "metadata": {},
   "outputs": [],
   "source": [
    "grph = Graph()\n",
    "\n",
    "grph.bind(\"xsd\", XSD)\n",
    "grph.bind(\"countries\", CNS)\n",
    "grph.bind(\"lnjp\", GLO)"
   ]
  },
  {
   "cell_type": "code",
   "execution_count": null,
   "metadata": {},
   "outputs": [],
   "source": []
  }
 ],
 "metadata": {
  "kernelspec": {
   "display_name": "Python 3",
   "language": "python",
   "name": "python3"
  },
  "language_info": {
   "codemirror_mode": {
    "name": "ipython",
    "version": 3
   },
   "file_extension": ".py",
   "mimetype": "text/x-python",
   "name": "python",
   "nbconvert_exporter": "python",
   "pygments_lexer": "ipython3",
   "version": "3.12.0"
  }
 },
 "nbformat": 4,
 "nbformat_minor": 2
}

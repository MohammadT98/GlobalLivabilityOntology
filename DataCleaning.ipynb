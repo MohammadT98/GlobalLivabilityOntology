{
 "cells": [
  {
   "cell_type": "markdown",
   "metadata": {},
   "source": [
    "## Convert Country Names to ISO 3166-1 Alpha-2 Codes"
   ]
  },
  {
   "cell_type": "code",
   "execution_count": 12,
   "metadata": {},
   "outputs": [],
   "source": [
    "import pandas as pd\n",
    "import pycountry\n",
    "countries0 = pd.read_csv('Countries.csv')\n",
    "\n",
    "df = pd.DataFrame(countries0)\n",
    "\n",
    "# convert country names to ISO 3166-1 alpha-2 codes\n",
    "def convert_to_iso2(country_name):\n",
    "    try:\n",
    "        country = pycountry.countries.get(name=country_name)\n",
    "        if country:\n",
    "            return country.alpha_2\n",
    "        else:\n",
    "            return \"Not Found\"\n",
    "    except Exception as e:\n",
    "        return str(e)\n",
    "\n",
    "df['ISO2'] = df['country'].apply(convert_to_iso2)\n",
    "\n",
    "df.to_csv('Countries.csv', index=False)"
   ]
  },
  {
   "cell_type": "markdown",
   "metadata": {},
   "source": [
    "## Merge Countries and Languages DataFrames"
   ]
  },
  {
   "cell_type": "code",
   "execution_count": 3,
   "metadata": {},
   "outputs": [],
   "source": [
    "import pandas as pd\n",
    "\n",
    "countries0 = pd.read_csv('Countries.csv')\n",
    "countries1 = pd.read_csv('Languages.csv')\n",
    "\n",
    "mergedTable = pd.merge(countries0, countries1[['abbreviation', 'official language']], on='abbreviation', how='left')\n",
    "\n",
    "mergedTable.to_csv('Countries.csv', index=False)"
   ]
  }
 ],
 "metadata": {
  "kernelspec": {
   "display_name": "Python 3",
   "language": "python",
   "name": "python3"
  },
  "language_info": {
   "codemirror_mode": {
    "name": "ipython",
    "version": 3
   },
   "file_extension": ".py",
   "mimetype": "text/x-python",
   "name": "python",
   "nbconvert_exporter": "python",
   "pygments_lexer": "ipython3",
   "version": "3.12.0"
  }
 },
 "nbformat": 4,
 "nbformat_minor": 2
}
